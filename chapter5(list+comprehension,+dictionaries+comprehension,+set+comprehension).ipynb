{
 "cells": [
  {
   "cell_type": "markdown",
   "metadata": {},
   "source": [
    "# list comprehension "
   ]
  },
  {
   "cell_type": "markdown",
   "metadata": {},
   "source": [
    "with the help of list comprehension we can create list in one line"
   ]
  },
  {
   "cell_type": "code",
   "execution_count": 1,
   "metadata": {},
   "outputs": [
    {
     "name": "stdout",
     "output_type": "stream",
     "text": [
      "[1, 4, 9, 16, 25, 36, 49, 64, 81, 100]\n"
     ]
    }
   ],
   "source": [
    "# create a list of square from 1 to 11\n",
    "square=[]\n",
    "for i in range(1,11):\n",
    "    square.append(i**2)\n",
    "print(square)    "
   ]
  },
  {
   "cell_type": "code",
   "execution_count": 2,
   "metadata": {},
   "outputs": [
    {
     "name": "stdout",
     "output_type": "stream",
     "text": [
      "[1, 4, 9, 16, 25, 36, 49, 64, 81, 100]\n"
     ]
    }
   ],
   "source": [
    "# using list comprehension\n",
    "square=[i**2 for i in range(1,11)]\n",
    "print(square)"
   ]
  },
  {
   "cell_type": "code",
   "execution_count": 3,
   "metadata": {},
   "outputs": [
    {
     "name": "stdout",
     "output_type": "stream",
     "text": [
      "[-1, -2, -3, -4, -5, -6, -7, -8, -9, -10]\n"
     ]
    }
   ],
   "source": [
    "# create negative of number\n",
    "negative=[]\n",
    "for i in range(1,11):\n",
    "    negative.append(-i)\n",
    "print(negative)    "
   ]
  },
  {
   "cell_type": "code",
   "execution_count": 5,
   "metadata": {},
   "outputs": [
    {
     "name": "stdout",
     "output_type": "stream",
     "text": [
      "[-1, -2, -3, -4, -5, -6, -7, -8, -9, -10]\n"
     ]
    }
   ],
   "source": [
    "# using list comprehension\n",
    "negative=[-i for i in range(1,11)]\n",
    "print(negative)"
   ]
  },
  {
   "cell_type": "code",
   "execution_count": 6,
   "metadata": {},
   "outputs": [
    {
     "name": "stdout",
     "output_type": "stream",
     "text": [
      "['m', 'd', 'r', 'r']\n"
     ]
    }
   ],
   "source": [
    "# print first letter of multiple names\n",
    "names=['manni','deol','raja','ram']\n",
    "new_list=[]\n",
    "for name in names:\n",
    "    new_list.append(name[0])\n",
    "print(new_list)    "
   ]
  },
  {
   "cell_type": "code",
   "execution_count": 8,
   "metadata": {},
   "outputs": [
    {
     "name": "stdout",
     "output_type": "stream",
     "text": [
      "['m', 'd', 'r', 'r']\n"
     ]
    }
   ],
   "source": [
    "# using list comprehension\n",
    "names=['manni','deol','raja','ram']\n",
    "new_list=[i[0] for i in names]\n",
    "print(new_list)"
   ]
  },
  {
   "cell_type": "raw",
   "metadata": {},
   "source": [
    "q1> define a function which take list of strings\n",
    "and return list containing reverse of each string"
   ]
  },
  {
   "cell_type": "code",
   "execution_count": 13,
   "metadata": {},
   "outputs": [
    {
     "name": "stdout",
     "output_type": "stream",
     "text": [
      "['innam', 'loed', 'ajar', 'mar']\n"
     ]
    }
   ],
   "source": [
    "# using list comprehension\n",
    "def reverse_string(l1):\n",
    "    new_list=[i[::-1] for i in l1]\n",
    "    return new_list\n",
    "l1=['manni','deol','raja','ram']\n",
    "print(reverse_string(l1))"
   ]
  },
  {
   "cell_type": "markdown",
   "metadata": {},
   "source": [
    "# list comprehension with if st."
   ]
  },
  {
   "cell_type": "code",
   "execution_count": 15,
   "metadata": {},
   "outputs": [
    {
     "name": "stdout",
     "output_type": "stream",
     "text": [
      "[2, 4, 6, 8]\n",
      "[1, 3, 5, 7, 9]\n"
     ]
    }
   ],
   "source": [
    "# [1,2,3,4,5,6,7,8,9]\n",
    "# output:- [2,4,6,8]\n",
    "# [1,3,5,7,9]\n",
    "even_list=[]\n",
    "odd_list=[]\n",
    "for i in range(1,10):\n",
    "    if i%2==0:\n",
    "        even_list.append(i)\n",
    "    else:\n",
    "        odd_list.append(i)\n",
    "print(even_list)\n",
    "print(odd_list)"
   ]
  },
  {
   "cell_type": "code",
   "execution_count": 16,
   "metadata": {},
   "outputs": [
    {
     "name": "stdout",
     "output_type": "stream",
     "text": [
      "[2, 4, 6, 8]\n",
      "[1, 3, 5, 7, 9]\n"
     ]
    }
   ],
   "source": [
    "# using list comprehension\n",
    "even_list=[i for i in range(1,10) if i%2==0]\n",
    "odd_list=[i for i in range(1,10) if i%2!=0]\n",
    "print(even_list)\n",
    "print(odd_list)"
   ]
  },
  {
   "cell_type": "code",
   "execution_count": 18,
   "metadata": {},
   "outputs": [
    {
     "name": "stdout",
     "output_type": "stream",
     "text": [
      "['1', '2', '3', '1.0']\n"
     ]
    }
   ],
   "source": [
    "# [1,2,3,[1,2,3],1.0,'manni','deol','ram']\n",
    "#output=['1','2','3','1.0']\n",
    "l1=[1,2,3,[1,2,3],1.0,'manni','deol','ram']\n",
    "int_list=[str(i) for i in l1 if type(i)==int or type(i)==float]\n",
    "print(int_list)"
   ]
  },
  {
   "cell_type": "markdown",
   "metadata": {
    "collapsed": true
   },
   "source": [
    "# nested list using list comprehension"
   ]
  },
  {
   "cell_type": "code",
   "execution_count": 5,
   "metadata": {},
   "outputs": [
    {
     "name": "stdout",
     "output_type": "stream",
     "text": [
      "[[1, 2, 3], [1, 2, 3], [1, 2, 3]]\n"
     ]
    }
   ],
   "source": [
    "#[[1,2,3],[1,2,3],[1,2,3]]\n",
    "nested_list=[[i for i in range(1,4)] for j in range(3)] # (3)--->(1,4)\n",
    "print(nested_list)"
   ]
  },
  {
   "cell_type": "code",
   "execution_count": 6,
   "metadata": {},
   "outputs": [
    {
     "name": "stdout",
     "output_type": "stream",
     "text": [
      "[[1, 2, 3], [1, 2, 3], [1, 2, 3]]\n"
     ]
    }
   ],
   "source": [
    "nested_list=[]\n",
    "for j in range(3):\n",
    "    nested_list.append([1,2,3])\n",
    "print(nested_list)    "
   ]
  },
  {
   "cell_type": "markdown",
   "metadata": {},
   "source": [
    "# dictionaries comprehension"
   ]
  },
  {
   "cell_type": "code",
   "execution_count": 7,
   "metadata": {},
   "outputs": [
    {
     "name": "stdout",
     "output_type": "stream",
     "text": [
      "{1: 1, 2: 4, 3: 9, 4: 16, 5: 25, 6: 36, 7: 49, 8: 64, 9: 81}\n"
     ]
    }
   ],
   "source": [
    "#{1:1,2:4,3:9,4:16}\n",
    "square_dict={i:i**2 for i in range(1,10)}\n",
    "print(square_dict)"
   ]
  },
  {
   "cell_type": "code",
   "execution_count": 12,
   "metadata": {},
   "outputs": [
    {
     "name": "stdout",
     "output_type": "stream",
     "text": [
      "{'square of 1': 1, 'square of 2': 4, 'square of 3': 9, 'square of 4': 16, 'square of 5': 25, 'square of 6': 36, 'square of 7': 49, 'square of 8': 64, 'square of 9': 81}\n"
     ]
    }
   ],
   "source": [
    "square_dict={f\"square of {i}\": i**2 for i in range(1,10)}\n",
    "print(square_dict)"
   ]
  },
  {
   "cell_type": "code",
   "execution_count": 14,
   "metadata": {},
   "outputs": [
    {
     "name": "stdout",
     "output_type": "stream",
     "text": [
      "square of 1 is 1\n",
      "square of 2 is 4\n",
      "square of 3 is 9\n",
      "square of 4 is 16\n",
      "square of 5 is 25\n",
      "square of 6 is 36\n",
      "square of 7 is 49\n",
      "square of 8 is 64\n",
      "square of 9 is 81\n"
     ]
    }
   ],
   "source": [
    "square_dict={f\"square of {i}\": i**2 for i in range(1,10)}\n",
    "for key , value in square_dict.items():\n",
    "    print(f'{key } is {value}')"
   ]
  },
  {
   "cell_type": "code",
   "execution_count": 15,
   "metadata": {},
   "outputs": [
    {
     "name": "stdout",
     "output_type": "stream",
     "text": [
      "{'m': 1, 'a': 1, 'n': 2, 'i': 1}\n"
     ]
    }
   ],
   "source": [
    "string='manni'\n",
    "word_count={i:string.count(i) for i in string}\n",
    "print(word_count)"
   ]
  },
  {
   "cell_type": "code",
   "execution_count": 16,
   "metadata": {},
   "outputs": [
    {
     "name": "stdout",
     "output_type": "stream",
     "text": [
      "{1: 'odd', 2: 'even', 3: 'odd', 4: 'even', 5: 'odd', 6: 'even', 7: 'odd', 8: 'even', 9: 'odd', 10: 'even'}\n"
     ]
    }
   ],
   "source": [
    "# dictionaries comprehension with if else\n",
    "#d={1:'odd',2:'even'}\n",
    "even_odd_dict={i:('even'if i%2==0 else 'odd') for i in range(1,11) }\n",
    "print(even_odd_dict)"
   ]
  },
  {
   "cell_type": "markdown",
   "metadata": {},
   "source": [
    "# set comprehension"
   ]
  },
  {
   "cell_type": "code",
   "execution_count": 17,
   "metadata": {},
   "outputs": [
    {
     "name": "stdout",
     "output_type": "stream",
     "text": [
      "[1, 4, 9, 16, 25, 36, 49, 64, 81]\n"
     ]
    }
   ],
   "source": [
    "s=[k**2 for k in range(1,10)]\n",
    "print(s)"
   ]
  },
  {
   "cell_type": "code",
   "execution_count": null,
   "metadata": {
    "collapsed": true
   },
   "outputs": [],
   "source": []
  }
 ],
 "metadata": {
  "kernelspec": {
   "display_name": "Python 3",
   "language": "python",
   "name": "python3"
  },
  "language_info": {
   "codemirror_mode": {
    "name": "ipython",
    "version": 3
   },
   "file_extension": ".py",
   "mimetype": "text/x-python",
   "name": "python",
   "nbconvert_exporter": "python",
   "pygments_lexer": "ipython3",
   "version": "3.6.1"
  }
 },
 "nbformat": 4,
 "nbformat_minor": 2
}
