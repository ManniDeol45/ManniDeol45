{
 "cells": [
  {
   "cell_type": "markdown",
   "metadata": {},
   "source": [
    "# make flexible function\n",
    "# * args\n",
    "# *operators"
   ]
  },
  {
   "cell_type": "code",
   "execution_count": 2,
   "metadata": {},
   "outputs": [
    {
     "name": "stdout",
     "output_type": "stream",
     "text": [
      "(1, 2, 3, 4, 5)\n",
      "<class 'tuple'>\n"
     ]
    }
   ],
   "source": [
    "# * args\n",
    "def func(*args):\n",
    "    print(args)\n",
    "    print(type(args))\n",
    "func(1,2,3,4,5) # you can pass any number of argument    "
   ]
  },
  {
   "cell_type": "code",
   "execution_count": 3,
   "metadata": {},
   "outputs": [
    {
     "name": "stdout",
     "output_type": "stream",
     "text": [
      "21\n"
     ]
    }
   ],
   "source": [
    "# sum of any number of number\n",
    "def total_sum(* args):\n",
    "    total=0\n",
    "    for i in args:\n",
    "        total+=i\n",
    "    return total\n",
    "print(total_sum(1,2,3,4,5,6))"
   ]
  },
  {
   "cell_type": "code",
   "execution_count": 4,
   "metadata": {},
   "outputs": [
    {
     "name": "stdout",
     "output_type": "stream",
     "text": [
      "()\n",
      "<class 'tuple'>\n"
     ]
    }
   ],
   "source": [
    "def func(*args):\n",
    "    print(args)\n",
    "    print(type(args))\n",
    "func() # if you do not pass anything then it won't produce any error"
   ]
  },
  {
   "cell_type": "markdown",
   "metadata": {},
   "source": [
    "# *args with normal parameter"
   ]
  },
  {
   "cell_type": "code",
   "execution_count": 5,
   "metadata": {},
   "outputs": [
    {
     "ename": "TypeError",
     "evalue": "func() missing 1 required positional argument: 'num'",
     "output_type": "error",
     "traceback": [
      "\u001b[1;31m---------------------------------------------------------------------------\u001b[0m",
      "\u001b[1;31mTypeError\u001b[0m                                 Traceback (most recent call last)",
      "\u001b[1;32m<ipython-input-5-b591181a7bef>\u001b[0m in \u001b[0;36m<module>\u001b[1;34m()\u001b[0m\n\u001b[0;32m      2\u001b[0m     \u001b[0mprint\u001b[0m\u001b[1;33m(\u001b[0m\u001b[0margs\u001b[0m\u001b[1;33m)\u001b[0m\u001b[1;33m\u001b[0m\u001b[0m\n\u001b[0;32m      3\u001b[0m     \u001b[0mprint\u001b[0m\u001b[1;33m(\u001b[0m\u001b[0mtype\u001b[0m\u001b[1;33m(\u001b[0m\u001b[0margs\u001b[0m\u001b[1;33m)\u001b[0m\u001b[1;33m)\u001b[0m\u001b[1;33m\u001b[0m\u001b[0m\n\u001b[1;32m----> 4\u001b[1;33m \u001b[0mfunc\u001b[0m\u001b[1;33m(\u001b[0m\u001b[1;33m)\u001b[0m\u001b[1;33m\u001b[0m\u001b[0m\n\u001b[0m",
      "\u001b[1;31mTypeError\u001b[0m: func() missing 1 required positional argument: 'num'"
     ]
    }
   ],
   "source": [
    "def func(num,*args):\n",
    "    print(args)\n",
    "    print(type(args))\n",
    "func()"
   ]
  },
  {
   "cell_type": "code",
   "execution_count": 7,
   "metadata": {},
   "outputs": [
    {
     "name": "stdout",
     "output_type": "stream",
     "text": [
      "1\n",
      "()\n",
      "<class 'tuple'>\n"
     ]
    }
   ],
   "source": [
    "def func(num,*args):\n",
    "    print(num)\n",
    "    print(args)\n",
    "    print(type(args))\n",
    "func(1) # you have to pass at least one argument otherwise you get error"
   ]
  },
  {
   "cell_type": "code",
   "execution_count": 8,
   "metadata": {},
   "outputs": [
    {
     "ename": "SyntaxError",
     "evalue": "invalid syntax (<ipython-input-8-d71aa8ff273e>, line 1)",
     "output_type": "error",
     "traceback": [
      "\u001b[1;36m  File \u001b[1;32m\"<ipython-input-8-d71aa8ff273e>\"\u001b[1;36m, line \u001b[1;32m1\u001b[0m\n\u001b[1;33m    def func(*args,num)\u001b[0m\n\u001b[1;37m                       ^\u001b[0m\n\u001b[1;31mSyntaxError\u001b[0m\u001b[1;31m:\u001b[0m invalid syntax\n"
     ]
    }
   ],
   "source": [
    "def func(*args,num)\n",
    "    print(num)\n",
    "    print(args)\n",
    "    print(type(args))\n",
    "func(1,2,3,4,5)"
   ]
  },
  {
   "cell_type": "markdown",
   "metadata": {},
   "source": [
    "#YOU must write args at last parameter in function. if it written before any parameter then it will receive all argument so, another parameter present inside function will not receive anything hence error produce. in above eg: args receive all argument hence not get any argument so error produce."
   ]
  },
  {
   "cell_type": "code",
   "execution_count": 10,
   "metadata": {},
   "outputs": [
    {
     "ename": "TypeError",
     "evalue": "unsupported operand type(s) for +=: 'int' and 'tuple'",
     "output_type": "error",
     "traceback": [
      "\u001b[1;31m---------------------------------------------------------------------------\u001b[0m",
      "\u001b[1;31mTypeError\u001b[0m                                 Traceback (most recent call last)",
      "\u001b[1;32m<ipython-input-10-4e30f2e0fce2>\u001b[0m in \u001b[0;36m<module>\u001b[1;34m()\u001b[0m\n\u001b[0;32m      4\u001b[0m         \u001b[0mtotal\u001b[0m\u001b[1;33m+=\u001b[0m\u001b[0mi\u001b[0m\u001b[1;33m\u001b[0m\u001b[0m\n\u001b[0;32m      5\u001b[0m     \u001b[0mprint\u001b[0m\u001b[1;33m(\u001b[0m \u001b[0mtotal\u001b[0m\u001b[1;33m)\u001b[0m\u001b[1;33m\u001b[0m\u001b[0m\n\u001b[1;32m----> 6\u001b[1;33m \u001b[0mtotal_sum\u001b[0m\u001b[1;33m(\u001b[0m\u001b[1;33m(\u001b[0m\u001b[1;36m1\u001b[0m\u001b[1;33m,\u001b[0m\u001b[1;36m2\u001b[0m\u001b[1;33m,\u001b[0m\u001b[1;36m3\u001b[0m\u001b[1;33m,\u001b[0m\u001b[1;36m4\u001b[0m\u001b[1;33m,\u001b[0m\u001b[1;36m5\u001b[0m\u001b[1;33m,\u001b[0m\u001b[1;36m6\u001b[0m\u001b[1;33m)\u001b[0m\u001b[1;33m)\u001b[0m\u001b[1;33m\u001b[0m\u001b[0m\n\u001b[0m",
      "\u001b[1;32m<ipython-input-10-4e30f2e0fce2>\u001b[0m in \u001b[0;36mtotal_sum\u001b[1;34m(*args)\u001b[0m\n\u001b[0;32m      2\u001b[0m     \u001b[0mtotal\u001b[0m\u001b[1;33m=\u001b[0m\u001b[1;33m(\u001b[0m\u001b[1;36m0\u001b[0m\u001b[1;33m)\u001b[0m\u001b[1;33m\u001b[0m\u001b[0m\n\u001b[0;32m      3\u001b[0m     \u001b[1;32mfor\u001b[0m \u001b[0mi\u001b[0m \u001b[1;32min\u001b[0m \u001b[0margs\u001b[0m\u001b[1;33m:\u001b[0m\u001b[1;33m\u001b[0m\u001b[0m\n\u001b[1;32m----> 4\u001b[1;33m         \u001b[0mtotal\u001b[0m\u001b[1;33m+=\u001b[0m\u001b[0mi\u001b[0m\u001b[1;33m\u001b[0m\u001b[0m\n\u001b[0m\u001b[0;32m      5\u001b[0m     \u001b[0mprint\u001b[0m\u001b[1;33m(\u001b[0m \u001b[0mtotal\u001b[0m\u001b[1;33m)\u001b[0m\u001b[1;33m\u001b[0m\u001b[0m\n\u001b[0;32m      6\u001b[0m \u001b[0mtotal_sum\u001b[0m\u001b[1;33m(\u001b[0m\u001b[1;33m(\u001b[0m\u001b[1;36m1\u001b[0m\u001b[1;33m,\u001b[0m\u001b[1;36m2\u001b[0m\u001b[1;33m,\u001b[0m\u001b[1;36m3\u001b[0m\u001b[1;33m,\u001b[0m\u001b[1;36m4\u001b[0m\u001b[1;33m,\u001b[0m\u001b[1;36m5\u001b[0m\u001b[1;33m,\u001b[0m\u001b[1;36m6\u001b[0m\u001b[1;33m)\u001b[0m\u001b[1;33m)\u001b[0m\u001b[1;33m\u001b[0m\u001b[0m\n",
      "\u001b[1;31mTypeError\u001b[0m: unsupported operand type(s) for +=: 'int' and 'tuple'"
     ]
    }
   ],
   "source": [
    "def total_sum(* args):\n",
    "    total=0\n",
    "    for i in args:\n",
    "        total+=i\n",
    "    print( total)\n",
    "total_sum((1,2,3,4,5,6)) # [1,2,3,4,5,6] you get same error"
   ]
  },
  {
   "cell_type": "markdown",
   "metadata": {},
   "source": [
    " # to solve above error \n",
    "# * args as argument"
   ]
  },
  {
   "cell_type": "code",
   "execution_count": 11,
   "metadata": {},
   "outputs": [
    {
     "name": "stdout",
     "output_type": "stream",
     "text": [
      "15\n"
     ]
    }
   ],
   "source": [
    "def total_sum(* args):\n",
    "    total=0\n",
    "    for i in args:\n",
    "        total+=i\n",
    "    print( total)\n",
    "nums=((1,2,3,4,5))#[1,2,3,4,5]  \n",
    "total_sum(*nums) # unpack the tuple i.e (1,2,3,4,5) becomes 1 2 3 4 5 as a seperate int argument"
   ]
  },
  {
   "cell_type": "raw",
   "metadata": {
    "collapsed": true
   },
   "source": [
    "q1> define a function\n",
    "input\n",
    "num,iterable(tuple,list) containing numbers as argument\n",
    "eg:-nums[1,2,3]\n",
    "    to_power(3,*nums)\n",
    "    output:-list--->[1**3,8,27]\n",
    "if user did not pass any argument then give user a message hey you did not pass any argument\n",
    "else return list\n",
    "# use list comprehension"
   ]
  },
  {
   "cell_type": "code",
   "execution_count": 6,
   "metadata": {},
   "outputs": [
    {
     "name": "stdout",
     "output_type": "stream",
     "text": [
      "[1, 16, 81, 256, 625]\n"
     ]
    }
   ],
   "source": [
    "def to_power(n,*nums):\n",
    "    list1=[]\n",
    "    if(len(nums))==0:\n",
    "        print('hey you did not pass any argument')\n",
    "    else :  \n",
    "        list1=[i**n for i in nums]\n",
    "    print(list1)\n",
    "list1=[1,2,3,4,5]\n",
    "to_power(4,*list1)"
   ]
  },
  {
   "cell_type": "code",
   "execution_count": 5,
   "metadata": {},
   "outputs": [
    {
     "name": "stdout",
     "output_type": "stream",
     "text": [
      "you did not pass any argument\n"
     ]
    }
   ],
   "source": [
    "def to_power(n,*nums):\n",
    "    if nums:\n",
    "        return [i**n for i in nums]\n",
    "    else :  \n",
    "        return 'you did not pass any argument'\n",
    "list1=[]\n",
    "print(to_power(4,*list1))"
   ]
  },
  {
   "cell_type": "markdown",
   "metadata": {},
   "source": [
    "# ** kwargs()"
   ]
  },
  {
   "cell_type": "markdown",
   "metadata": {},
   "source": [
    "keyword argument\n",
    "double star operator"
   ]
  },
  {
   "cell_type": "code",
   "execution_count": 2,
   "metadata": {},
   "outputs": [
    {
     "name": "stdout",
     "output_type": "stream",
     "text": [
      "{'first_name': 'manni', 'last_name': 'deol'}\n",
      "<class 'dict'>\n"
     ]
    }
   ],
   "source": [
    "def func(**kwargs):\n",
    "    print(kwargs)\n",
    "    print(type(kwargs))\n",
    "func(first_name='manni', last_name='deol')        "
   ]
  },
  {
   "cell_type": "code",
   "execution_count": 7,
   "metadata": {},
   "outputs": [
    {
     "name": "stdout",
     "output_type": "stream",
     "text": [
      "first_name:manni\n",
      "last_name:deol\n"
     ]
    }
   ],
   "source": [
    "def func(**kwargs):\n",
    "    for key , value in kwargs.items():\n",
    "        print(f'{key}:{value}')\n",
    "func(first_name='manni', last_name='deol') "
   ]
  },
  {
   "cell_type": "code",
   "execution_count": 9,
   "metadata": {},
   "outputs": [
    {
     "name": "stdout",
     "output_type": "stream",
     "text": [
      "{'first_name': 'manni', 'last_name': 'deol'}\n",
      "<class 'dict'>\n"
     ]
    }
   ],
   "source": [
    "# dictionaries unpacking\n",
    "def func(**kwargs):\n",
    "    print(kwargs)\n",
    "    print(type(kwargs))\n",
    "dict1={'first_name':'manni', 'last_name':'deol'}\n",
    "func(**dict1)"
   ]
  },
  {
   "cell_type": "markdown",
   "metadata": {},
   "source": [
    "# function with all parameter"
   ]
  },
  {
   "cell_type": "code",
   "execution_count": 10,
   "metadata": {
    "collapsed": true
   },
   "outputs": [],
   "source": [
    "# normal parameter\n",
    "# *args\n",
    "# default parameter\n",
    "#**kwargs"
   ]
  },
  {
   "cell_type": "code",
   "execution_count": 13,
   "metadata": {},
   "outputs": [
    {
     "name": "stdout",
     "output_type": "stream",
     "text": [
      "manni\n",
      "(1, 2, 3, 4)\n",
      "19\n",
      "{'first_name': 'raja', 'last_name': 'ram'}\n",
      "manni\n",
      "(1, 2, 3, 4)\n",
      "20\n",
      "{'first_name': 'raja', 'last_name': 'ram'}\n"
     ]
    }
   ],
   "source": [
    "def func(name,*args,age=19,**kwargs):\n",
    "    print(name)\n",
    "    print(args)\n",
    "    print(age)\n",
    "    print(kwargs)\n",
    "func('manni',1,2,3,4,first_name='raja',last_name='ram') # order must be maintained otherwise \n",
    "# you will got error\n",
    "func('manni',1,2,3,4,age=20,first_name='raja',last_name='ram') "
   ]
  },
  {
   "cell_type": "code",
   "execution_count": 17,
   "metadata": {},
   "outputs": [
    {
     "name": "stdout",
     "output_type": "stream",
     "text": [
      "40\n",
      "10\n"
     ]
    }
   ],
   "source": [
    "def func(a,b=40):\n",
    "    print(a)\n",
    "    print(b)\n",
    "func(b=10,a=40)    "
   ]
  },
  {
   "cell_type": "raw",
   "metadata": {},
   "source": [
    "#q2> define a function which take list as argument containg string and return list but string that it contain is in capital letter.\n",
    "eg:-['manni','deol]\n",
    "output:-['Manni','Deol']\n",
    "if we call function :-func(list,reverse_str=True)\n",
    "output:-['Innam','Loed']"
   ]
  },
  {
   "cell_type": "code",
   "execution_count": 50,
   "metadata": {},
   "outputs": [
    {
     "name": "stdout",
     "output_type": "stream",
     "text": [
      "['Innam', 'Loed', 'Ajar', 'Mar']\n"
     ]
    }
   ],
   "source": [
    "def func(names,**kwargs):\n",
    "    list1=[]\n",
    "    if kwargs.get('reverse_string')==True:\n",
    "        for i in names:\n",
    "            a=i[::-1]\n",
    "            t=a[0].upper()\n",
    "            new_string=t+a[1:]\n",
    "            list1.append(new_string)\n",
    "    else:\n",
    "        for i in names:\n",
    "            t=i[0].upper()\n",
    "            new_string=t+i[1:]\n",
    "            list1.append(new_string)\n",
    "    return list1            \n",
    "names=['manni','deol','raja','ram']\n",
    "\n",
    "print(func(names,reverse_string=True))"
   ]
  },
  {
   "cell_type": "code",
   "execution_count": 53,
   "metadata": {},
   "outputs": [
    {
     "name": "stdout",
     "output_type": "stream",
     "text": [
      "Manni\n"
     ]
    }
   ],
   "source": [
    "    s='manni'\n",
    "    t=s[0].upper()\n",
    "    new_string=t+s[1:]\n",
    "    print(new_string)"
   ]
  },
  {
   "cell_type": "code",
   "execution_count": 52,
   "metadata": {},
   "outputs": [
    {
     "name": "stdout",
     "output_type": "stream",
     "text": [
      "['Manni', 'Deol']\n"
     ]
    }
   ],
   "source": [
    "####***** \n",
    "def func(l,**kwargs):\n",
    "    if kwargs.get('reverse_str=')==True:\n",
    "        return [name[::-1].title() for name in l]\n",
    "    else:\n",
    "        return[name.title() for name in l]\n",
    "names=['manni','deol']\n",
    "print(func(names,reverse_str=True))"
   ]
  },
  {
   "cell_type": "markdown",
   "metadata": {},
   "source": [
    "# lambda exepression"
   ]
  },
  {
   "cell_type": "markdown",
   "metadata": {},
   "source": [
    "anonymous function"
   ]
  },
  {
   "cell_type": "code",
   "execution_count": 57,
   "metadata": {},
   "outputs": [
    {
     "name": "stdout",
     "output_type": "stream",
     "text": [
      "5\n",
      "<function add at 0x0000027D2A072400>\n"
     ]
    }
   ],
   "source": [
    "def add(a,b):\n",
    "    return a+b\n",
    "print(add(2,3))\n",
    "print(add)"
   ]
  },
  {
   "cell_type": "code",
   "execution_count": 58,
   "metadata": {},
   "outputs": [
    {
     "name": "stdout",
     "output_type": "stream",
     "text": [
      "5\n",
      "<function <lambda> at 0x0000027D2A072EA0>\n"
     ]
    }
   ],
   "source": [
    "# using lambda\n",
    "add2=lambda a,b:a+b\n",
    "print(add2(2,3))\n",
    "print(add2)"
   ]
  },
  {
   "cell_type": "raw",
   "metadata": {},
   "source": [
    "add2 is not the name of function . as you see in above eg if we print add2 then in output\n",
    "we see name of function is not add2 but it is lambda"
   ]
  },
  {
   "cell_type": "code",
   "execution_count": 61,
   "metadata": {},
   "outputs": [
    {
     "name": "stdout",
     "output_type": "stream",
     "text": [
      "True\n",
      "True\n"
     ]
    }
   ],
   "source": [
    "# some more practice on lambda function\n",
    "# if even then print true else odd\n",
    "is_even= lambda n : n%2==0\n",
    "is_odd=lambda n : n%2!=0\n",
    "print(is_odd(3))\n",
    "print(is_even(4))"
   ]
  },
  {
   "cell_type": "code",
   "execution_count": 62,
   "metadata": {},
   "outputs": [
    {
     "name": "stdout",
     "output_type": "stream",
     "text": [
      "i\n"
     ]
    }
   ],
   "source": [
    "def last_char(s): # print last character of a string\n",
    "    return s[-1]\n",
    "print(last_char('manni'))"
   ]
  },
  {
   "cell_type": "code",
   "execution_count": 64,
   "metadata": {},
   "outputs": [
    {
     "name": "stdout",
     "output_type": "stream",
     "text": [
      "i\n"
     ]
    }
   ],
   "source": [
    "last_char=lambda s :s[-1]\n",
    "print(last_char('manni'))"
   ]
  },
  {
   "cell_type": "markdown",
   "metadata": {},
   "source": [
    "# lambda with if else"
   ]
  },
  {
   "cell_type": "code",
   "execution_count": 66,
   "metadata": {},
   "outputs": [
    {
     "name": "stdout",
     "output_type": "stream",
     "text": [
      "False\n"
     ]
    }
   ],
   "source": [
    "def func(s):\n",
    "    if len(s)>5:\n",
    "        return True\n",
    "    else:\n",
    "        return False\n",
    "print(func('manni'))    "
   ]
  },
  {
   "cell_type": "code",
   "execution_count": 68,
   "metadata": {},
   "outputs": [
    {
     "name": "stdout",
     "output_type": "stream",
     "text": [
      "False\n"
     ]
    }
   ],
   "source": [
    "func=lambda s:True if len(s)>5 else False\n",
    "print(func('manni'))"
   ]
  },
  {
   "cell_type": "code",
   "execution_count": 70,
   "metadata": {},
   "outputs": [
    {
     "name": "stdout",
     "output_type": "stream",
     "text": [
      "True\n"
     ]
    }
   ],
   "source": [
    "def func(s):\n",
    "    return len(s)>5\n",
    "print(func('mannid')) # outout true or false both based on condition "
   ]
  },
  {
   "cell_type": "code",
   "execution_count": 71,
   "metadata": {},
   "outputs": [
    {
     "name": "stdout",
     "output_type": "stream",
     "text": [
      "False\n"
     ]
    }
   ],
   "source": [
    "func=lambda s: len(s)>5 \n",
    "print(func('manni'))"
   ]
  },
  {
   "cell_type": "markdown",
   "metadata": {
    "collapsed": true
   },
   "source": [
    "#  enumerate function"
   ]
  },
  {
   "cell_type": "markdown",
   "metadata": {},
   "source": [
    " we use this function with for loop to track position our items in iterable"
   ]
  },
  {
   "cell_type": "code",
   "execution_count": 1,
   "metadata": {},
   "outputs": [
    {
     "name": "stdout",
     "output_type": "stream",
     "text": [
      "0:manni\n",
      "1:deol\n",
      "2:raja\n",
      "3:ram\n"
     ]
    }
   ],
   "source": [
    "# without enumerate function\n",
    "#input ['abc','cdf','rty']\n",
    "#output:- 0--->'abc'\n",
    "#    1---->'cdf'\n",
    "pos=0\n",
    "names=['manni','deol','raja','ram']\n",
    "for name in names :\n",
    "    print(f'{pos}:{name}')\n",
    "    pos+=1"
   ]
  },
  {
   "cell_type": "code",
   "execution_count": 3,
   "metadata": {},
   "outputs": [
    {
     "name": "stdout",
     "output_type": "stream",
     "text": [
      "0:manni\n",
      "1:deol\n",
      "2:raja\n",
      "3:ram\n"
     ]
    }
   ],
   "source": [
    "# with enumerate function\n",
    "for pos,name in enumerate(names):\n",
    "    print(f'{pos}:{name}')"
   ]
  },
  {
   "cell_type": "raw",
   "metadata": {},
   "source": [
    "# define a function that take two argument\n",
    "list containing string\n",
    "string that we want to find in list\n",
    "and this function will return the index of string in your list and if not present \n",
    "then return -1"
   ]
  },
  {
   "cell_type": "code",
   "execution_count": 2,
   "metadata": {},
   "outputs": [
    {
     "name": "stdout",
     "output_type": "stream",
     "text": [
      "2\n"
     ]
    }
   ],
   "source": [
    "def func(l,s):\n",
    "    for pos , name in enumerate(l):\n",
    "        if name==s:\n",
    "            return pos\n",
    "    else:\n",
    "        return -1\n",
    "l=['manni','deol','raja','ram']\n",
    "s='raja'\n",
    "print(func(l,s))"
   ]
  },
  {
   "cell_type": "markdown",
   "metadata": {},
   "source": [
    "# map function"
   ]
  },
  {
   "cell_type": "code",
   "execution_count": 3,
   "metadata": {},
   "outputs": [
    {
     "name": "stdout",
     "output_type": "stream",
     "text": [
      "[1, 4, 9, 16]\n"
     ]
    }
   ],
   "source": [
    "numbers=[1,2,3,4]\n",
    "def square(a):\n",
    "    return a**2\n",
    "square=list(map(square,numbers))\n",
    "print(square)"
   ]
  },
  {
   "cell_type": "code",
   "execution_count": 6,
   "metadata": {},
   "outputs": [
    {
     "name": "stdout",
     "output_type": "stream",
     "text": [
      "[1, 4, 9, 16]\n"
     ]
    }
   ],
   "source": [
    "square_num=lambda a :a**2\n",
    "square=list(map(square_num,numbers))\n",
    "print(square)"
   ]
  },
  {
   "cell_type": "code",
   "execution_count": 7,
   "metadata": {},
   "outputs": [
    {
     "name": "stdout",
     "output_type": "stream",
     "text": [
      "[1, 4, 9, 16]\n"
     ]
    }
   ],
   "source": [
    "square=list(map(lambda a :a**2,numbers))\n",
    "print(square)"
   ]
  },
  {
   "cell_type": "code",
   "execution_count": 10,
   "metadata": {},
   "outputs": [
    {
     "name": "stdout",
     "output_type": "stream",
     "text": [
      "[1, 4, 9, 16]\n"
     ]
    }
   ],
   "source": [
    "# using list comprehension\n",
    "square_new=[i**2 for i in numbers]\n",
    "print(square_new)"
   ]
  },
  {
   "cell_type": "code",
   "execution_count": 11,
   "metadata": {},
   "outputs": [
    {
     "name": "stdout",
     "output_type": "stream",
     "text": [
      "[1, 4, 9, 16]\n"
     ]
    }
   ],
   "source": [
    "# without using map function\n",
    "def square(numbers):\n",
    "    list1=[]\n",
    "    for i in numbers:\n",
    "        list1.append(i**2)\n",
    "    return list1\n",
    "numbers=[1,2,3,4]\n",
    "print(square(numbers))"
   ]
  },
  {
   "cell_type": "code",
   "execution_count": 12,
   "metadata": {},
   "outputs": [
    {
     "name": "stdout",
     "output_type": "stream",
     "text": [
      "[5, 4, 4, 3]\n"
     ]
    }
   ],
   "source": [
    "# map function to find length of string in list\n",
    "names=['manni','deol','raja','ram']\n",
    "length=list(map(len,names))\n",
    "print(length)"
   ]
  },
  {
   "cell_type": "code",
   "execution_count": 13,
   "metadata": {},
   "outputs": [
    {
     "name": "stdout",
     "output_type": "stream",
     "text": [
      "5\n",
      "4\n",
      "4\n",
      "3\n"
     ]
    }
   ],
   "source": [
    "for i in length:\n",
    "    print(i)"
   ]
  },
  {
   "cell_type": "markdown",
   "metadata": {},
   "source": [
    "# filter function"
   ]
  },
  {
   "cell_type": "code",
   "execution_count": 15,
   "metadata": {},
   "outputs": [
    {
     "name": "stdout",
     "output_type": "stream",
     "text": [
      "(2, 4, 6, 8)\n"
     ]
    }
   ],
   "source": [
    "# filter even and odd number in list\n",
    "def is_even(n):\n",
    "    return n%2==0\n",
    "n=[1,2,3,4,5,6,7,8,9]\n",
    "even=tuple(filter(is_even,n))\n",
    "print(even)"
   ]
  },
  {
   "cell_type": "code",
   "execution_count": 16,
   "metadata": {},
   "outputs": [
    {
     "name": "stdout",
     "output_type": "stream",
     "text": [
      "(2, 4, 6, 8)\n"
     ]
    }
   ],
   "source": [
    "even=tuple(filter(lambda n:n%2==0 ,n ))\n",
    "print(even)"
   ]
  },
  {
   "cell_type": "code",
   "execution_count": 19,
   "metadata": {},
   "outputs": [
    {
     "name": "stdout",
     "output_type": "stream",
     "text": [
      "<filter object at 0x000001A2177494E0>\n",
      "2\n",
      "4\n",
      "6\n",
      "8\n"
     ]
    }
   ],
   "source": [
    "even=filter(lambda n:n%2==0 ,n )\n",
    "print(even)\n",
    "for i in even:\n",
    "    print(i) # you can run loop only once on filter object but we can run loop any number of times\n",
    "    # on tuple or list .so we convert filter object into list or tuple"
   ]
  },
  {
   "cell_type": "code",
   "execution_count": 21,
   "metadata": {},
   "outputs": [
    {
     "name": "stdout",
     "output_type": "stream",
     "text": [
      "[2, 4, 6, 8]\n"
     ]
    }
   ],
   "source": [
    "# using list comprehension\n",
    "even=[i for i in n if i%2==0]\n",
    "print(even)"
   ]
  },
  {
   "cell_type": "markdown",
   "metadata": {},
   "source": [
    "# # Difference between iterator and iterable"
   ]
  },
  {
   "cell_type": "raw",
   "metadata": {},
   "source": [
    " numbers=[1,2,3,4,5] # tuple # list # string are iterable\n",
    "even=filter(lambda n:n%2==0 ,n ) # iterator\n",
    "# so we must have to understand difference between iterable and iterator\n",
    "# to understand difference we have to understande the internal working of for loop"
   ]
  },
  {
   "cell_type": "code",
   "execution_count": 27,
   "metadata": {},
   "outputs": [
    {
     "name": "stdout",
     "output_type": "stream",
     "text": [
      "1\n",
      "2\n",
      "3\n",
      "4\n",
      "5\n"
     ]
    },
    {
     "ename": "StopIteration",
     "evalue": "",
     "output_type": "error",
     "traceback": [
      "\u001b[1;31m---------------------------------------------------------------------------\u001b[0m",
      "\u001b[1;31mStopIteration\u001b[0m                             Traceback (most recent call last)",
      "\u001b[1;32m<ipython-input-27-d429c166df67>\u001b[0m in \u001b[0;36m<module>\u001b[1;34m()\u001b[0m\n\u001b[0;32m      7\u001b[0m \u001b[0mprint\u001b[0m\u001b[1;33m(\u001b[0m\u001b[0mnext\u001b[0m\u001b[1;33m(\u001b[0m\u001b[0mnumber_iter\u001b[0m\u001b[1;33m)\u001b[0m\u001b[1;33m)\u001b[0m\u001b[1;33m\u001b[0m\u001b[0m\n\u001b[0;32m      8\u001b[0m \u001b[0mprint\u001b[0m\u001b[1;33m(\u001b[0m\u001b[0mnext\u001b[0m\u001b[1;33m(\u001b[0m\u001b[0mnumber_iter\u001b[0m\u001b[1;33m)\u001b[0m\u001b[1;33m)\u001b[0m\u001b[1;33m\u001b[0m\u001b[0m\n\u001b[1;32m----> 9\u001b[1;33m \u001b[0mprint\u001b[0m\u001b[1;33m(\u001b[0m\u001b[0mnext\u001b[0m\u001b[1;33m(\u001b[0m\u001b[0mnumber_iter\u001b[0m\u001b[1;33m)\u001b[0m\u001b[1;33m)\u001b[0m\u001b[1;33m\u001b[0m\u001b[0m\n\u001b[0m",
      "\u001b[1;31mStopIteration\u001b[0m: "
     ]
    }
   ],
   "source": [
    "# internal working of for loop:\n",
    "numbers=[1,2,3,4,5]\n",
    "number_iter=iter(numbers) #----> iterator\n",
    "print(next(number_iter))\n",
    "print(next(number_iter))\n",
    "print(next(number_iter))\n",
    "print(next(number_iter))\n",
    "print(next(number_iter))\n",
    "print(next(number_iter))"
   ]
  },
  {
   "cell_type": "code",
   "execution_count": 30,
   "metadata": {},
   "outputs": [
    {
     "name": "stdout",
     "output_type": "stream",
     "text": [
      "1\n",
      "4\n",
      "9\n",
      "16\n",
      "25\n"
     ]
    }
   ],
   "source": [
    "numbers=[1,2,3,4,5]\n",
    "square=map(lambda a :a**2,numbers)\n",
    "print(next(square)) # here you directly call the next function .because these are iterator you\n",
    "# need not convert it to iterator again\n",
    "print(next(square))\n",
    "print(next(square))\n",
    "print(next(square))\n",
    "print(next(square))\n"
   ]
  },
  {
   "cell_type": "code",
   "execution_count": 32,
   "metadata": {},
   "outputs": [
    {
     "ename": "TypeError",
     "evalue": "'list' object is not an iterator",
     "output_type": "error",
     "traceback": [
      "\u001b[1;31m---------------------------------------------------------------------------\u001b[0m",
      "\u001b[1;31mTypeError\u001b[0m                                 Traceback (most recent call last)",
      "\u001b[1;32m<ipython-input-32-9054e3b1271d>\u001b[0m in \u001b[0;36m<module>\u001b[1;34m()\u001b[0m\n\u001b[0;32m      1\u001b[0m \u001b[0mnumbers\u001b[0m\u001b[1;33m=\u001b[0m\u001b[1;33m[\u001b[0m\u001b[1;36m1\u001b[0m\u001b[1;33m,\u001b[0m\u001b[1;36m2\u001b[0m\u001b[1;33m,\u001b[0m\u001b[1;36m3\u001b[0m\u001b[1;33m,\u001b[0m\u001b[1;36m4\u001b[0m\u001b[1;33m,\u001b[0m\u001b[1;36m5\u001b[0m\u001b[1;33m]\u001b[0m\u001b[1;33m\u001b[0m\u001b[0m\n\u001b[1;32m----> 2\u001b[1;33m \u001b[0mprint\u001b[0m\u001b[1;33m(\u001b[0m\u001b[0mnext\u001b[0m\u001b[1;33m(\u001b[0m\u001b[0mnumbers\u001b[0m\u001b[1;33m)\u001b[0m\u001b[1;33m)\u001b[0m \u001b[1;31m# here you can't call directly next function as list are not iterator.first\u001b[0m\u001b[1;33m\u001b[0m\u001b[0m\n\u001b[0m\u001b[0;32m      3\u001b[0m \u001b[1;31m# convert it to iterator then use next function\u001b[0m\u001b[1;33m\u001b[0m\u001b[1;33m\u001b[0m\u001b[0m\n",
      "\u001b[1;31mTypeError\u001b[0m: 'list' object is not an iterator"
     ]
    }
   ],
   "source": [
    "numbers=[1,2,3,4,5]\n",
    "print(next(numbers)) # here you can't call directly next function as list are not iterator.first\n",
    "# convert it to iterator then use next function"
   ]
  },
  {
   "cell_type": "markdown",
   "metadata": {
    "collapsed": true
   },
   "source": [
    "# zip function:-"
   ]
  },
  {
   "cell_type": "markdown",
   "metadata": {},
   "source": [
    "iterator"
   ]
  },
  {
   "cell_type": "code",
   "execution_count": 2,
   "metadata": {},
   "outputs": [
    {
     "name": "stdout",
     "output_type": "stream",
     "text": [
      "<zip object at 0x000002C733154B48>\n",
      "[('user1', 'manni'), ('user2', 'raja'), ('user3', 'ram')]\n"
     ]
    }
   ],
   "source": [
    "user_id=['user1','user2','user3']\n",
    "name=['manni','raja','ram']\n",
    "print(zip(user_id,name))\n",
    "print(list(zip(user_id,name)))"
   ]
  },
  {
   "cell_type": "code",
   "execution_count": 3,
   "metadata": {},
   "outputs": [
    {
     "name": "stdout",
     "output_type": "stream",
     "text": [
      "<zip object at 0x000002C733154B08>\n",
      "[('user1', 'manni'), ('user2', 'raja')]\n"
     ]
    }
   ],
   "source": [
    "user_id=['user1','user2'] # if one is smaller then it return only the matchable portion\n",
    "name=['manni','raja','ram']\n",
    "print(zip(user_id,name))\n",
    "print(list(zip(user_id,name)))"
   ]
  },
  {
   "cell_type": "code",
   "execution_count": 4,
   "metadata": {},
   "outputs": [
    {
     "name": "stdout",
     "output_type": "stream",
     "text": [
      "{'a': 1, 'b': 2}\n"
     ]
    }
   ],
   "source": [
    "# if a list contain tuple then list can only change to dict if tuple have two items , if it \n",
    "#contain more than two then you can't change .\n",
    "list1=[('a',1),('b',2)]\n",
    "print(dict(list1))"
   ]
  },
  {
   "cell_type": "code",
   "execution_count": 5,
   "metadata": {},
   "outputs": [
    {
     "name": "stdout",
     "output_type": "stream",
     "text": [
      "<zip object at 0x000002C733154EC8>\n",
      "[('user1', 'manni', 1), ('user2', 'raja', 2), ('user3', 'ram', 3)]\n"
     ]
    }
   ],
   "source": [
    "user_id=['user1','user2','user3'] \n",
    "name=['manni','raja','ram']\n",
    "roll_no=[1,2,3]\n",
    "print(zip(user_id,name,roll_no))\n",
    "print(list(zip(user_id,name,roll_no)))"
   ]
  },
  {
   "cell_type": "code",
   "execution_count": 6,
   "metadata": {},
   "outputs": [
    {
     "ename": "ValueError",
     "evalue": "dictionary update sequence element #0 has length 3; 2 is required",
     "output_type": "error",
     "traceback": [
      "\u001b[1;31m---------------------------------------------------------------------------\u001b[0m",
      "\u001b[1;31mValueError\u001b[0m                                Traceback (most recent call last)",
      "\u001b[1;32m<ipython-input-6-be834258811b>\u001b[0m in \u001b[0;36m<module>\u001b[1;34m()\u001b[0m\n\u001b[1;32m----> 1\u001b[1;33m \u001b[0mprint\u001b[0m\u001b[1;33m(\u001b[0m\u001b[0mdict\u001b[0m\u001b[1;33m(\u001b[0m\u001b[0mzip\u001b[0m\u001b[1;33m(\u001b[0m\u001b[0muser_id\u001b[0m\u001b[1;33m,\u001b[0m\u001b[0mname\u001b[0m\u001b[1;33m,\u001b[0m\u001b[0mroll_no\u001b[0m\u001b[1;33m)\u001b[0m\u001b[1;33m)\u001b[0m\u001b[1;33m)\u001b[0m\u001b[1;33m\u001b[0m\u001b[0m\n\u001b[0m",
      "\u001b[1;31mValueError\u001b[0m: dictionary update sequence element #0 has length 3; 2 is required"
     ]
    }
   ],
   "source": [
    "print(dict(zip(user_id,name,roll_no))) # here you see tuple contain 3 element so we can't convert\n",
    "# it to dict"
   ]
  },
  {
   "cell_type": "code",
   "execution_count": 7,
   "metadata": {},
   "outputs": [
    {
     "name": "stdout",
     "output_type": "stream",
     "text": [
      "{'user1': 'manni', 'user2': 'raja', 'user3': 'ram'}\n"
     ]
    }
   ],
   "source": [
    "print(dict(zip(user_id,name))) # here we convert as tuple contain only 2 element"
   ]
  },
  {
   "cell_type": "code",
   "execution_count": 8,
   "metadata": {
    "collapsed": true
   },
   "outputs": [],
   "source": [
    "# more about zip function :-\n",
    "# input [(1,2),(3,4),(5,6),(7,8)]\n",
    "# output [1,3,5,7]\n",
    "# [2,4,6,8]\n",
    "# we can do this using *operator with zip"
   ]
  },
  {
   "cell_type": "code",
   "execution_count": 10,
   "metadata": {},
   "outputs": [
    {
     "name": "stdout",
     "output_type": "stream",
     "text": [
      "<zip object at 0x000002C7331ED548>\n",
      "[(1, 3, 5, 7), (2, 4, 6, 8)]\n"
     ]
    }
   ],
   "source": [
    "l=[(1,2),(3,4),(5,6),(7,8)]\n",
    "print(zip(*l))\n",
    "print(list(zip(*l)))"
   ]
  },
  {
   "cell_type": "code",
   "execution_count": 14,
   "metadata": {},
   "outputs": [
    {
     "name": "stdout",
     "output_type": "stream",
     "text": [
      "(1, 3, 5, 7)\n",
      "<class 'tuple'>\n",
      "(2, 4, 6, 8)\n",
      "[1, 3, 5, 7]\n",
      "[2, 4, 6, 8]\n"
     ]
    }
   ],
   "source": [
    "l1,l2=list(zip(*l))\n",
    "print(l1)\n",
    "print(type(l1))\n",
    "print(l2)\n",
    "print(list(l1))\n",
    "print(list(l2))"
   ]
  },
  {
   "cell_type": "code",
   "execution_count": 15,
   "metadata": {},
   "outputs": [
    {
     "name": "stdout",
     "output_type": "stream",
     "text": [
      "(1, 3, 5, 7)\n",
      "<class 'tuple'>\n"
     ]
    }
   ],
   "source": [
    "l1,l2=tuple(zip(*l))\n",
    "print(l1)\n",
    "print(type(l1))"
   ]
  },
  {
   "cell_type": "code",
   "execution_count": 16,
   "metadata": {},
   "outputs": [
    {
     "name": "stdout",
     "output_type": "stream",
     "text": [
      "[2, 4, 6, 8]\n"
     ]
    }
   ],
   "source": [
    "# her two list given and we have to create a list which contain larger element at each position\n",
    "l1=[1,3,5,7]\n",
    "l2=[2,4,6,8]\n",
    "new_list=[]\n",
    "for pair in zip(l1,l2):\n",
    "    new_list.append(max(pair))\n",
    "print(new_list)    "
   ]
  },
  {
   "cell_type": "code",
   "execution_count": 1,
   "metadata": {
    "collapsed": true
   },
   "outputs": [],
   "source": [
    "# practice on advnce function\n",
    "#define a function that take any no of list containing number\n",
    "#[1,2,3],[4,5,6],[7,8,9]\n",
    "#return\n",
    "#(1+4+7)/3,(2+5+8)/3,(3+6+9)/3\n",
    "\n",
    "# try to make this anonymous function in one line using lambda"
   ]
  },
  {
   "cell_type": "code",
   "execution_count": 18,
   "metadata": {},
   "outputs": [
    {
     "name": "stdout",
     "output_type": "stream",
     "text": [
      "[2.6666666666666665, 4.0, 5.333333333333333, 6.666666666666667]\n"
     ]
    }
   ],
   "source": [
    "def average_finder(*args):\n",
    "    average=[]\n",
    "    for pair in zip(*args):\n",
    "        average.append(sum(pair)/len(pair))\n",
    "    return average    \n",
    "\n",
    "l1=[1,2,3,4]\n",
    "l2=[5,6,7,8]\n",
    "l3=[2,4,6,8]\n",
    "print(average_finder(l1,l2,l3))"
   ]
  },
  {
   "cell_type": "code",
   "execution_count": 20,
   "metadata": {},
   "outputs": [
    {
     "name": "stdout",
     "output_type": "stream",
     "text": [
      "[2.6666666666666665, 4.0, 5.333333333333333, 6.666666666666667]\n"
     ]
    }
   ],
   "source": [
    "average_finder=lambda *args:[sum(pair)/len(pair) for pair in zip(*args)]\n",
    "print(average_finder(l1,l2,l3))"
   ]
  },
  {
   "cell_type": "markdown",
   "metadata": {},
   "source": [
    "# any() and all() function"
   ]
  },
  {
   "cell_type": "code",
   "execution_count": 3,
   "metadata": {},
   "outputs": [
    {
     "name": "stdout",
     "output_type": "stream",
     "text": [
      "[True, True, True, True]\n",
      "True\n"
     ]
    }
   ],
   "source": [
    "# any() and all() function\n",
    "number1=[2,4,6 ,8]\n",
    "number2=[1,2,3,4,5,6]\n",
    "even1=[]\n",
    "for num in number1:\n",
    "    even1.append(num%2==0)\n",
    "print(even1)  \n",
    "print(all([True, True, True, True]))"
   ]
  },
  {
   "cell_type": "code",
   "execution_count": 4,
   "metadata": {},
   "outputs": [
    {
     "name": "stdout",
     "output_type": "stream",
     "text": [
      "True\n"
     ]
    }
   ],
   "source": [
    "# using all and list comprehension\n",
    "print(all([num%2==0 for i in number1]))"
   ]
  },
  {
   "cell_type": "code",
   "execution_count": 5,
   "metadata": {},
   "outputs": [
    {
     "name": "stdout",
     "output_type": "stream",
     "text": [
      "True\n"
     ]
    }
   ],
   "source": [
    "print(any([num%2==0 for i in number2]))"
   ]
  },
  {
   "cell_type": "code",
   "execution_count": 6,
   "metadata": {
    "collapsed": true
   },
   "outputs": [],
   "source": [
    "# if every element is true then all( )function will return true if any of element is false\n",
    "# then it return false .\n",
    "#any() will return true if at least one element is true and false if all element is false"
   ]
  },
  {
   "cell_type": "code",
   "execution_count": 9,
   "metadata": {},
   "outputs": [
    {
     "name": "stdout",
     "output_type": "stream",
     "text": [
      "wrong input\n",
      "24.8\n"
     ]
    }
   ],
   "source": [
    "def my_sum(*args):\n",
    "    if all([(type(arg)==int or type(arg)==float) for arg in args]):\n",
    "        total=0\n",
    "        for num in args:\n",
    "            total+=num\n",
    "        return total   \n",
    "    else:\n",
    "        return 'wrong input'\n",
    "print(my_sum(1,2,3,4,5,9.8,'manni','apple'))\n",
    "print(my_sum(1,2,3,4,5,9.8))"
   ]
  },
  {
   "cell_type": "markdown",
   "metadata": {},
   "source": [
    "# advance min() and max()"
   ]
  },
  {
   "cell_type": "code",
   "execution_count": 11,
   "metadata": {},
   "outputs": [
    {
     "name": "stdout",
     "output_type": "stream",
     "text": [
      "raja ram\n",
      "deol\n"
     ]
    }
   ],
   "source": [
    "def func(item):\n",
    "    return len(item)\n",
    "names=['manni','deol','raja ram']\n",
    "print(max(names,key=func)) # according to key it find max or min\n",
    "print(min(names,key=func))"
   ]
  },
  {
   "cell_type": "code",
   "execution_count": 13,
   "metadata": {},
   "outputs": [
    {
     "name": "stdout",
     "output_type": "stream",
     "text": [
      "raja ram\n",
      "deol\n"
     ]
    }
   ],
   "source": [
    "print(max(names,key=lambda item: len(item)))\n",
    "print(min(names,key=lambda item:len(item)))"
   ]
  },
  {
   "cell_type": "code",
   "execution_count": 16,
   "metadata": {},
   "outputs": [
    {
     "name": "stdout",
     "output_type": "stream",
     "text": [
      "{'name': 'manni', 'score': 90, 'age': 19}\n",
      "manni\n"
     ]
    }
   ],
   "source": [
    "student=[\n",
    "    { 'name':'manni','score':90,'age':19},\n",
    "    { 'name':'raja','score':80,'age':29},   \n",
    "    { 'name':'ram','score':40,'age':39},\n",
    "]\n",
    "print(max(student,key=lambda item:item.get('score')))\n",
    "print(max(student,key=lambda item:item.get('score'))['name'])"
   ]
  },
  {
   "cell_type": "code",
   "execution_count": 17,
   "metadata": {},
   "outputs": [
    {
     "name": "stdout",
     "output_type": "stream",
     "text": [
      "manni\n"
     ]
    }
   ],
   "source": [
    "student2={\n",
    "    'manni':{'score':90,'age':19},\n",
    "    'raja':{'score':50,'age':29},\n",
    "    'ram':{'score':30,'age':39}\n",
    "}\n",
    "print(max(student2, key=lambda item:student2[item]['score']))"
   ]
  },
  {
   "cell_type": "markdown",
   "metadata": {},
   "source": [
    "# advance sorted function"
   ]
  },
  {
   "cell_type": "code",
   "execution_count": 18,
   "metadata": {},
   "outputs": [
    {
     "name": "stdout",
     "output_type": "stream",
     "text": [
      "['apple', 'banana', 'mango']\n"
     ]
    }
   ],
   "source": [
    "fruits=['mango','apple','banana']\n",
    "fruits.sort()\n",
    "print(fruits)"
   ]
  },
  {
   "cell_type": "code",
   "execution_count": 19,
   "metadata": {},
   "outputs": [
    {
     "ename": "AttributeError",
     "evalue": "'tuple' object has no attribute 'sort'",
     "output_type": "error",
     "traceback": [
      "\u001b[1;31m---------------------------------------------------------------------------\u001b[0m",
      "\u001b[1;31mAttributeError\u001b[0m                            Traceback (most recent call last)",
      "\u001b[1;32m<ipython-input-19-87c32d776877>\u001b[0m in \u001b[0;36m<module>\u001b[1;34m()\u001b[0m\n\u001b[0;32m      1\u001b[0m \u001b[0mfruits\u001b[0m\u001b[1;33m=\u001b[0m\u001b[1;33m(\u001b[0m\u001b[1;34m'mango'\u001b[0m\u001b[1;33m,\u001b[0m\u001b[1;34m'apple'\u001b[0m\u001b[1;33m,\u001b[0m\u001b[1;34m'banana'\u001b[0m\u001b[1;33m)\u001b[0m\u001b[1;33m\u001b[0m\u001b[0m\n\u001b[1;32m----> 2\u001b[1;33m \u001b[0mfruits\u001b[0m\u001b[1;33m.\u001b[0m\u001b[0msort\u001b[0m\u001b[1;33m(\u001b[0m\u001b[1;33m)\u001b[0m\u001b[1;33m\u001b[0m\u001b[0m\n\u001b[0m\u001b[0;32m      3\u001b[0m \u001b[0mprint\u001b[0m\u001b[1;33m(\u001b[0m\u001b[0mfruits\u001b[0m\u001b[1;33m)\u001b[0m\u001b[1;33m\u001b[0m\u001b[0m\n",
      "\u001b[1;31mAttributeError\u001b[0m: 'tuple' object has no attribute 'sort'"
     ]
    }
   ],
   "source": [
    "fruits=('mango','apple','banana') \n",
    "fruits.sort()\n",
    "print(fruits)"
   ]
  },
  {
   "cell_type": "code",
   "execution_count": 22,
   "metadata": {},
   "outputs": [
    {
     "name": "stdout",
     "output_type": "stream",
     "text": [
      "('mango', 'apple', 'banana')\n"
     ]
    }
   ],
   "source": [
    "# so we use sorted function\n",
    "fruits=('mango','apple','banana') \n",
    "sorted(fruits) # tuple are immutable we can't change its value.here sorted function sort the tuple\n",
    "# and return a list but original tuple won't change\n",
    "print(fruits)"
   ]
  },
  {
   "cell_type": "code",
   "execution_count": 21,
   "metadata": {},
   "outputs": [
    {
     "name": "stdout",
     "output_type": "stream",
     "text": [
      "['apple', 'banana', 'mango']\n"
     ]
    }
   ],
   "source": [
    "print(sorted(fruits)) # output is list"
   ]
  },
  {
   "cell_type": "code",
   "execution_count": 25,
   "metadata": {},
   "outputs": [
    {
     "name": "stdout",
     "output_type": "stream",
     "text": [
      "['apple', 'banana', 'mango']\n"
     ]
    }
   ],
   "source": [
    "fruits={'mango','apple','banana'}\n",
    "print(sorted(fruits))"
   ]
  },
  {
   "cell_type": "code",
   "execution_count": 31,
   "metadata": {},
   "outputs": [
    {
     "name": "stdout",
     "output_type": "stream",
     "text": [
      "[{'model': 'yamha f310', 'price': 8400}, {'model': 'taylor 814ce', 'price': 81400}, {'model': 'faith applo venus', 'price': 82400}, {'model': 'faith naptune', 'price': 87400}]\n"
     ]
    }
   ],
   "source": [
    "guitars=[\n",
    "    {'model':'yamha f310','price':8400},\n",
    "    {'model':'faith naptune','price':87400},\n",
    "    {'model':'faith applo venus','price':82400},\n",
    "    {'model':'taylor 814ce','price':81400}\n",
    "]\n",
    "print(sorted(guitars,key=lambda d :d['price']))"
   ]
  },
  {
   "cell_type": "code",
   "execution_count": 32,
   "metadata": {},
   "outputs": [
    {
     "name": "stdout",
     "output_type": "stream",
     "text": [
      "[{'model': 'faith naptune', 'price': 87400}, {'model': 'faith applo venus', 'price': 82400}, {'model': 'taylor 814ce', 'price': 81400}, {'model': 'yamha f310', 'price': 8400}]\n"
     ]
    }
   ],
   "source": [
    "print(sorted(guitars,key=lambda d :d['price'],reverse=True)) # reverse true means reverse the dict\n",
    "# in descending order"
   ]
  },
  {
   "cell_type": "markdown",
   "metadata": {},
   "source": [
    "# doc string \n",
    "# help()"
   ]
  },
  {
   "cell_type": "markdown",
   "metadata": {},
   "source": [
    "#doc string _doc_ and help() function is used to get help about function i.e what argument\n",
    "it takes and what is return type of function"
   ]
  },
  {
   "cell_type": "code",
   "execution_count": 34,
   "metadata": {},
   "outputs": [
    {
     "name": "stdout",
     "output_type": "stream",
     "text": [
      "this function takes 2 argument and return sum of the two number\n"
     ]
    }
   ],
   "source": [
    "def add(a,b):\n",
    "    '''this function takes 2 argument and return sum of the two number'''\n",
    "    return a+b\n",
    "print(add.__doc__)"
   ]
  },
  {
   "cell_type": "code",
   "execution_count": 35,
   "metadata": {},
   "outputs": [
    {
     "name": "stdout",
     "output_type": "stream",
     "text": [
      "Return the number of items in a container.\n"
     ]
    }
   ],
   "source": [
    "# len()\n",
    "print(len.__doc__)"
   ]
  },
  {
   "cell_type": "code",
   "execution_count": 37,
   "metadata": {},
   "outputs": [
    {
     "name": "stdout",
     "output_type": "stream",
     "text": [
      "Help on built-in function max in module builtins:\n",
      "\n",
      "max(...)\n",
      "    max(iterable, *[, default=obj, key=func]) -> value\n",
      "    max(arg1, arg2, *args, *[, key=func]) -> value\n",
      "    \n",
      "    With a single iterable argument, return its biggest item. The\n",
      "    default keyword-only argument specifies an object to return if\n",
      "    the provided iterable is empty.\n",
      "    With two or more arguments, return the largest argument.\n",
      "\n",
      "None\n"
     ]
    }
   ],
   "source": [
    "# help() \n",
    "print(help(max)) # you get knowledge about any function"
   ]
  },
  {
   "cell_type": "code",
   "execution_count": null,
   "metadata": {
    "collapsed": true
   },
   "outputs": [],
   "source": []
  }
 ],
 "metadata": {
  "kernelspec": {
   "display_name": "Python 3",
   "language": "python",
   "name": "python3"
  },
  "language_info": {
   "codemirror_mode": {
    "name": "ipython",
    "version": 3
   },
   "file_extension": ".py",
   "mimetype": "text/x-python",
   "name": "python",
   "nbconvert_exporter": "python",
   "pygments_lexer": "ipython3",
   "version": "3.6.1"
  }
 },
 "nbformat": 4,
 "nbformat_minor": 2
}
