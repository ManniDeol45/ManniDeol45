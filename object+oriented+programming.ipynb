{
 "cells": [
  {
   "cell_type": "markdown",
   "metadata": {},
   "source": [
    "# object oriented programming"
   ]
  },
  {
   "cell_type": "code",
   "execution_count": 2,
   "metadata": {},
   "outputs": [
    {
     "name": "stdout",
     "output_type": "stream",
     "text": [
      "init method called\n",
      "init method called\n",
      "manni\n",
      "raja\n"
     ]
    }
   ],
   "source": [
    "class person:\n",
    "    def __init__(self,first_name,last_name,age): # constructor creates instance\n",
    "        #instance variable\n",
    "        print('init method called')\n",
    "        self.first_name=first_name\n",
    "        self.last_name=last_name\n",
    "        self.age=age\n",
    "p1=person('manni','deol',19)\n",
    "p2=person('raja','ram',20)        \n",
    "print(p1.first_name)\n",
    "print(p2.first_name)"
   ]
  },
  {
   "cell_type": "code",
   "execution_count": 4,
   "metadata": {},
   "outputs": [
    {
     "name": "stdout",
     "output_type": "stream",
     "text": [
      "hp\n"
     ]
    }
   ],
   "source": [
    "class laptop:\n",
    "    def __init__(self,brand_name,model_name,price):\n",
    "        self.brand_name=brand_name\n",
    "        self.model_name=model_name\n",
    "        self.price=price\n",
    "l1=laptop('hp','i5',4000)\n",
    "l2=laptop('lenovo','hfkdfk',6000)\n",
    "print(l1.brand_name)"
   ]
  },
  {
   "cell_type": "markdown",
   "metadata": {
    "collapsed": true
   },
   "source": [
    "# instance method"
   ]
  },
  {
   "cell_type": "code",
   "execution_count": 11,
   "metadata": {},
   "outputs": [
    {
     "name": "stdout",
     "output_type": "stream",
     "text": [
      "manni deol\n",
      "True\n",
      "manni deol\n"
     ]
    }
   ],
   "source": [
    "# function defined inside class are method\n",
    "class person:\n",
    "    def __init__(self,first_name,last_name,age):\n",
    "        self.first_name=first_name\n",
    "        self.last_name=last_name\n",
    "        self.age=age\n",
    "    def full_name(self):\n",
    "        return f\"{self.first_name} {self.last_name}\"\n",
    "    def is_above_18(self):\n",
    "        return self.age>18\n",
    "\n",
    "p1=person('manni','deol',19)   \n",
    "print(p1.full_name())\n",
    "print(p1.is_above_18())\n",
    "# actually what happened:\n",
    "print(person.full_name(p1)) # with the help of class we call method and passed object of that \n",
    "# class as argument"
   ]
  },
  {
   "cell_type": "code",
   "execution_count": 9,
   "metadata": {},
   "outputs": [
    {
     "name": "stdout",
     "output_type": "stream",
     "text": [
      "[1, 2, 3, 4]\n",
      "[1, 2, 3]\n"
     ]
    }
   ],
   "source": [
    "l=[1,2,3,4,5]\n",
    "l.pop()\n",
    "print(l)\n",
    "# another way\n",
    "list.pop(l)\n",
    "print(l)"
   ]
  },
  {
   "cell_type": "code",
   "execution_count": 10,
   "metadata": {},
   "outputs": [
    {
     "name": "stdout",
     "output_type": "stream",
     "text": [
      "[1, 2, 3, 40]\n",
      "[1, 2, 3, 40, 50]\n"
     ]
    }
   ],
   "source": [
    "l.append(40)\n",
    "print(l)\n",
    "# actually what happened\n",
    "list.append(l,50) #here first argument is self \n",
    "print(l)"
   ]
  },
  {
   "cell_type": "code",
   "execution_count": 13,
   "metadata": {},
   "outputs": [
    {
     "name": "stdout",
     "output_type": "stream",
     "text": [
      "final_price: 40000.0\n"
     ]
    }
   ],
   "source": [
    "#Q1>\n",
    "class laptop:\n",
    "    def __init__(self,brand,model_name,price):\n",
    "        self.brand=brand\n",
    "        self.model_name=model_name\n",
    "        self.price=price\n",
    "    def discount(self,discount_percent):\n",
    "        self.discount_percent=discount_percent\n",
    "        return self.price-(self.price*discount_percent)/100\n",
    "\n",
    "l1=laptop('hp','d2s4',50000)\n",
    "print(f'final_price: {l1.discount(20)}') # when we call a method then by default our first argument\n",
    "# passed is self i.e object itself"
   ]
  },
  {
   "cell_type": "markdown",
   "metadata": {},
   "source": [
    "# class variable"
   ]
  },
  {
   "cell_type": "code",
   "execution_count": 18,
   "metadata": {},
   "outputs": [
    {
     "name": "stdout",
     "output_type": "stream",
     "text": [
      "78.5\n",
      "31.400000000000002\n"
     ]
    }
   ],
   "source": [
    "# those value is fixed for each object\n",
    "class circle:\n",
    "    pi=3.14\n",
    "    def __init__(self,radius):\n",
    "        self.radius=radius\n",
    "    def area(self):\n",
    "        return circle.pi*self.radius*self.radius\n",
    "    def circumference(self):\n",
    "        return 2*circle.pi*self.radius\n",
    "c1=circle(5)\n",
    "print(c1.area())\n",
    "print(c1.circumference())"
   ]
  },
  {
   "cell_type": "code",
   "execution_count": 22,
   "metadata": {},
   "outputs": [
    {
     "name": "stdout",
     "output_type": "stream",
     "text": [
      "final_price: 45000.0\n"
     ]
    }
   ],
   "source": [
    "class laptop:\n",
    "    discount_percent=10 #here discount percent is same for both laptop\n",
    "    def __init__(self,brand,model_name,price):\n",
    "        self.brand=brand\n",
    "        self.model_name=model_name\n",
    "        self.price=price\n",
    "    def discount(self):\n",
    "        return self.price-(self.price*laptop.discount_percent)/100\n",
    "\n",
    "l1=laptop('hp','d2s4',50000)\n",
    "l2=laptop('apple','mackbook',100000)\n",
    "print(f'final_price: {l1.discount()}')"
   ]
  },
  {
   "cell_type": "code",
   "execution_count": 27,
   "metadata": {},
   "outputs": [
    {
     "name": "stdout",
     "output_type": "stream",
     "text": [
      "final_price: 40000.0\n"
     ]
    }
   ],
   "source": [
    "\n",
    "class laptop:\n",
    "    discount_percent=10 #here discount percent is same for both laptop\n",
    "    def __init__(self,brand,model_name,price):\n",
    "        self.brand=brand\n",
    "        self.model_name=model_name\n",
    "        self.price=price\n",
    "    def discount(self):\n",
    "        return self.price-(self.price*laptop.discount_percent)/100\n",
    "\n",
    "laptop.discount_percent=20    \n",
    "l1=laptop('hp','d2s4',50000)\n",
    "l2=laptop('apple','mackbook',100000)\n",
    "print(f'final_price: {l1.discount()}')"
   ]
  },
  {
   "cell_type": "code",
   "execution_count": 31,
   "metadata": {},
   "outputs": [
    {
     "name": "stdout",
     "output_type": "stream",
     "text": [
      "final_price: 40000.0\n",
      "{'brand': 'hp', 'model_name': 'd2s4', 'price': 50000, 'discount_percent': 20}\n"
     ]
    }
   ],
   "source": [
    "# if you want to change discount percent for differnt laptop\n",
    "class laptop:\n",
    "    discount_percent=10 #here discount percent is same for both laptop\n",
    "    def __init__(self,brand,model_name,price):\n",
    "        self.brand=brand\n",
    "        self.model_name=model_name\n",
    "        self.price=price\n",
    "    def discount(self):\n",
    "        return self.price-(self.price*self.discount_percent)/100 # here you have to change \n",
    "    # laptop.discount_percent to self.discount_percent\n",
    "\n",
    "l1=laptop('hp','d2s4',50000)\n",
    "l1.discount_percent=20  # object discount percent used\n",
    "l2=laptop('apple','mackbook',100000)\n",
    "print(f'final_price: {l1.discount()}')\n",
    "print(l1.__dict__) # to print all detail(instance variable) about an object"
   ]
  },
  {
   "cell_type": "code",
   "execution_count": 32,
   "metadata": {},
   "outputs": [
    {
     "name": "stdout",
     "output_type": "stream",
     "text": [
      "final_price: 45000.0\n",
      "{'brand': 'hp', 'model_name': 'd2s4', 'price': 50000}\n"
     ]
    }
   ],
   "source": [
    "# if you want to change discount percent for differnt laptop\n",
    "class laptop:\n",
    "    discount_percent=10 \n",
    "    def __init__(self,brand,model_name,price):\n",
    "        self.brand=brand\n",
    "        self.model_name=model_name\n",
    "        self.price=price\n",
    "    def discount(self):\n",
    "        return self.price-(self.price*self.discount_percent)/100  # here class discount percent \n",
    "    # is used\n",
    "\n",
    "l1=laptop('hp','d2s4',50000)\n",
    "l2=laptop('apple','mackbook',100000)\n",
    "print(f'final_price: {l1.discount()}')\n",
    "print(l1.__dict__) # to print all detail(instance variable) about an object"
   ]
  },
  {
   "cell_type": "code",
   "execution_count": 1,
   "metadata": {
    "collapsed": true
   },
   "outputs": [],
   "source": [
    "# if you not write object discount percent then class discount percent is used ."
   ]
  },
  {
   "cell_type": "code",
   "execution_count": 12,
   "metadata": {},
   "outputs": [
    {
     "name": "stdout",
     "output_type": "stream",
     "text": [
      "2\n"
     ]
    }
   ],
   "source": [
    "class person:\n",
    "    count=0\n",
    "    def __init__(self):\n",
    "        person.count+=1\n",
    "    \n",
    "p1=person() \n",
    "p2=person()\n",
    "print(person.count)"
   ]
  },
  {
   "cell_type": "markdown",
   "metadata": {},
   "source": [
    "# class method"
   ]
  },
  {
   "cell_type": "code",
   "execution_count": 26,
   "metadata": {},
   "outputs": [
    {
     "name": "stdout",
     "output_type": "stream",
     "text": [
      "you have created 2 instance of person class\n"
     ]
    }
   ],
   "source": [
    "class person:\n",
    "    count=0\n",
    "    def __init__(self,first_name,last_name,age):\n",
    "        self.first_name=first_name\n",
    "        self.last_name=last_name\n",
    "        self.age=age\n",
    "        person.count+=1\n",
    "    @classmethod \n",
    "    def count_instance(cls):\n",
    "        print(f\"you have created {cls.count} instance of {cls.__name__} class\")\n",
    "    \n",
    "p1=person('manni','deol',19)\n",
    "p2=person('raja','ram',20)\n",
    "person.count_instance()"
   ]
  },
  {
   "cell_type": "markdown",
   "metadata": {},
   "source": [
    "# class constructor"
   ]
  },
  {
   "cell_type": "code",
   "execution_count": 32,
   "metadata": {},
   "outputs": [
    {
     "name": "stdout",
     "output_type": "stream",
     "text": [
      "full_name mann deol\n"
     ]
    }
   ],
   "source": [
    "class person:\n",
    "    count=0\n",
    "    def __init__(self,first_name,last_name,age):\n",
    "        self.first_name=first_name\n",
    "        self.last_name=last_name\n",
    "        self.age=age\n",
    "        person.count+=1\n",
    "    @classmethod\n",
    "    def from_string(cls,string):\n",
    "        first_name,last_name,age=string.split(',')\n",
    "        return cls(first_name,last_name,age)\n",
    "    @classmethod \n",
    "    def count_instance(cls):\n",
    "        print(f\"you have created {cls.count} instance of {cls.__name__} class\")\n",
    "    def full_name(self):\n",
    "        return f'full_name {self.first_name} {self.last_name}'\n",
    "    \n",
    "p1=person('manni','deol',19)\n",
    "p2=person('raja','ram',20)\n",
    "p3=person.from_string('mann,deol, 20')\n",
    "print(p3.full_name())"
   ]
  },
  {
   "cell_type": "markdown",
   "metadata": {},
   "source": [
    "# static method"
   ]
  },
  {
   "cell_type": "code",
   "execution_count": 36,
   "metadata": {},
   "outputs": [
    {
     "name": "stdout",
     "output_type": "stream",
     "text": [
      "2\n",
      "hello this is static method\n"
     ]
    }
   ],
   "source": [
    "class person:\n",
    "    count=0\n",
    "    def __init__(self):\n",
    "        person.count+=1\n",
    "    @staticmethod\n",
    "    def hello():\n",
    "        return'hello this is static method'\n",
    "p1=person() \n",
    "p2=person()\n",
    "print(person.count)\n",
    "print(p1.hello())"
   ]
  },
  {
   "cell_type": "markdown",
   "metadata": {},
   "source": [
    "# Encapsulation\n",
    "# Abstraction\n",
    "# Some special naming convention\n",
    "# Name Mangling"
   ]
  },
  {
   "cell_type": "raw",
   "metadata": {},
   "source": [
    "Encapsulation:- Data and method(functionality that we performed on this data) related to that data kept at one place.\n",
    "Abstraction:- hiding internal complexity\n",
    "In python all method are public there is no private or protected method\n",
    "_name:-this is convention .through this we give info to the developer that this variable is private don't manipulate it. but developer can change it as every method is public.\n",
    "__name__ :- dunder method/ magic method\n",
    "Name Mangling:-\n",
    "__name (it is not convention):- python change the name of the variable \n",
    "eg:- __price :- change it to _className__price"
   ]
  },
  {
   "cell_type": "code",
   "execution_count": 38,
   "metadata": {},
   "outputs": [
    {
     "name": "stdout",
     "output_type": "stream",
     "text": [
      "3000\n",
      "-2000\n"
     ]
    }
   ],
   "source": [
    "class phone:\n",
    "    def __init__(self,brand,model_name,price):\n",
    "        self.brand=brand\n",
    "        self.model_name=model_name\n",
    "        self._price=price # here _name convention is used\n",
    "    def make_a_call(self,phone_number):\n",
    "        print(f'calling ...{phone_number}')\n",
    "    def full_name(self):\n",
    "        return f'{self.brand} {self.model}'\n",
    "\n",
    "phone1=phone('nokia' ,'1100',3000) \n",
    "print(phone1._price)\n",
    "phone1._price=-2000  # here we provide info about variable price (by writting _price) that this\n",
    "# variable is private but developer change this variable.\n",
    "print(phone1._price)\n"
   ]
  },
  {
   "cell_type": "code",
   "execution_count": 43,
   "metadata": {},
   "outputs": [
    {
     "name": "stdout",
     "output_type": "stream",
     "text": [
      "{'brand': 'nokia', 'model_name': '1100', '_phone__price': 3000}\n",
      "3000\n",
      "-8000\n"
     ]
    }
   ],
   "source": [
    "class phone:\n",
    "    def __init__(self,brand,model_name,price):\n",
    "        self.brand=brand\n",
    "        self.model_name=model_name\n",
    "        self.__price=price # here __name convention is used\n",
    "    def make_a_call(self,phone_number):\n",
    "        print(f'calling ...{phone_number}')\n",
    "    def full_name(self):\n",
    "        return f'{self.brand} {self.model}'\n",
    "\n",
    "phone1=phone('nokia' ,'1100',3000) \n",
    "print(phone1.__dict__) # here you see that python chane __price to _phone__price\n",
    "#print(phone1._price) # it gives error\n",
    "print(phone1._phone__price)\n",
    "phone1._phone__price=-8000 #but still you can change it\n",
    "print(phone1._phone__price)\n"
   ]
  },
  {
   "cell_type": "markdown",
   "metadata": {},
   "source": [
    "# way to use getter and setter method in python"
   ]
  },
  {
   "cell_type": "code",
   "execution_count": null,
   "metadata": {
    "collapsed": true
   },
   "outputs": [],
   "source": [
    "# 3 problem and their solution\n",
    "1 if you write phone.price=-550 then it print price=-550. but price is not negative\n"
   ]
  },
  {
   "cell_type": "code",
   "execution_count": 48,
   "metadata": {},
   "outputs": [
    {
     "name": "stdout",
     "output_type": "stream",
     "text": [
      "0\n"
     ]
    }
   ],
   "source": [
    "# first problem is solved\n",
    "class phone:\n",
    "    def __init__(self,brand,model_name,price):\n",
    "        self.brand=brand\n",
    "        self.model_name=model_name\n",
    "         # if price>0:\n",
    "      #      self._price=price   # or you can also write :- self._price= max(price,0)\n",
    "       # else:\n",
    "        #    self._price=0\n",
    "        self._price=max(price,0)\n",
    "    def make_a_call(self,phone_number):\n",
    "        print(f'calling ...{phone_number}')\n",
    "    def full_name(self):\n",
    "        return f'{self.brand} {self.model}'\n",
    "\n",
    "phone1=phone('nokia' ,'1100',-3000) \n",
    "print(phone1._price)"
   ]
  },
  {
   "cell_type": "code",
   "execution_count": 49,
   "metadata": {},
   "outputs": [
    {
     "name": "stdout",
     "output_type": "stream",
     "text": [
      "0\n",
      "5000\n",
      "nokia 1100 and price is 0\n"
     ]
    }
   ],
   "source": [
    "class phone:\n",
    "    def __init__(self,brand,model_name,price):\n",
    "        self.brand=brand\n",
    "        self.model_name=model_name\n",
    "         # if price>0:\n",
    "      #      self._price=price   # or you can also write :- self._price= max(price,0)\n",
    "       # else:\n",
    "        #    self._price=0\n",
    "        self._price=max(price,0)\n",
    "        self.complete_specification=f'{self.brand} {self.model_name} and price is {self._price}'\n",
    "    def make_a_call(self,phone_number):\n",
    "        print(f'calling ...{phone_number}')\n",
    "    def full_name(self):\n",
    "        return f'{self.brand} {self.model}'\n",
    "\n",
    "phone1=phone('nokia' ,'1100',-3000) \n",
    "print(phone1._price)\n",
    "phone1._price=5000\n",
    "print(phone1._price)\n",
    "print(phone1.complete_specification) # here you see that you have changed the price but still\n",
    "# you got previous price this is possible as when you create object immediately init method\n",
    "# get called and instance variable complete_specification get created. so after that you changed\n",
    "# price then it do not affect on complete_specification variable. so we use @property"
   ]
  },
  {
   "cell_type": "code",
   "execution_count": 51,
   "metadata": {},
   "outputs": [
    {
     "name": "stdout",
     "output_type": "stream",
     "text": [
      "0\n",
      "5000\n",
      "nokia 1100 and price is 5000\n"
     ]
    }
   ],
   "source": [
    "# solution of second problem\n",
    "class phone:\n",
    "    def __init__(self,brand,model_name,price):\n",
    "        self.brand=brand\n",
    "        self.model_name=model_name\n",
    "         # if price>0:\n",
    "      #      self._price=price   # or you can also write :- self._price= max(price,0)\n",
    "       # else:\n",
    "        #    self._price=0\n",
    "        self._price=max(price,0)\n",
    "    def make_a_call(self,phone_number):\n",
    "        print(f'calling ...{phone_number}')\n",
    "    def full_name(self):\n",
    "        return f'{self.brand} {self.model}'\n",
    "    def complete_specification(self):\n",
    "        return f'{self.brand} {self.model_name} and price is {self._price}'\n",
    "\n",
    "phone1=phone('nokia' ,'1100',-3000) \n",
    "print(phone1._price)\n",
    "phone1._price=5000\n",
    "print(phone1._price)\n",
    "print(phone1.complete_specification()) # here you created complete_specification function and\n",
    "# call it . but if you want to call it simply like variable then you have to use @property"
   ]
  },
  {
   "cell_type": "code",
   "execution_count": 52,
   "metadata": {},
   "outputs": [
    {
     "name": "stdout",
     "output_type": "stream",
     "text": [
      "0\n",
      "5000\n",
      "nokia 1100 and price is 5000\n"
     ]
    }
   ],
   "source": [
    "class phone:\n",
    "    def __init__(self,brand,model_name,price):\n",
    "        self.brand=brand\n",
    "        self.model_name=model_name\n",
    "         # if price>0:\n",
    "      #      self._price=price   # or you can also write :- self._price= max(price,0)\n",
    "       # else:\n",
    "        #    self._price=0\n",
    "        self._price=max(price,0)\n",
    "    def make_a_call(self,phone_number):\n",
    "        print(f'calling ...{phone_number}')\n",
    "    def full_name(self):\n",
    "        return f'{self.brand} {self.model}'\n",
    "    @property\n",
    "    def complete_specification(self):\n",
    "        return f'{self.brand} {self.model_name} and price is {self._price}'\n",
    "\n",
    "phone1=phone('nokia' ,'1100',-3000) \n",
    "print(phone1._price)\n",
    "phone1._price=5000\n",
    "print(phone1._price)\n",
    "print(phone1.complete_specification) # here you created complete_specification function and\n",
    "# call it . but if you want to call it simply like variable then you have to use @property"
   ]
  },
  {
   "cell_type": "code",
   "execution_count": 53,
   "metadata": {},
   "outputs": [
    {
     "name": "stdout",
     "output_type": "stream",
     "text": [
      "3000\n",
      "-5000\n",
      "nokia 1100 and price is -5000\n"
     ]
    }
   ],
   "source": [
    "# 3 problem\n",
    "class phone:\n",
    "    def __init__(self,brand,model_name,price):\n",
    "        self.brand=brand\n",
    "        self.model_name=model_name\n",
    "         # if price>0:\n",
    "      #      self._price=price   # or you can also write :- self._price= max(price,0)\n",
    "       # else:\n",
    "        #    self._price=0\n",
    "        self._price=max(price,0)\n",
    "    def make_a_call(self,phone_number):\n",
    "        print(f'calling ...{phone_number}')\n",
    "    def full_name(self):\n",
    "        return f'{self.brand} {self.model}'\n",
    "    def complete_specification(self):\n",
    "        return f'{self.brand} {self.model_name} and price is {self._price}'\n",
    "\n",
    "phone1=phone('nokia' ,'1100',3000) \n",
    "print(phone1._price)\n",
    "phone1._price=-5000\n",
    "print(phone1._price) # here you see still you write negative value of price .\n",
    "print(phone1.complete_specification()) "
   ]
  },
  {
   "cell_type": "code",
   "execution_count": 22,
   "metadata": {},
   "outputs": [
    {
     "name": "stdout",
     "output_type": "stream",
     "text": [
      "0\n"
     ]
    },
    {
     "ename": "TypeError",
     "evalue": "'int' object is not callable",
     "output_type": "error",
     "traceback": [
      "\u001b[1;31m---------------------------------------------------------------------------\u001b[0m",
      "\u001b[1;31mTypeError\u001b[0m                                 Traceback (most recent call last)",
      "\u001b[1;32m<ipython-input-22-11690e26dd95>\u001b[0m in \u001b[0;36m<module>\u001b[1;34m()\u001b[0m\n\u001b[0;32m     29\u001b[0m \u001b[0mprint\u001b[0m\u001b[1;33m(\u001b[0m\u001b[0mphone1\u001b[0m\u001b[1;33m.\u001b[0m\u001b[0m_price\u001b[0m\u001b[1;33m)\u001b[0m\u001b[1;33m\u001b[0m\u001b[0m\n\u001b[0;32m     30\u001b[0m \u001b[0mphone1\u001b[0m\u001b[1;33m.\u001b[0m\u001b[0m_price\u001b[0m\u001b[1;33m=\u001b[0m\u001b[1;33m-\u001b[0m\u001b[1;36m5000\u001b[0m\u001b[1;33m\u001b[0m\u001b[0m\n\u001b[1;32m---> 31\u001b[1;33m \u001b[0mprint\u001b[0m\u001b[1;33m(\u001b[0m\u001b[0mphone1\u001b[0m\u001b[1;33m.\u001b[0m\u001b[0mprice\u001b[0m\u001b[1;33m(\u001b[0m\u001b[1;33m)\u001b[0m\u001b[1;33m)\u001b[0m\u001b[1;33m\u001b[0m\u001b[0m\n\u001b[0m\u001b[0;32m     32\u001b[0m \u001b[0mprint\u001b[0m\u001b[1;33m(\u001b[0m\u001b[0mphone1\u001b[0m\u001b[1;33m.\u001b[0m\u001b[0mcomplete_specification\u001b[0m\u001b[1;33m(\u001b[0m\u001b[1;33m)\u001b[0m\u001b[1;33m)\u001b[0m \u001b[1;31m# here you created complete_specification function and\u001b[0m\u001b[1;33m\u001b[0m\u001b[0m\n\u001b[0;32m     33\u001b[0m \u001b[1;31m# call it . but if you want to call it simply like variable then you have to use @property\u001b[0m\u001b[1;33m\u001b[0m\u001b[1;33m\u001b[0m\u001b[0m\n",
      "\u001b[1;31mTypeError\u001b[0m: 'int' object is not callable"
     ]
    }
   ],
   "source": [
    "# use getter and setter method\n",
    "# in python it is used with the help of @property\n",
    "class phone:\n",
    "    def __init__(self,brand,model_name,price):\n",
    "        self.brand=brand\n",
    "        self.model_name=model_name\n",
    "         # if price>0:\n",
    "      #      self._price=price   # or you can also write :- self._price= max(price,0)\n",
    "       # else:\n",
    "        #    self._price=0\n",
    "        self._price=max(price,0)\n",
    "        \n",
    "    def make_a_call(self,phone_number):\n",
    "        print(f'calling ...{phone_number}')\n",
    "    def full_name(self):\n",
    "        return f'{self.brand} {self.model}'\n",
    "    def complete_specification(self):\n",
    "        return f'{self.brand} {self.model_name} and price is {self._price}'\n",
    "    # getter and setter\n",
    "    @property\n",
    "    def price(self):\n",
    "        return self._price\n",
    "    \n",
    "    @price.setter\n",
    "    def price(self,new_price):\n",
    "         self._price=max(new_price,0)\n",
    "        \n",
    "phone1=phone('nokia' ,'1100',-3000) \n",
    "print(phone1._price)\n",
    "phone1._price=-5000\n",
    "print(phone1.price())\n",
    "print(phone1.complete_specification()) # here you created complete_specification function and\n",
    "# call it . but if you want to call it simply like variable then you have to use @property"
   ]
  },
  {
   "cell_type": "markdown",
   "metadata": {},
   "source": [
    "# inheritance"
   ]
  },
  {
   "cell_type": "code",
   "execution_count": 86,
   "metadata": {},
   "outputs": [
    {
     "name": "stdout",
     "output_type": "stream",
     "text": [
      "nokia 1100\n",
      "one plus 5\n"
     ]
    }
   ],
   "source": [
    "class phone: # base or parent class\n",
    "    def __init__(self,brand,model_name,price):\n",
    "        self.brand=brand\n",
    "        self.model_name=model_name\n",
    "        self.__price=price # here __name convention is used\n",
    "    def make_a_call(self,phone_number):\n",
    "        print(f'calling ...{phone_number}')\n",
    "    def full_name(self):\n",
    "        return f'{self.brand} {self.model_name}'\n",
    "\n",
    "class smartphone(phone):\n",
    "    def __init__(self,brand,model_name,price,ram,internal_memory,rear_camera):\n",
    "        # two ways to use upper data\n",
    "        #phone.__init__(self,brand,model_name,price)\n",
    "        super().__init__(brand,model_name,price)\n",
    "        self.ram=ram\n",
    "        self.internal_memory=internal_memory\n",
    "        self.rear_camera=rear_camera\n",
    "phone1=phone('nokia' ,'1100',3000) \n",
    "smartphone1=smartphone('one plus','5',30000,'6gb','64 gb','20mp')\n",
    "print(phone1.full_name())\n",
    "print(smartphone1.full_name())\n"
   ]
  },
  {
   "cell_type": "code",
   "execution_count": 87,
   "metadata": {
    "collapsed": true
   },
   "outputs": [],
   "source": [
    "# can we derive more than one class from base class\n",
    "# multilevel inheritance\n",
    "#method resolution order\n",
    "#method overriding\n",
    "#isinstance(), issubclass()"
   ]
  },
  {
   "cell_type": "code",
   "execution_count": 89,
   "metadata": {},
   "outputs": [
    {
     "name": "stdout",
     "output_type": "stream",
     "text": [
      "nokia 1100\n",
      "one plus 5\n",
      "one plus 5\n"
     ]
    }
   ],
   "source": [
    "# yes you can derive more than one class from base class\n",
    "class phone: # base or parent class\n",
    "    def __init__(self,brand,model_name,price):\n",
    "        self.brand=brand\n",
    "        self.model_name=model_name\n",
    "        self.__price=price # here __name convention is used\n",
    "    def make_a_call(self,phone_number):\n",
    "        print(f'calling ...{phone_number}')\n",
    "    def full_name(self):\n",
    "        return f'{self.brand} {self.model_name}'\n",
    "\n",
    "class smartphone(phone):\n",
    "    def __init__(self,brand,model_name,price,ram,internal_memory,rear_camera):\n",
    "        # two ways to use upper data\n",
    "        #phone.__init__(self,brand,model_name,price)\n",
    "        super().__init__(brand,model_name,price)\n",
    "        self.ram=ram\n",
    "        self.internal_memory=internal_memory\n",
    "        self.rear_camera=rear_camera\n",
    "class smartphone2(phone):\n",
    "    def __init__(self,brand,model_name,price,ram,internal_memory,rear_camera):\n",
    "        # two ways to use upper data\n",
    "        #phone.__init__(self,brand,model_name,price)\n",
    "        super().__init__(brand,model_name,price)\n",
    "        self.ram=ram\n",
    "        self.internal_memory=internal_memory\n",
    "        self.rear_camera=rear_camera        \n",
    "phone1=phone('nokia' ,'1100',3000) \n",
    "smartphone1=smartphone('one plus','5',30000,'6gb','64 gb','20mp')\n",
    "smartphone2=smartphone('one plus','5',30000,'6gb','64 gb','20mp')\n",
    "print(phone1.full_name())\n",
    "print(smartphone1.full_name())\n",
    "print(smartphone2.full_name())"
   ]
  },
  {
   "cell_type": "code",
   "execution_count": 91,
   "metadata": {},
   "outputs": [
    {
     "name": "stdout",
     "output_type": "stream",
     "text": [
      "nokia 1100\n",
      "one plus 5\n",
      "one plus 5\n"
     ]
    }
   ],
   "source": [
    "# multilevel inheritance\n",
    "class phone: # base or parent class\n",
    "    def __init__(self,brand,model_name,price):\n",
    "        self.brand=brand\n",
    "        self.model_name=model_name\n",
    "        self.__price=price # here __name convention is used\n",
    "    def make_a_call(self,phone_number):\n",
    "        print(f'calling ...{phone_number}')\n",
    "    def full_name(self):\n",
    "        return f'{self.brand} {self.model_name}'\n",
    "\n",
    "class smartphone(phone):\n",
    "    def __init__(self,brand,model_name,price,ram,internal_memory,rear_camera):\n",
    "        # two ways to use upper data\n",
    "        #phone.__init__(self,brand,model_name,price)\n",
    "        super().__init__(brand,model_name,price)\n",
    "        self.ram=ram\n",
    "        self.internal_memory=internal_memory\n",
    "        self.rear_camera=rear_camera\n",
    "class FlagshipPhone(smartphone):\n",
    "    def __init__(self,brand,model_name,price,ram,internal_memory,rear_camera,front_camera):\n",
    "        # two ways to use upper data\n",
    "        #phone.__init__(self,brand,model_name,price)\n",
    "        super().__init__(brand,model_name,price,ram,internal_memory,rear_camera)\n",
    "        self.front_camera=front_camera        \n",
    "phone1=phone('nokia' ,'1100',3000) \n",
    "smartphone1=smartphone('one plus','5',30000,'6gb','64 gb','20mp')\n",
    "smartphone2=FlagshipPhone('one plus','5',30000,'6gb','64 gb','20mp','10mp')\n",
    "print(phone1.full_name())\n",
    "print(smartphone1.full_name())\n",
    "print(smartphone2.full_name())"
   ]
  },
  {
   "cell_type": "code",
   "execution_count": 92,
   "metadata": {},
   "outputs": [
    {
     "name": "stdout",
     "output_type": "stream",
     "text": [
      "Help on class FlagshipPhone in module __main__:\n",
      "\n",
      "class FlagshipPhone(smartphone)\n",
      " |  Method resolution order:\n",
      " |      FlagshipPhone\n",
      " |      smartphone\n",
      " |      phone\n",
      " |      builtins.object\n",
      " |  \n",
      " |  Methods defined here:\n",
      " |  \n",
      " |  __init__(self, brand, model_name, price, ram, internal_memory, rear_camera, front_camera)\n",
      " |      Initialize self.  See help(type(self)) for accurate signature.\n",
      " |  \n",
      " |  ----------------------------------------------------------------------\n",
      " |  Methods inherited from phone:\n",
      " |  \n",
      " |  full_name(self)\n",
      " |  \n",
      " |  make_a_call(self, phone_number)\n",
      " |  \n",
      " |  ----------------------------------------------------------------------\n",
      " |  Data descriptors inherited from phone:\n",
      " |  \n",
      " |  __dict__\n",
      " |      dictionary for instance variables (if defined)\n",
      " |  \n",
      " |  __weakref__\n",
      " |      list of weak references to the object (if defined)\n",
      "\n",
      "None\n"
     ]
    }
   ],
   "source": [
    "# method resolution:- in which order a class member(data and function) get executed\n",
    "print(help(FlagshipPhone))"
   ]
  },
  {
   "cell_type": "code",
   "execution_count": 95,
   "metadata": {},
   "outputs": [
    {
     "name": "stdout",
     "output_type": "stream",
     "text": [
      "nokia 1100\n",
      "one plus 5 20mp\n",
      "one plus 5 20mp\n"
     ]
    }
   ],
   "source": [
    "#method overriding\n",
    "class phone: # base or parent class\n",
    "    def __init__(self,brand,model_name,price):\n",
    "        self.brand=brand\n",
    "        self.model_name=model_name\n",
    "        self.__price=price # here __name convention is used\n",
    "    def make_a_call(self,phone_number):\n",
    "        print(f'calling ...{phone_number}')\n",
    "    def full_name(self):\n",
    "        return f'{self.brand} {self.model_name}'\n",
    "\n",
    "class smartphone(phone):\n",
    "    def __init__(self,brand,model_name,price,ram,internal_memory,rear_camera):\n",
    "        # two ways to use upper data\n",
    "        #phone.__init__(self,brand,model_name,price)\n",
    "        super().__init__(brand,model_name,price)\n",
    "        self.ram=ram\n",
    "        self.internal_memory=internal_memory\n",
    "        self.rear_camera=rear_camera\n",
    "    def full_name(self):\n",
    "        return f'{self.brand} {self.model_name} {self.rear_camera}'   \n",
    "class FlagshipPhone(smartphone):\n",
    "    def __init__(self,brand,model_name,price,ram,internal_memory,rear_camera,front_camera):\n",
    "        # two ways to use upper data\n",
    "        #phone.__init__(self,brand,model_name,price)\n",
    "        super().__init__(brand,model_name,price,ram,internal_memory,rear_camera)\n",
    "        self.front_camera=front_camera \n",
    "    #def full_name(self):\n",
    "        #return f'{self.brand} {self.model_name} {self.rear_camera} {self.front_camera}'\n",
    "phone1=phone('nokia' ,'1100',3000) \n",
    "smartphone1=smartphone('one plus','5',30000,'6gb','64 gb','20mp')\n",
    "smartphone2=FlagshipPhone('one plus','5',30000,'6gb','64 gb','20mp','10mp')\n",
    "print(phone1.full_name()) \n",
    "print(smartphone1.full_name())\n",
    "print(smartphone2.full_name()) # first full_name() function get search in FlagshipPhone class \n",
    "# then in smartphone and then in phone this is known as method resolution"
   ]
  },
  {
   "cell_type": "code",
   "execution_count": 98,
   "metadata": {},
   "outputs": [
    {
     "name": "stdout",
     "output_type": "stream",
     "text": [
      "True\n",
      "True\n",
      "False\n"
     ]
    }
   ],
   "source": [
    "# isinstance():- to check wether this object belong to that class or not\n",
    "print(isinstance(smartphone1,smartphone))\n",
    "print(isinstance(smartphone1,phone))\n",
    "print(isinstance(smartphone1,FlagshipPhone))"
   ]
  },
  {
   "cell_type": "code",
   "execution_count": 102,
   "metadata": {},
   "outputs": [
    {
     "name": "stdout",
     "output_type": "stream",
     "text": [
      "True\n",
      "True\n",
      "False\n"
     ]
    }
   ],
   "source": [
    "#issubclass():- to check whether this class is child class of that class or not\n",
    "print(issubclass(FlagshipPhone,smartphone))\n",
    "print(issubclass(FlagshipPhone,phone))\n",
    "print(issubclass(smartphone,FlagshipPhone))"
   ]
  },
  {
   "cell_type": "markdown",
   "metadata": {
    "collapsed": true
   },
   "source": [
    "# multiple inheritance"
   ]
  },
  {
   "cell_type": "code",
   "execution_count": 4,
   "metadata": {},
   "outputs": [
    {
     "name": "stdout",
     "output_type": "stream",
     "text": [
      "hello from class a\n",
      "Help on class c in module __main__:\n",
      "\n",
      "class c(a, b)\n",
      " |  Method resolution order:\n",
      " |      c\n",
      " |      a\n",
      " |      b\n",
      " |      builtins.object\n",
      " |  \n",
      " |  Methods inherited from a:\n",
      " |  \n",
      " |  class_a_method(self)\n",
      " |  \n",
      " |  hello(self)\n",
      " |  \n",
      " |  ----------------------------------------------------------------------\n",
      " |  Data descriptors inherited from a:\n",
      " |  \n",
      " |  __dict__\n",
      " |      dictionary for instance variables (if defined)\n",
      " |  \n",
      " |  __weakref__\n",
      " |      list of weak references to the object (if defined)\n",
      " |  \n",
      " |  ----------------------------------------------------------------------\n",
      " |  Methods inherited from b:\n",
      " |  \n",
      " |  class_b_method(self)\n",
      "\n",
      "None\n",
      "(<class '__main__.c'>, <class '__main__.a'>, <class '__main__.b'>, <class 'object'>)\n"
     ]
    }
   ],
   "source": [
    "class a :\n",
    "    def class_a_method(self):\n",
    "        return 'i\\'m just a class method'\n",
    "    def hello(self):\n",
    "        return 'hello from class a'\n",
    "class b:\n",
    "    def class_b_method(self):\n",
    "        return 'i\\'m just b class method'\n",
    "    def hello(self):\n",
    "        return 'hello from b class method'\n",
    "class c(a,b):\n",
    "    pass\n",
    "instance_c=c()\n",
    "print(instance_c.hello()) # here a class hello method get executed as a class inherited first\n",
    "# you can see it in method resolution order\n",
    "print(help(c))\n",
    "print(c.mro())\n",
    "print(c.__mro__)"
   ]
  },
  {
   "cell_type": "markdown",
   "metadata": {},
   "source": [
    "# special magic method / dunder method"
   ]
  },
  {
   "cell_type": "code",
   "execution_count": 15,
   "metadata": {},
   "outputs": [
    {
     "name": "stdout",
     "output_type": "stream",
     "text": [
      "[1, 2, 3, 4]\n",
      "nokia 1100 and price is 3000\n",
      "10\n"
     ]
    }
   ],
   "source": [
    "class phone:\n",
    "    def __init__(self,brand,model_name,price):\n",
    "        self.brand=brand\n",
    "        self.model_name=model_name\n",
    "        self._price=price # here __name convention is used\n",
    "    def make_a_call(self,phone_number):\n",
    "        print(f'calling ...{phone_number}')\n",
    "    def full_name(self):\n",
    "        return f'{self.brand} {self.model_name}'\n",
    "    # repr  str\n",
    "    def __repr__(self):\n",
    "        return f'{self.brand} {self.model_name}'\n",
    "    def __str__(self):\n",
    "        return f'{self.brand} {self.model_name} and price is {self._price}'\n",
    "    def __len__(self):\n",
    "        return len(self.full_name())\n",
    "\n",
    "phone1=phone('nokia' ,'1100',3000) \n",
    "l=[1,2,3,4]\n",
    "print(l)\n",
    "print(phone1) # here when you print l it print data it contain but in case of class object it \n",
    "# print address . we can resolve this issue with the help of dunder method __repr__  or __str__\n",
    "print(len(phone1)) # here you got length of full name method returned value"
   ]
  },
  {
   "cell_type": "code",
   "execution_count": 10,
   "metadata": {},
   "outputs": [
    {
     "name": "stdout",
     "output_type": "stream",
     "text": [
      "nokia 1100 and price is 3000\n",
      "nokia 1100\n"
     ]
    }
   ],
   "source": [
    "# we can also call like this\n",
    "print(str(phone1))\n",
    "print(repr(phone1))"
   ]
  },
  {
   "cell_type": "code",
   "execution_count": 12,
   "metadata": {},
   "outputs": [],
   "source": [
    "# actually in real world str simply print detail string but in repr we have to write like this \n",
    "#that when you copy this string and paste anywhere it look like object of that class\n",
    " \n",
    "def __repr__(self):\n",
    "        return f'{self.brand} {self.model_name}'\n",
    "    def __str__(self):\n",
    "        return f'phone1({self.brand} ,{self.model_name}, {self._price})'\n",
    "\n",
    "phone1({self.brand} ,{self.model_name}, {self._price})\n",
    "phone1('nokia' ,1100, 3000) # here you see when you copy and paste it seems like object of that\n",
    "# class"
   ]
  },
  {
   "cell_type": "code",
   "execution_count": 13,
   "metadata": {},
   "outputs": [
    {
     "name": "stdout",
     "output_type": "stream",
     "text": [
      "4\n"
     ]
    }
   ],
   "source": [
    "# to print length\n",
    "l=[1,2,3,4]\n",
    "print(len(l))\n",
    "# print(phone1) # you have to print length of phone1 . __len__"
   ]
  },
  {
   "cell_type": "markdown",
   "metadata": {},
   "source": [
    "# operator overloading "
   ]
  },
  {
   "cell_type": "code",
   "execution_count": 18,
   "metadata": {},
   "outputs": [
    {
     "name": "stdout",
     "output_type": "stream",
     "text": [
      "6000\n",
      "9000000\n"
     ]
    }
   ],
   "source": [
    "class phone:\n",
    "    def __init__(self,brand,model_name,price):\n",
    "        self.brand=brand\n",
    "        self.model_name=model_name\n",
    "        self._price=price \n",
    "    def make_a_call(self,phone_number):\n",
    "        print(f'calling ...{phone_number}')\n",
    "    def full_name(self):\n",
    "        return f'{self.brand} {self.model_name}'\n",
    "    # operator overloading\n",
    "    def __add__(self,other):\n",
    "        return self._price+other._price # here you can add anything \n",
    "    def __mul__(self,other):\n",
    "        return self._price*other._price # here you can multiply anything \n",
    "phone1=phone('nokia' ,'1100',3000) \n",
    "phone2=phone('nokia' ,'1100',3000) \n",
    "# 2+3 =5\n",
    "# 'abc'+'def'= 'abcdef'\n",
    "print(phone1+phone2) # both phone price get added\n",
    "print(phone1*phone2)"
   ]
  },
  {
   "cell_type": "code",
   "execution_count": null,
   "metadata": {
    "collapsed": true
   },
   "outputs": [],
   "source": [
    "# ploymorphism :- more than one form\n",
    "# method overloading \n",
    "# operator overloading"
   ]
  }
 ],
 "metadata": {
  "kernelspec": {
   "display_name": "Python 3",
   "language": "python",
   "name": "python3"
  },
  "language_info": {
   "codemirror_mode": {
    "name": "ipython",
    "version": 3
   },
   "file_extension": ".py",
   "mimetype": "text/x-python",
   "name": "python",
   "nbconvert_exporter": "python",
   "pygments_lexer": "ipython3",
   "version": "3.6.1"
  }
 },
 "nbformat": 4,
 "nbformat_minor": 2
}
