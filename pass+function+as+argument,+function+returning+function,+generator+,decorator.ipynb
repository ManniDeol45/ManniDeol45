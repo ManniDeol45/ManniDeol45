{
 "cells": [
  {
   "cell_type": "code",
   "execution_count": 6,
   "metadata": {},
   "outputs": [
    {
     "name": "stdout",
     "output_type": "stream",
     "text": [
      "25\n",
      "25\n",
      "square\n",
      "square\n",
      "<function square at 0x0000019EF2987D08>\n",
      "<function square at 0x0000019EF2987D08>\n"
     ]
    }
   ],
   "source": [
    "def square(a):\n",
    "    return a**2\n",
    "s=square # s and square are both same .both can be used in same way to call a function\n",
    "print(square(5))\n",
    "print(s(5))\n",
    "print(s.__name__)\n",
    "print(square.__name__)\n",
    "print(s)\n",
    "print(square)"
   ]
  },
  {
   "cell_type": "markdown",
   "metadata": {},
   "source": [
    "# pass function as argument"
   ]
  },
  {
   "cell_type": "code",
   "execution_count": 2,
   "metadata": {},
   "outputs": [
    {
     "name": "stdout",
     "output_type": "stream",
     "text": [
      "[1, 4, 9, 16, 25]\n"
     ]
    }
   ],
   "source": [
    "def square(l):\n",
    "    return l**2\n",
    "l=[1,2,3,4,5]\n",
    "def my_func(func,l):\n",
    "    list1=[]\n",
    "    for i in l:\n",
    "        list1.append(func(i))\n",
    "    return list1\n",
    "print(my_func(square,l))"
   ]
  },
  {
   "cell_type": "markdown",
   "metadata": {},
   "source": [
    "#### print(my_func(lambda a :a**3,l))"
   ]
  },
  {
   "cell_type": "code",
   "execution_count": 6,
   "metadata": {},
   "outputs": [
    {
     "name": "stdout",
     "output_type": "stream",
     "text": [
      "[1, 8, 27, 64, 125]\n"
     ]
    }
   ],
   "source": [
    "def my_func2(func,l):\n",
    "    return [func(i) for i in l]\n",
    "print(my_func2(lambda a :a**3,l))"
   ]
  },
  {
   "cell_type": "markdown",
   "metadata": {},
   "source": [
    "# function returning function"
   ]
  },
  {
   "cell_type": "code",
   "execution_count": 14,
   "metadata": {},
   "outputs": [
    {
     "name": "stdout",
     "output_type": "stream",
     "text": [
      "<function outer_func.<locals>.inner_func at 0x000001B210BE7620>\n",
      "message is :hi i am there\n"
     ]
    }
   ],
   "source": [
    "def outer_func(msg):\n",
    "    def inner_func():\n",
    "        print(f'message is :{msg}')\n",
    "    return inner_func\n",
    "var=outer_func('hi i am there')\n",
    "print(var) # here we are printing variable var which has address of inner_func \n",
    "var() # here var has address of inner_func when we write var() it means we are calling inner_func\n",
    "# now inner func get executed and message print"
   ]
  },
  {
   "cell_type": "code",
   "execution_count": 15,
   "metadata": {
    "collapsed": true
   },
   "outputs": [],
   "source": [
    "# function returning function is also known as closures, first class function"
   ]
  },
  {
   "cell_type": "code",
   "execution_count": 20,
   "metadata": {},
   "outputs": [
    {
     "name": "stdout",
     "output_type": "stream",
     "text": [
      "243\n",
      "1024\n"
     ]
    }
   ],
   "source": [
    "# define a function which return power of any numbber\n",
    "def to_power(x):\n",
    "    def calc_power(n):\n",
    "        return x**n\n",
    "    return calc_power\n",
    "cube=to_power(3)\n",
    "print(cube(5))\n",
    "square=to_power(4)\n",
    "print(square(5))"
   ]
  },
  {
   "cell_type": "markdown",
   "metadata": {
    "collapsed": true
   },
   "source": [
    "# decorators"
   ]
  },
  {
   "cell_type": "markdown",
   "metadata": {},
   "source": [
    "enhance the functionality of other function. if you want to increase the function of any function\n",
    "without changing the code then you use the concept decorators"
   ]
  },
  {
   "cell_type": "code",
   "execution_count": 9,
   "metadata": {},
   "outputs": [
    {
     "name": "stdout",
     "output_type": "stream",
     "text": [
      "this is func1\n",
      "this is awesome function\n"
     ]
    }
   ],
   "source": [
    "def decorator_function(any_func):\n",
    "    def wrapper_func():\n",
    "        any_func()\n",
    "        print('this is awesome function')\n",
    "    return wrapper_func\n",
    "\n",
    "def func1():\n",
    "    print('this is func1')\n",
    "def func2():\n",
    "    print('this is func2')\n",
    "    \n",
    "var=decorator_function(func1)  \n",
    "var()"
   ]
  },
  {
   "cell_type": "code",
   "execution_count": 13,
   "metadata": {},
   "outputs": [
    {
     "name": "stdout",
     "output_type": "stream",
     "text": [
      "this is func1\n",
      "this is awesome function\n",
      "this is func2\n",
      "this is awesome function\n"
     ]
    }
   ],
   "source": [
    "def decorator_function(any_func):\n",
    "    def wrapper_func():\n",
    "        any_func()\n",
    "        print('this is awesome function')\n",
    "    return wrapper_func\n",
    "\n",
    "@decorator_function # short cut for decorator function\n",
    "def func1():\n",
    "    print('this is func1')\n",
    "@decorator_function\n",
    "def func2():\n",
    "    print('this is func2')\n",
    "func1()\n",
    "func2()"
   ]
  },
  {
   "cell_type": "code",
   "execution_count": 14,
   "metadata": {
    "collapsed": true
   },
   "outputs": [],
   "source": [
    "# some improvement in decorator function\n",
    "# when our function takes argument \n",
    "# when our function return something\n",
    "# in these two cases we need to improve our decorator function to work efficiently"
   ]
  },
  {
   "cell_type": "code",
   "execution_count": 18,
   "metadata": {},
   "outputs": [
    {
     "name": "stdout",
     "output_type": "stream",
     "text": [
      "this is func1\n",
      "this is awesome function\n"
     ]
    },
    {
     "ename": "TypeError",
     "evalue": "wrapper_func() takes 0 positional arguments but 1 was given",
     "output_type": "error",
     "traceback": [
      "\u001b[1;31m---------------------------------------------------------------------------\u001b[0m",
      "\u001b[1;31mTypeError\u001b[0m                                 Traceback (most recent call last)",
      "\u001b[1;32m<ipython-input-18-67be4585ba03>\u001b[0m in \u001b[0;36m<module>\u001b[1;34m()\u001b[0m\n\u001b[0;32m     12\u001b[0m     \u001b[0mprint\u001b[0m\u001b[1;33m(\u001b[0m\u001b[1;34mf'this is func2 and it takes argument{a}'\u001b[0m\u001b[1;33m)\u001b[0m\u001b[1;33m\u001b[0m\u001b[0m\n\u001b[0;32m     13\u001b[0m \u001b[0mfunc1\u001b[0m\u001b[1;33m(\u001b[0m\u001b[1;33m)\u001b[0m\u001b[1;33m\u001b[0m\u001b[0m\n\u001b[1;32m---> 14\u001b[1;33m \u001b[0mfunc2\u001b[0m\u001b[1;33m(\u001b[0m\u001b[1;36m10\u001b[0m\u001b[1;33m)\u001b[0m\u001b[1;33m\u001b[0m\u001b[0m\n\u001b[0m",
      "\u001b[1;31mTypeError\u001b[0m: wrapper_func() takes 0 positional arguments but 1 was given"
     ]
    }
   ],
   "source": [
    "def decorator_function(any_func):\n",
    "    def wrapper_func():\n",
    "        any_func()\n",
    "        print('this is awesome function')\n",
    "    return wrapper_func\n",
    "\n",
    "@decorator_function # short cut for decorator function\n",
    "def func1():\n",
    "    print('this is func1')\n",
    "@decorator_function\n",
    "def func2(a):\n",
    "    print(f'this is func2 and it takes argument{a}')\n",
    "func1()\n",
    "func2(10)"
   ]
  },
  {
   "cell_type": "code",
   "execution_count": 17,
   "metadata": {},
   "outputs": [
    {
     "name": "stdout",
     "output_type": "stream",
     "text": [
      "this is func1\n",
      "this is awesome function\n",
      "this is func2 and it takes argument10\n",
      "this is awesome function\n"
     ]
    }
   ],
   "source": [
    "# argument function resolution\n",
    "def decorator_function(any_func):\n",
    "    def wrapper_func(*args,**kwargs):\n",
    "        any_func(*args,**kwargs)\n",
    "        print('this is awesome function')\n",
    "    return wrapper_func\n",
    "\n",
    "@decorator_function # short cut for decorator function\n",
    "def func1():\n",
    "    print('this is func1')\n",
    "@decorator_function\n",
    "def func2(a):\n",
    "    print(f'this is func2 and it takes argument{a}')\n",
    "func1()\n",
    "func2(10)"
   ]
  },
  {
   "cell_type": "code",
   "execution_count": 22,
   "metadata": {},
   "outputs": [
    {
     "name": "stdout",
     "output_type": "stream",
     "text": [
      "this is func1\n",
      "this is awesome function\n",
      "this is awesome function\n",
      "None\n"
     ]
    }
   ],
   "source": [
    " def decorator_function(any_func):\n",
    "    def wrapper_func(*args,**kwargs):\n",
    "        any_func(*args,**kwargs)\n",
    "        print('this is awesome function')\n",
    "    return wrapper_func\n",
    "\n",
    "@decorator_function # short cut for decorator function\n",
    "def func1():\n",
    "    print('this is func1')\n",
    "@decorator_function\n",
    "def add(a,b):\n",
    "    return a+b\n",
    "func1()\n",
    "print(add(10,20) ) # here instead of 10+20=30 we got none"
   ]
  },
  {
   "cell_type": "code",
   "execution_count": 25,
   "metadata": {},
   "outputs": [
    {
     "name": "stdout",
     "output_type": "stream",
     "text": [
      "this is awesome function\n",
      "this is func1\n",
      "this is awesome function\n",
      "30\n"
     ]
    }
   ],
   "source": [
    "# resolve return\n",
    "def decorator_function(any_func):\n",
    "    def wrapper_func(*args,**kwargs):\n",
    "        print('this is awesome function')\n",
    "        return any_func(*args,**kwargs) # here if we write return then it is valid for both\n",
    "    # either function return anything or not \n",
    "    return wrapper_func\n",
    "\n",
    "@decorator_function # short cut for decorator function\n",
    "def func1(): # here func1 doesn't return anything \n",
    "    print('this is func1')\n",
    "@decorator_function\n",
    "def add(a,b):\n",
    "    return a+b\n",
    "func1()\n",
    "print(add(10,20) ) "
   ]
  },
  {
   "cell_type": "code",
   "execution_count": 28,
   "metadata": {},
   "outputs": [
    {
     "name": "stdout",
     "output_type": "stream",
     "text": [
      "this is wrapper function\n",
      "wrapper_func\n"
     ]
    }
   ],
   "source": [
    "def decorator_function(any_func):\n",
    "    def wrapper_func(*args,**kwargs):\n",
    "        '''this is wrapper function'''\n",
    "        print('this is awesome function')\n",
    "        return any_func(*args,**kwargs) # here if we write return then it is valid for both\n",
    "    # either function return anything or not \n",
    "    return wrapper_func\n",
    "\n",
    "@decorator_function # short cut for decorator function\n",
    "def func1(): # here func1 doesn't return anything \n",
    "    '''this is func1'''\n",
    "    print('this is func1')\n",
    "@decorator_function\n",
    "def add(a,b):\n",
    "    return a+b\n",
    "print(func1.__doc__) \n",
    "print(func1.__name__) # here you see 'this is func1 ' not get printed and also name of func1 is\n",
    "# wrapper function. here it gives wrong information about func1 to any user .we must have to \n",
    "# enhance our wrapper function to resolve this issue"
   ]
  },
  {
   "cell_type": "code",
   "execution_count": 32,
   "metadata": {},
   "outputs": [
    {
     "name": "stdout",
     "output_type": "stream",
     "text": [
      "this is func1\n",
      "func1\n"
     ]
    }
   ],
   "source": [
    "from functools import wraps\n",
    "def decorator_function(any_func):\n",
    "    @wraps(any_func)\n",
    "    def wrapper_func(*args,**kwargs):\n",
    "        print('this is awesome function')\n",
    "        return any_func(*args,**kwargs) # here if we write return then it is valid for both\n",
    "    # either function return anything or not \n",
    "    return wrapper_func\n",
    "\n",
    "@decorator_function # short cut for decorator function\n",
    "def func1(): # here func1 doesn't return anything \n",
    "    '''this is func1'''\n",
    "    print('this is func1')\n",
    "@decorator_function\n",
    "def add(a,b):\n",
    "    return a+b\n",
    "print(func1.__doc__) \n",
    "print(func1.__name__)\n",
    "# this is complete  decorator function"
   ]
  },
  {
   "cell_type": "code",
   "execution_count": 46,
   "metadata": {},
   "outputs": [
    {
     "name": "stdout",
     "output_type": "stream",
     "text": [
      "you are calling add\n",
      "this function takes two argument as parameter and return their sum\n",
      "9\n"
     ]
    }
   ],
   "source": [
    "from functools import wraps\n",
    "def decorator_function(any_func):\n",
    "    @wraps(any_func)\n",
    "    def wrapper_func(*args,**kwargs):\n",
    "        print(f'you are calling {any_func.__name__}')\n",
    "        print(f'{any_func.__doc__}')\n",
    "        return any_func(*args,**kwargs)\n",
    "    return wrapper_func\n",
    "@decorator_function\n",
    "def add(a,b):\n",
    "    '''this function takes two argument as parameter and return their sum'''\n",
    "    return a+b\n",
    "\n",
    "print(add(4,5))"
   ]
  },
  {
   "cell_type": "code",
   "execution_count": 59,
   "metadata": {},
   "outputs": [
    {
     "name": "stdout",
     "output_type": "stream",
     "text": [
      "i am going to execute  func\n",
      "i am in func\n",
      "func is good function\n",
      "func is awesome function\n",
      "i am in func\n",
      "func is good function\n",
      "func is awesome function\n",
      "i am in func\n",
      "func is good function\n",
      "func is awesome function\n",
      "time taken to execute func is:0.0\n"
     ]
    }
   ],
   "source": [
    "#q1># define a function and decorator tell that how much time the function took to run\n",
    "from functools import wraps\n",
    "import time\n",
    "def calculate_time(any_func):\n",
    "    @wraps(any_func)\n",
    "    def wrapper_func(*args,**kwargs):\n",
    "        print(f'i am going to execute  {any_func.__name__}')\n",
    "        t1=time.time()\n",
    "        s=any_func()\n",
    "        t2=time.time()\n",
    "        print(f'time taken to execute func is:{t2-t1}')\n",
    "        return s   \n",
    "    return wrapper_func\n",
    "@calculate_time\n",
    "def func():\n",
    "    print('i am in func')\n",
    "    print('func is good function')\n",
    "    print('func is awesome function')\n",
    "    print('i am in func')\n",
    "    print('func is good function')\n",
    "    print('func is awesome function')\n",
    "    print('i am in func')\n",
    "    print('func is good function')\n",
    "    print('func is awesome function')\n",
    "    \n",
    "func()    "
   ]
  },
  {
   "cell_type": "code",
   "execution_count": 10,
   "metadata": {},
   "outputs": [
    {
     "name": "stdout",
     "output_type": "stream",
     "text": [
      "invalid\n",
      "None\n"
     ]
    }
   ],
   "source": [
    "from functools import wraps\n",
    "def decorator_func(any_func):\n",
    "    @wraps(any_func)\n",
    "    def wrapper_func(*args,**kwargs):\n",
    "        \n",
    "        if all([type(i)==int for i in args]):\n",
    "            return any_func(*args,**kwargs)\n",
    "        print('invalid')\n",
    "    return wrapper_func\n",
    "@decorator_func\n",
    "def sum1(*args):\n",
    "    total=0\n",
    "    for i in args:\n",
    "        total+=i\n",
    "    return total\n",
    "l=[1,2,3,4]\n",
    "print(sum1(l))"
   ]
  },
  {
   "cell_type": "code",
   "execution_count": 1,
   "metadata": {},
   "outputs": [
    {
     "name": "stdout",
     "output_type": "stream",
     "text": [
      "mannideol\n"
     ]
    }
   ],
   "source": [
    "from functools import wraps\n",
    "def only_data_type_allowed(data_type):\n",
    "    def decorator(function):\n",
    "        @wraps (function)\n",
    "        def wrapper(*args,**kwargs):\n",
    "            if all([type(arg)==data_type for arg in args ]):\n",
    "                return function(*args,**kwargs)\n",
    "            print('invalid argument')\n",
    "        return wrapper\n",
    "    return decorator\n",
    "\n",
    "@only_data_type_allowed(str)\n",
    "def string_join(*args):\n",
    "    string=''\n",
    "    for i in args:\n",
    "        string+=i\n",
    "    return string\n",
    "\n",
    "print(string_join('manni','deol'))"
   ]
  },
  {
   "cell_type": "markdown",
   "metadata": {
    "collapsed": true
   },
   "source": [
    "# generators:-"
   ]
  },
  {
   "cell_type": "code",
   "execution_count": 4,
   "metadata": {},
   "outputs": [
    {
     "name": "stdout",
     "output_type": "stream",
     "text": [
      "<generator object nums at 0x00000229311EF990>\n",
      "1\n",
      "2\n",
      "3\n",
      "4\n",
      "5\n",
      "6\n",
      "7\n",
      "8\n",
      "9\n",
      "10\n"
     ]
    }
   ],
   "source": [
    "def nums(n):\n",
    "    for i in range(1,n+1):\n",
    "        yield(i)\n",
    "        \n",
    "number=nums(10)\n",
    "print(number)\n",
    "for i in number:\n",
    "    print(i)\n",
    "for i in number: # written two times but print one times.since in generator at a time only one \n",
    "    # memory created and when 1st number deleted then second number get memory at that location\n",
    "    #so at last all number get deleted .so if we print second time then no won't print as memory\n",
    "    # is empty.\n",
    "    print(i)    \n",
    "        "
   ]
  },
  {
   "cell_type": "code",
   "execution_count": 7,
   "metadata": {},
   "outputs": [
    {
     "name": "stdout",
     "output_type": "stream",
     "text": [
      "1\n",
      "2\n",
      "3\n",
      "4\n",
      "5\n",
      "6\n",
      "7\n",
      "8\n",
      "9\n",
      "10\n",
      "1\n",
      "2\n",
      "3\n",
      "4\n",
      "5\n",
      "6\n",
      "7\n",
      "8\n",
      "9\n",
      "10\n"
     ]
    }
   ],
   "source": [
    "number=list(nums(10))\n",
    "for i in number:\n",
    "    print(i)\n",
    "for i in number: # two times print.\n",
    "    print(i)"
   ]
  },
  {
   "cell_type": "code",
   "execution_count": 8,
   "metadata": {
    "collapsed": true
   },
   "outputs": [],
   "source": [
    "#list--------->[...........................] whole memory takes\n",
    "#generator------>(1)single memory take when 1 gets deleted then 2 gets memory and so on\n",
    "                # (2)\n",
    "                #  .\n",
    "                #  .\n",
    "                #  so on\n",
    "# so if we use a sequence only once then we use generator as it takes less memory and also \n",
    "#speed increases\n",
    "# if we use more than once then we use list.as in list data won't get deleted .\n"
   ]
  },
  {
   "cell_type": "raw",
   "metadata": {},
   "source": [
    "q1> define a function that takes an argument\n",
    "and generate a sequence of even no from 1 to that number"
   ]
  },
  {
   "cell_type": "code",
   "execution_count": 6,
   "metadata": {},
   "outputs": [
    {
     "name": "stdout",
     "output_type": "stream",
     "text": [
      "2\n",
      "4\n",
      "6\n",
      "8\n",
      "2\n",
      "4\n",
      "6\n",
      "8\n"
     ]
    }
   ],
   "source": [
    "def even_sequence(n):\n",
    "    for i in range(1,n+1):\n",
    "        if (i%2==0):\n",
    "            yield(i)\n",
    "\n",
    "for i in even_sequence(9) :\n",
    "    print(i)\n",
    "for i in even_sequence(9) : # here you get output in both case as in both loop we are generating\n",
    "    #and then printing but in above case we are generating at once and printing two times .so\n",
    "    # we got output in only 1st  case.\n",
    "    print(i)    "
   ]
  },
  {
   "cell_type": "markdown",
   "metadata": {},
   "source": [
    "# generator comprehension"
   ]
  },
  {
   "cell_type": "code",
   "execution_count": 9,
   "metadata": {},
   "outputs": [
    {
     "name": "stdout",
     "output_type": "stream",
     "text": [
      "1\n",
      "4\n",
      "9\n",
      "16\n",
      "25\n",
      "36\n",
      "49\n",
      "64\n",
      "81\n"
     ]
    }
   ],
   "source": [
    "square=(i**2 for i in range(1,10))\n",
    "for i in square :\n",
    "    print(i)\n",
    "for i in square :\n",
    "    print(i) # one time print as we generated sequence once times and we try to print two times."
   ]
  },
  {
   "cell_type": "code",
   "execution_count": 10,
   "metadata": {},
   "outputs": [
    {
     "name": "stdout",
     "output_type": "stream",
     "text": [
      "1\n",
      "4\n",
      "9\n"
     ]
    }
   ],
   "source": [
    "square=(i**2 for i in range(1,10))\n",
    "print(next(square))\n",
    "print(next(square))\n",
    "print(next(square))"
   ]
  },
  {
   "cell_type": "code",
   "execution_count": null,
   "metadata": {
    "collapsed": true
   },
   "outputs": [],
   "source": []
  }
 ],
 "metadata": {
  "kernelspec": {
   "display_name": "Python 3",
   "language": "python",
   "name": "python3"
  },
  "language_info": {
   "codemirror_mode": {
    "name": "ipython",
    "version": 3
   },
   "file_extension": ".py",
   "mimetype": "text/x-python",
   "name": "python",
   "nbconvert_exporter": "python",
   "pygments_lexer": "ipython3",
   "version": "3.6.1"
  }
 },
 "nbformat": 4,
 "nbformat_minor": 2
}
