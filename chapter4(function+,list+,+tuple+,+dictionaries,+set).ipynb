{
 "cells": [
  {
   "cell_type": "markdown",
   "metadata": {},
   "source": [
    "#  function in python"
   ]
  },
  {
   "cell_type": "code",
   "execution_count": 1,
   "metadata": {},
   "outputs": [
    {
     "name": "stdout",
     "output_type": "stream",
     "text": [
      "enter first number10\n",
      "enter second number20\n",
      "total=30\n"
     ]
    }
   ],
   "source": [
    "def add_two(num1,num2):\n",
    "    return num1+num2\n",
    "num1=int(input(\"enter first number\"))\n",
    "num2=int(input(\"enter second number\"))\n",
    "total=add_two(num1,num2)\n",
    "print(f\"total={total}\")"
   ]
  },
  {
   "cell_type": "code",
   "execution_count": 4,
   "metadata": {},
   "outputs": [
    {
     "name": "stdout",
     "output_type": "stream",
     "text": [
      "enter first numbermanni\n",
      "enter second numberdeol\n",
      "full name:=mannideol\n"
     ]
    }
   ],
   "source": [
    "def add_two(num1,num2):\n",
    "    return num1+num2\n",
    "first_name=input(\"enter first number\")\n",
    "second_name=input(\"enter second number\")\n",
    "full_name=add_two(first_name,second_name)\n",
    "print(f\"full name:={full_name}\")"
   ]
  },
  {
   "cell_type": "code",
   "execution_count": 5,
   "metadata": {},
   "outputs": [
    {
     "name": "stdout",
     "output_type": "stream",
     "text": [
      "i\n"
     ]
    }
   ],
   "source": [
    "# print last character of string\n",
    "def last_char(name):\n",
    "    return name[-1]\n",
    "name=\"manni\"\n",
    "print(last_char(name))"
   ]
  },
  {
   "cell_type": "code",
   "execution_count": 9,
   "metadata": {},
   "outputs": [
    {
     "name": "stdout",
     "output_type": "stream",
     "text": [
      "odd\n"
     ]
    }
   ],
   "source": [
    "# print odd even\n",
    "def odd_even(num):\n",
    "    if num%2==0:\n",
    "        return \"even\"\n",
    "    else:\n",
    "        return 'odd'\n",
    "print(odd_even(13))    "
   ]
  },
  {
   "cell_type": "code",
   "execution_count": 10,
   "metadata": {},
   "outputs": [
    {
     "name": "stdout",
     "output_type": "stream",
     "text": [
      "odd\n"
     ]
    }
   ],
   "source": [
    "def odd_even(num):\n",
    "    if num%2==0:\n",
    "        return \"even\"\n",
    "    return 'odd'\n",
    "print(odd_even(13))    "
   ]
  },
  {
   "cell_type": "code",
   "execution_count": 11,
   "metadata": {},
   "outputs": [
    {
     "name": "stdout",
     "output_type": "stream",
     "text": [
      "False\n"
     ]
    }
   ],
   "source": [
    "def is_even(num):\n",
    "    if num%2==0:\n",
    "        return True\n",
    "    return False\n",
    "print(is_even(13))"
   ]
  },
  {
   "cell_type": "code",
   "execution_count": 13,
   "metadata": {},
   "outputs": [
    {
     "name": "stdout",
     "output_type": "stream",
     "text": [
      "True\n"
     ]
    }
   ],
   "source": [
    "def is_even(num):  # num is parameter and 12 is argument(actual value)\n",
    "    return num%2==0\n",
    "print(is_even(12))"
   ]
  },
  {
   "cell_type": "code",
   "execution_count": 14,
   "metadata": {},
   "outputs": [
    {
     "name": "stdout",
     "output_type": "stream",
     "text": [
      "happy birthday\n"
     ]
    }
   ],
   "source": [
    "def song():\n",
    "    return \"happy birthday\"\n",
    "print(song())"
   ]
  },
  {
   "cell_type": "raw",
   "metadata": {},
   "source": [
    "#Q1> define a function which takes input two number and return greater of the two"
   ]
  },
  {
   "cell_type": "code",
   "execution_count": 16,
   "metadata": {},
   "outputs": [
    {
     "name": "stdout",
     "output_type": "stream",
     "text": [
      "max=30\n"
     ]
    }
   ],
   "source": [
    "def min_max(num1,num2):\n",
    "    if(num1>num2):\n",
    "        return num1\n",
    "    return num2\n",
    "print(f\"max={min_max(10,30)}\")"
   ]
  },
  {
   "cell_type": "code",
   "execution_count": 18,
   "metadata": {},
   "outputs": [
    {
     "name": "stdout",
     "output_type": "stream",
     "text": [
      "greatest no is :80\n"
     ]
    }
   ],
   "source": [
    "# define greatest\n",
    "def greatest(a,b,c):\n",
    "    if a>b and a>c:\n",
    "        return a\n",
    "    elif b>a and b>c:\n",
    "        return b\n",
    "    return c\n",
    "print(f\"greatest no is :{greatest(80,20,30)}\")"
   ]
  },
  {
   "cell_type": "markdown",
   "metadata": {},
   "source": [
    "# function inside function"
   ]
  },
  {
   "cell_type": "code",
   "execution_count": 20,
   "metadata": {},
   "outputs": [
    {
     "name": "stdout",
     "output_type": "stream",
     "text": [
      "greatest number is:30\n"
     ]
    }
   ],
   "source": [
    "# define greatest\n",
    "def greater(num1,num2):\n",
    "    if(num1>num2):\n",
    "        return num1\n",
    "    return num2\n",
    "def greatest(num1,num2,num3):\n",
    "    bigger=greater(num1,num2)\n",
    "    return greater(bigger,num3)\n",
    "print(f\"greatest number is:{greatest(30,30,20)}\")\n",
    "    \n",
    "    "
   ]
  },
  {
   "cell_type": "raw",
   "metadata": {},
   "source": [
    "#define is_pallindrome() that takes one word in string as input\n",
    "and return true if it is pallindrome else return false\n",
    "Pallindrome:-words that reads same backwards as forwards\n",
    "eg:-madam\n",
    "\n",
    "logic(algorithm)\n",
    "reverse the string\n",
    "compared reverse string with original string"
   ]
  },
  {
   "cell_type": "code",
   "execution_count": 5,
   "metadata": {},
   "outputs": [
    {
     "name": "stdout",
     "output_type": "stream",
     "text": [
      "enter a string: madam\n",
      "True\n"
     ]
    }
   ],
   "source": [
    "def is_pallindrome(string):\n",
    "    rev_string=string[-1::-1]\n",
    "    return rev_string==string\n",
    "string=input(\"enter a string: \")\n",
    "print(is_pallindrome(string))"
   ]
  },
  {
   "cell_type": "code",
   "execution_count": 4,
   "metadata": {},
   "outputs": [
    {
     "name": "stdout",
     "output_type": "stream",
     "text": [
      "enter the digit from where you want to prin fibonacci series13\n",
      "0 1 1 2 3 5 8 13 21 34 55 89 144 "
     ]
    }
   ],
   "source": [
    "# fibonacci series\n",
    "#0 1 1 2 3 5 8 13 21 34\n",
    "def fibonacci_series(n):\n",
    "    i=0\n",
    "    num_1=1\n",
    "    num_2=0\n",
    "    while(i<n):\n",
    "        if(i<2):\n",
    "            print(i,end=\" \")\n",
    "            i+=1\n",
    "        else:\n",
    "            num3=num_1+num_2\n",
    "            print(num3,end=\" \")\n",
    "            num_2=num_1\n",
    "            num_1=num3\n",
    "            i+=1\n",
    "n=int(input(\"enter the digit from where you want to prin fibonacci series\") )           \n",
    "fibonacci_series(n)            \n",
    "\n",
    "            \n",
    "        "
   ]
  },
  {
   "cell_type": "markdown",
   "metadata": {},
   "source": [
    "# default parameter"
   ]
  },
  {
   "cell_type": "raw",
   "metadata": {},
   "source": [
    "############## if there is default parameter then it must be last parameter else error produce"
   ]
  },
  {
   "cell_type": "code",
   "execution_count": 10,
   "metadata": {},
   "outputs": [
    {
     "name": "stdout",
     "output_type": "stream",
     "text": [
      "your first_name:manni\n",
      "your last_name:deol\n",
      "your age:23\n"
     ]
    }
   ],
   "source": [
    "def info(f_name,l_name,age):\n",
    "    print(f\"your first_name:{f_name}\")\n",
    "    print(f\"your last_name:{l_name}\")\n",
    "    print(f\"your age:{age}\")\n",
    "info(\"manni\",\"deol\",23)    "
   ]
  },
  {
   "cell_type": "code",
   "execution_count": 11,
   "metadata": {},
   "outputs": [
    {
     "ename": "TypeError",
     "evalue": "info() missing 1 required positional argument: 'age'",
     "output_type": "error",
     "traceback": [
      "\u001b[1;31m---------------------------------------------------------------------------\u001b[0m",
      "\u001b[1;31mTypeError\u001b[0m                                 Traceback (most recent call last)",
      "\u001b[1;32m<ipython-input-11-01c32c2d30d7>\u001b[0m in \u001b[0;36m<module>\u001b[1;34m()\u001b[0m\n\u001b[0;32m      3\u001b[0m     \u001b[0mprint\u001b[0m\u001b[1;33m(\u001b[0m\u001b[1;34mf\"your last_name:{l_name}\"\u001b[0m\u001b[1;33m)\u001b[0m\u001b[1;33m\u001b[0m\u001b[0m\n\u001b[0;32m      4\u001b[0m     \u001b[0mprint\u001b[0m\u001b[1;33m(\u001b[0m\u001b[1;34mf\"your age:{age}\"\u001b[0m\u001b[1;33m)\u001b[0m\u001b[1;33m\u001b[0m\u001b[0m\n\u001b[1;32m----> 5\u001b[1;33m \u001b[0minfo\u001b[0m\u001b[1;33m(\u001b[0m\u001b[1;34m\"manni\"\u001b[0m\u001b[1;33m,\u001b[0m\u001b[1;34m\"deol\"\u001b[0m\u001b[1;33m)\u001b[0m\u001b[1;33m\u001b[0m\u001b[0m\n\u001b[0m",
      "\u001b[1;31mTypeError\u001b[0m: info() missing 1 required positional argument: 'age'"
     ]
    }
   ],
   "source": [
    "def info(f_name,l_name,age):\n",
    "    print(f\"your first_name:{f_name}\")\n",
    "    print(f\"your last_name:{l_name}\")\n",
    "    print(f\"your age:{age}\")\n",
    "info(\"manni\",\"deol\")  "
   ]
  },
  {
   "cell_type": "code",
   "execution_count": 25,
   "metadata": {},
   "outputs": [
    {
     "name": "stdout",
     "output_type": "stream",
     "text": [
      "your first_name:manni\n",
      "your last_name:deol\n",
      "your age:unknown\n",
      "your first_name:manni\n",
      "your last_name:deol\n",
      "your age:23\n"
     ]
    }
   ],
   "source": [
    "def info(f_name,l_name=\"unknown\",age=\"unknown\"):\n",
    "    print(f\"your first_name:{f_name}\")\n",
    "    print(f\"your last_name:{l_name}\")\n",
    "    print(f\"your age:{age}\")\n",
    "info(\"manni\",\"deol\")  \n",
    "info(\"manni\",\"deol\",23) "
   ]
  },
  {
   "cell_type": "code",
   "execution_count": 28,
   "metadata": {},
   "outputs": [
    {
     "ename": "SyntaxError",
     "evalue": "non-default argument follows default argument (<ipython-input-28-a7c9cbed06aa>, line 1)",
     "output_type": "error",
     "traceback": [
      "\u001b[1;36m  File \u001b[1;32m\"<ipython-input-28-a7c9cbed06aa>\"\u001b[1;36m, line \u001b[1;32m1\u001b[0m\n\u001b[1;33m    def info(f_name=\"raja\",l_name,age=24): # default parameter always be last parameter\u001b[0m\n\u001b[1;37m            ^\u001b[0m\n\u001b[1;31mSyntaxError\u001b[0m\u001b[1;31m:\u001b[0m non-default argument follows default argument\n"
     ]
    }
   ],
   "source": [
    "def info(f_name=\"raja\",l_name,age=24): # default argument always be last argument\n",
    "    print(f\"your first_name:{f_name}\")\n",
    "    print(f\"your last_name:{l_name}\")\n",
    "    print(f\"your age:{age}\")\n",
    "info(\"manni\",\"deol\") "
   ]
  },
  {
   "cell_type": "markdown",
   "metadata": {},
   "source": [
    "# variable scoping"
   ]
  },
  {
   "cell_type": "code",
   "execution_count": 19,
   "metadata": {},
   "outputs": [
    {
     "name": "stdout",
     "output_type": "stream",
     "text": [
      "6\n"
     ]
    },
    {
     "ename": "NameError",
     "evalue": "name 'c' is not defined",
     "output_type": "error",
     "traceback": [
      "\u001b[1;31m---------------------------------------------------------------------------\u001b[0m",
      "\u001b[1;31mNameError\u001b[0m                                 Traceback (most recent call last)",
      "\u001b[1;32m<ipython-input-19-eb8a92b604b9>\u001b[0m in \u001b[0;36m<module>\u001b[1;34m()\u001b[0m\n\u001b[0;32m      3\u001b[0m     \u001b[1;32mreturn\u001b[0m \u001b[0mc\u001b[0m\u001b[1;33m\u001b[0m\u001b[0m\n\u001b[0;32m      4\u001b[0m \u001b[0mprint\u001b[0m\u001b[1;33m(\u001b[0m\u001b[0mfunc\u001b[0m\u001b[1;33m(\u001b[0m\u001b[1;33m)\u001b[0m\u001b[1;33m)\u001b[0m\u001b[1;33m\u001b[0m\u001b[0m\n\u001b[1;32m----> 5\u001b[1;33m \u001b[0mprint\u001b[0m\u001b[1;33m(\u001b[0m\u001b[0mc\u001b[0m\u001b[1;33m)\u001b[0m\u001b[1;33m\u001b[0m\u001b[0m\n\u001b[0m",
      "\u001b[1;31mNameError\u001b[0m: name 'c' is not defined"
     ]
    }
   ],
   "source": [
    "def func():\n",
    "    c=6\n",
    "    return c\n",
    "print(func())# 6\n",
    "print(c)\n"
   ]
  },
  {
   "cell_type": "code",
   "execution_count": 20,
   "metadata": {},
   "outputs": [
    {
     "name": "stdout",
     "output_type": "stream",
     "text": [
      "6\n",
      "10\n"
     ]
    }
   ],
   "source": [
    "c=10 # global variable\n",
    "def func():\n",
    "    c=6\n",
    "    return c\n",
    "print(func())# 6\n",
    "print(c)"
   ]
  },
  {
   "cell_type": "markdown",
   "metadata": {},
   "source": [
    "#    this happen in python not in c ####### imp"
   ]
  },
  {
   "cell_type": "code",
   "execution_count": 24,
   "metadata": {},
   "outputs": [
    {
     "name": "stdout",
     "output_type": "stream",
     "text": [
      "13\n",
      "13\n"
     ]
    }
   ],
   "source": [
    "#############\n",
    "print(c)\n",
    "func()\n",
    "c=13  ### define after but still it is global variable\n",
    "def func():\n",
    "    print(c)"
   ]
  },
  {
   "cell_type": "markdown",
   "metadata": {
    "collapsed": true
   },
   "source": [
    "#  list "
   ]
  },
  {
   "cell_type": "code",
   "execution_count": 15,
   "metadata": {},
   "outputs": [
    {
     "name": "stdout",
     "output_type": "stream",
     "text": [
      "[1, 2, 3, 'manni', 'raja', 1.2, 4.567]\n",
      "[1, 2, 3, 4, 5]\n",
      "['manni', 'raja', 'ram']\n",
      "4\n",
      "[2, 3, 4, 5]\n",
      "[1, 2, 'deol', 'manni', 'raja', 1.2, 4.567]\n",
      "[1, 'd', 'e', 'o', 'l', ' ', ' ', ' ']\n",
      "[1, 'raja', 'is', 'a', 'good', 'boy']\n"
     ]
    }
   ],
   "source": [
    "number =[1,2,3,4,5]\n",
    "words=[\"manni\",'raja','ram']\n",
    "mixed=[1,2,3,'manni','raja',1.2,4.567]\n",
    "print(mixed)\n",
    "print(number)\n",
    "print(words)\n",
    "print(number[3])# accessing list element\n",
    "print(number[1:])\n",
    "mixed[2]=\"deol\"\n",
    "print(mixed)\n",
    "mixed[1:]=\"deol   \"\n",
    "print(mixed)\n",
    "mixed[1:]=['raja','is','a','good','boy'] # we can assign list to list\n",
    "print(mixed)\n",
    "#for i in number:\n",
    "#    print(i)"
   ]
  },
  {
   "cell_type": "markdown",
   "metadata": {},
   "source": [
    "# add data to list"
   ]
  },
  {
   "cell_type": "code",
   "execution_count": 16,
   "metadata": {},
   "outputs": [
    {
     "name": "stdout",
     "output_type": "stream",
     "text": [
      "['mango', 'apple', 'grapes']\n"
     ]
    }
   ],
   "source": [
    "# append method add data to last to list\n",
    "list=[\"mango\",'apple']\n",
    "list.append(\"grapes\")\n",
    "print(list)"
   ]
  },
  {
   "cell_type": "code",
   "execution_count": 17,
   "metadata": {},
   "outputs": [
    {
     "name": "stdout",
     "output_type": "stream",
     "text": [
      "['mango', 'apple', 'banana']\n"
     ]
    }
   ],
   "source": [
    "# real life program\n",
    "list=[]\n",
    "list.append(\"mango\")\n",
    "list.append(\"apple\")\n",
    "list.append(\"banana\")\n",
    "print(list)"
   ]
  },
  {
   "cell_type": "markdown",
   "metadata": {},
   "source": [
    "# some more method to add data in list"
   ]
  },
  {
   "cell_type": "code",
   "execution_count": 18,
   "metadata": {},
   "outputs": [
    {
     "name": "stdout",
     "output_type": "stream",
     "text": [
      "['apple', 'banana', 'mango']\n"
     ]
    }
   ],
   "source": [
    "#insert method :- at data to any position with the help of index\n",
    "fruits=['apple','mango']\n",
    "fruits.insert(1,'banana')\n",
    "print(fruits)              "
   ]
  },
  {
   "cell_type": "code",
   "execution_count": 19,
   "metadata": {},
   "outputs": [
    {
     "name": "stdout",
     "output_type": "stream",
     "text": [
      "['mango', 'apple', 'banana', 'grapes']\n"
     ]
    }
   ],
   "source": [
    "# how to join two list(concatenate)\n",
    "fruits1=[\"mango\",'apple']\n",
    "fruits2=['banana','grapes']\n",
    "print(fruits1+fruits2)"
   ]
  },
  {
   "cell_type": "code",
   "execution_count": 22,
   "metadata": {},
   "outputs": [
    {
     "name": "stdout",
     "output_type": "stream",
     "text": [
      "['mango', 'apple', 'banana', 'grapes']\n",
      "['banana', 'grapes']\n"
     ]
    }
   ],
   "source": [
    "#extend method:-add data of second list to first list data(at last)\n",
    "fruits1=[\"mango\",'apple']\n",
    "fruits2=['banana','grapes']\n",
    "fruits1.extend(fruits2)\n",
    "print(fruits1)\n",
    "print(fruits2)"
   ]
  },
  {
   "cell_type": "code",
   "execution_count": 23,
   "metadata": {},
   "outputs": [
    {
     "name": "stdout",
     "output_type": "stream",
     "text": [
      "['mango', 'apple', 'banana', 'grapes']\n",
      "['mango', 'apple', 'banana', 'grapes', ['banana', 'grapes']]\n"
     ]
    }
   ],
   "source": [
    "# difference between extend and append\n",
    "fruits1=[\"mango\",'apple']\n",
    "fruits2=['banana','grapes']\n",
    "fruits1.extend(fruits2) # add data \n",
    "print(fruits1)\n",
    "fruits1.append(fruits2)# add complete list(list inside list) \n",
    "print(fruits1)\n"
   ]
  },
  {
   "cell_type": "markdown",
   "metadata": {
    "collapsed": true
   },
   "source": [
    "# delete data in list"
   ]
  },
  {
   "cell_type": "code",
   "execution_count": 3,
   "metadata": {},
   "outputs": [
    {
     "name": "stdout",
     "output_type": "stream",
     "text": [
      "['mango', 'apple', 'banana']\n",
      "['mango', 'apple']\n"
     ]
    }
   ],
   "source": [
    "# pop():- by default delete last element\n",
    "fruits=['mango', 'apple', 'banana', 'grapes']\n",
    "fruits.pop()\n",
    "print(fruits)\n",
    "fruits.pop(2)# delete data at a given position\n",
    "print(fruits)"
   ]
  },
  {
   "cell_type": "code",
   "execution_count": 9,
   "metadata": {},
   "outputs": [
    {
     "name": "stdout",
     "output_type": "stream",
     "text": [
      "['mango', 'apple', 'grapes']\n"
     ]
    }
   ],
   "source": [
    "# del:-it delete data at a given position\n",
    "fruits=['mango', 'apple', 'banana', 'grapes']\n",
    "del fruits[2]\n",
    "print(fruits)"
   ]
  },
  {
   "cell_type": "code",
   "execution_count": 10,
   "metadata": {},
   "outputs": [
    {
     "name": "stdout",
     "output_type": "stream",
     "text": [
      "['mango', 'apple', 'grapes']\n"
     ]
    }
   ],
   "source": [
    "# remove:-delete data when we do not know position\n",
    "fruits=['mango', 'apple', 'banana', 'grapes']\n",
    "fruits.remove('banana')# if banana not present in list then we got error \n",
    "print(fruits)"
   ]
  },
  {
   "cell_type": "code",
   "execution_count": 11,
   "metadata": {},
   "outputs": [
    {
     "name": "stdout",
     "output_type": "stream",
     "text": [
      "['mango', 'apple', 'grapes', 'banana']\n"
     ]
    }
   ],
   "source": [
    "fruits=['mango', 'apple', 'banana', 'grapes','banana']\n",
    "fruits.remove('banana')# if banana present multiple times then it delete first banana\n",
    "print(fruits)"
   ]
  },
  {
   "cell_type": "markdown",
   "metadata": {},
   "source": [
    "# in keyword with list "
   ]
  },
  {
   "cell_type": "code",
   "execution_count": 12,
   "metadata": {},
   "outputs": [
    {
     "name": "stdout",
     "output_type": "stream",
     "text": [
      "mango is present\n"
     ]
    }
   ],
   "source": [
    "fruits=['mango', 'apple', 'banana', 'grapes','banana']\n",
    "if 'mango' in fruits:\n",
    "    print('mango is present')\n",
    "else:\n",
    "    print('mango is not present')"
   ]
  },
  {
   "cell_type": "markdown",
   "metadata": {},
   "source": [
    "# some more method in list"
   ]
  },
  {
   "cell_type": "code",
   "execution_count": 13,
   "metadata": {},
   "outputs": [
    {
     "data": {
      "text/plain": [
       "2"
      ]
     },
     "execution_count": 13,
     "metadata": {},
     "output_type": "execute_result"
    }
   ],
   "source": [
    "#count:-\n",
    "fruits=['mango', 'apple', 'banana', 'grapes','banana']\n",
    "fruits.count('banana')"
   ]
  },
  {
   "cell_type": "code",
   "execution_count": 17,
   "metadata": {},
   "outputs": [
    {
     "name": "stdout",
     "output_type": "stream",
     "text": [
      "['apple', 'banana', 'banana', 'grapes', 'mango']\n"
     ]
    }
   ],
   "source": [
    "#sort method:-it sort the list and change it\n",
    "fruits.sort()\n",
    "print(fruits)"
   ]
  },
  {
   "cell_type": "code",
   "execution_count": 19,
   "metadata": {},
   "outputs": [
    {
     "name": "stdout",
     "output_type": "stream",
     "text": [
      "['apple', 'banana', 'banana', 'grapes', 'mango']\n",
      "['mango', 'apple', 'banana', 'grapes', 'banana']\n"
     ]
    }
   ],
   "source": [
    "# sorted function:-it sort the list but do not change it\n",
    "fruits=['mango', 'apple', 'banana', 'grapes','banana']\n",
    "print(sorted(fruits))\n",
    "print(fruits) # here you see it do not change the original list"
   ]
  },
  {
   "cell_type": "code",
   "execution_count": 20,
   "metadata": {},
   "outputs": [
    {
     "name": "stdout",
     "output_type": "stream",
     "text": [
      "['banana', 'grapes', 'banana', 'apple', 'mango']\n"
     ]
    }
   ],
   "source": [
    "# reverse:- it reverse the list\n",
    "fruits.reverse()\n",
    "print(fruits)"
   ]
  },
  {
   "cell_type": "code",
   "execution_count": 21,
   "metadata": {},
   "outputs": [
    {
     "name": "stdout",
     "output_type": "stream",
     "text": [
      "[]\n"
     ]
    }
   ],
   "source": [
    "# clear:-empty the list\n",
    "fruits.clear()\n",
    "print(fruits)"
   ]
  },
  {
   "cell_type": "code",
   "execution_count": 22,
   "metadata": {},
   "outputs": [
    {
     "name": "stdout",
     "output_type": "stream",
     "text": [
      "['apple', 'banana', 'banana', 'grapes', 'mango']\n"
     ]
    }
   ],
   "source": [
    "fruits=['apple', 'banana', 'banana', 'grapes', 'mango']\n",
    "fruits_copy=fruits.copy()\n",
    "print(fruits_copy)"
   ]
  },
  {
   "cell_type": "markdown",
   "metadata": {},
   "source": [
    "# compare list (== ,is)"
   ]
  },
  {
   "cell_type": "code",
   "execution_count": 24,
   "metadata": {},
   "outputs": [
    {
     "name": "stdout",
     "output_type": "stream",
     "text": [
      "True\n",
      "False\n"
     ]
    }
   ],
   "source": [
    "fruits1=['apple', 'banana', 'banana', 'grapes', 'mango']\n",
    "fruits2=['apple', 'banana', 'banana', 'grapes', 'mango']\n",
    "fruits3=['apple', 'banana',  'grapes', 'mango']\n",
    "print(fruits1==fruits2)\n",
    "print(fruits1 is fruits2)"
   ]
  },
  {
   "cell_type": "markdown",
   "metadata": {},
   "source": [
    " in above eg:- here == comes true as it check values, if match then True else False\n",
    " ii> is comes false as it check address.if fruits1 and fruits2 point same memory location \n",
    " then true else false"
   ]
  },
  {
   "cell_type": "markdown",
   "metadata": {
    "collapsed": true
   },
   "source": [
    "# split and joint method "
   ]
  },
  {
   "cell_type": "code",
   "execution_count": 4,
   "metadata": {},
   "outputs": [
    {
     "name": "stdout",
     "output_type": "stream",
     "text": [
      "enter your name and agemanni 19\n",
      "['manni', '19']\n",
      "your name is: manni and  your age is : 19\n"
     ]
    }
   ],
   "source": [
    "# split :-convert string to list \n",
    "user_info=input(\"enter your name and age\").split(\" \")\n",
    "print(user_info)\n",
    "print(f\"your name is: {user_info[0]} and  your age is : {user_info[1]}\")"
   ]
  },
  {
   "cell_type": "code",
   "execution_count": 6,
   "metadata": {},
   "outputs": [
    {
     "name": "stdout",
     "output_type": "stream",
     "text": [
      "manni,19\n"
     ]
    }
   ],
   "source": [
    "#join :-convert list to string\n",
    "user_info=['manni' , '19'] # here you take data in string otherwise you get an error.\n",
    "print(','.join(user_info))"
   ]
  },
  {
   "cell_type": "markdown",
   "metadata": {},
   "source": [
    "# list v/s array"
   ]
  },
  {
   "cell_type": "raw",
   "metadata": {},
   "source": [
    " # c, c++, java :- array :- fixed data type\n",
    " list:-store any data , flexible\n",
    " python array module :- fixed data type\n",
    " javascript array=python list/flexible\n",
    " numpy array = binding with c libraries"
   ]
  },
  {
   "cell_type": "markdown",
   "metadata": {},
   "source": [
    "# list v/s string"
   ]
  },
  {
   "cell_type": "raw",
   "metadata": {},
   "source": [
    "# list are mutable\n",
    "string are immutable"
   ]
  },
  {
   "cell_type": "code",
   "execution_count": 2,
   "metadata": {},
   "outputs": [
    {
     "name": "stdout",
     "output_type": "stream",
     "text": [
      "mango\n",
      "apple\n",
      "guava\n",
      "orange\n",
      " \n",
      "mango apple guava orange "
     ]
    }
   ],
   "source": [
    "# looping in list\n",
    "fruits=['mango','apple','guava','orange']\n",
    "for i in fruits:\n",
    "    print(i)\n",
    "print(' ')    \n",
    "i=0\n",
    "while(i<len(fruits)):\n",
    "    print(fruits[i],end=' ')\n",
    "    i+=1"
   ]
  },
  {
   "cell_type": "markdown",
   "metadata": {},
   "source": [
    "# list inside list"
   ]
  },
  {
   "cell_type": "code",
   "execution_count": 12,
   "metadata": {},
   "outputs": [
    {
     "name": "stdout",
     "output_type": "stream",
     "text": [
      "[1, 2, 3]\n",
      "[4, 5, 6]\n",
      "[7, 8, 9]\n"
     ]
    }
   ],
   "source": [
    "matrix=[[1,2,3],[4,5,6],[7,8,9]] # 2-d list\n",
    "for i in matrix :\n",
    "    print(i)"
   ]
  },
  {
   "cell_type": "code",
   "execution_count": 13,
   "metadata": {},
   "outputs": [
    {
     "name": "stdout",
     "output_type": "stream",
     "text": [
      "1 2 3 4 5 6 7 8 9 "
     ]
    }
   ],
   "source": [
    "# now we have to print whole data\n",
    "for sublist in matrix:\n",
    "    for i in sublist:\n",
    "        print(i,end=' ')"
   ]
  },
  {
   "cell_type": "code",
   "execution_count": 7,
   "metadata": {},
   "outputs": [
    {
     "name": "stdout",
     "output_type": "stream",
     "text": [
      "6\n"
     ]
    }
   ],
   "source": [
    "# accesing data in list inside list\n",
    "print(matrix[1][2]) "
   ]
  },
  {
   "cell_type": "markdown",
   "metadata": {},
   "source": [
    "# type() function"
   ]
  },
  {
   "cell_type": "code",
   "execution_count": 12,
   "metadata": {},
   "outputs": [
    {
     "name": "stdout",
     "output_type": "stream",
     "text": [
      "<class 'str'>\n",
      "<class 'int'>\n"
     ]
    }
   ],
   "source": [
    "string ='manni'\n",
    "print(type(string))\n",
    "string=2\n",
    "print(type(string))"
   ]
  },
  {
   "cell_type": "code",
   "execution_count": 11,
   "metadata": {},
   "outputs": [
    {
     "name": "stdout",
     "output_type": "stream",
     "text": [
      "<class 'list'>\n"
     ]
    }
   ],
   "source": [
    "print(type(matrix))"
   ]
  },
  {
   "cell_type": "markdown",
   "metadata": {},
   "source": [
    "#  More about list"
   ]
  },
  {
   "cell_type": "code",
   "execution_count": 13,
   "metadata": {},
   "outputs": [
    {
     "name": "stdout",
     "output_type": "stream",
     "text": [
      "[1, 2, 3, 4, 5, 6, 7, 8, 9]\n"
     ]
    }
   ],
   "source": [
    "#generate list with range function\n",
    "list1=list(range(1,10))\n",
    "print(list1)"
   ]
  },
  {
   "cell_type": "code",
   "execution_count": 14,
   "metadata": {},
   "outputs": [
    {
     "data": {
      "text/plain": [
       "9"
      ]
     },
     "execution_count": 14,
     "metadata": {},
     "output_type": "execute_result"
    }
   ],
   "source": [
    "#something more about pop function\n",
    "list1.pop() # it return the data it pop "
   ]
  },
  {
   "cell_type": "code",
   "execution_count": 15,
   "metadata": {},
   "outputs": [
    {
     "name": "stdout",
     "output_type": "stream",
     "text": [
      "[1, 2, 4, 5, 6, 7, 8]\n",
      "3\n"
     ]
    }
   ],
   "source": [
    "poped_data=list1.pop(2)\n",
    "print(list1)\n",
    "print(poped_data)"
   ]
  },
  {
   "cell_type": "raw",
   "metadata": {},
   "source": [
    "# indexed method:- to know the index of a particular data.if data is not present in list\n",
    "then it produce error."
   ]
  },
  {
   "cell_type": "code",
   "execution_count": 16,
   "metadata": {},
   "outputs": [
    {
     "name": "stdout",
     "output_type": "stream",
     "text": [
      "2\n"
     ]
    }
   ],
   "source": [
    "print(list1.index(4))"
   ]
  },
  {
   "cell_type": "code",
   "execution_count": 23,
   "metadata": {},
   "outputs": [
    {
     "name": "stdout",
     "output_type": "stream",
     "text": [
      "0\n",
      "6\n"
     ]
    },
    {
     "ename": "ValueError",
     "evalue": "1 is not in list",
     "output_type": "error",
     "traceback": [
      "\u001b[1;31m---------------------------------------------------------------------------\u001b[0m",
      "\u001b[1;31mValueError\u001b[0m                                Traceback (most recent call last)",
      "\u001b[1;32m<ipython-input-23-9f5a6ab70609>\u001b[0m in \u001b[0;36m<module>\u001b[1;34m()\u001b[0m\n\u001b[0;32m      2\u001b[0m \u001b[0mprint\u001b[0m\u001b[1;33m(\u001b[0m\u001b[0mlist2\u001b[0m\u001b[1;33m.\u001b[0m\u001b[0mindex\u001b[0m\u001b[1;33m(\u001b[0m\u001b[1;36m1\u001b[0m\u001b[1;33m)\u001b[0m\u001b[1;33m)\u001b[0m\u001b[1;31m# if duplicate element found then it will show index of first found data\u001b[0m\u001b[1;33m\u001b[0m\u001b[0m\n\u001b[0;32m      3\u001b[0m \u001b[0mprint\u001b[0m\u001b[1;33m(\u001b[0m\u001b[0mlist2\u001b[0m\u001b[1;33m.\u001b[0m\u001b[0mindex\u001b[0m\u001b[1;33m(\u001b[0m\u001b[1;36m1\u001b[0m\u001b[1;33m,\u001b[0m\u001b[1;36m2\u001b[0m\u001b[1;33m)\u001b[0m\u001b[1;33m)\u001b[0m \u001b[1;31m# now searching start from position 2 and 2 meet at first at position 6\u001b[0m\u001b[1;33m\u001b[0m\u001b[0m\n\u001b[1;32m----> 4\u001b[1;33m \u001b[0mprint\u001b[0m\u001b[1;33m(\u001b[0m\u001b[0mlist2\u001b[0m\u001b[1;33m.\u001b[0m\u001b[0mindex\u001b[0m\u001b[1;33m(\u001b[0m\u001b[1;36m1\u001b[0m\u001b[1;33m,\u001b[0m\u001b[1;36m7\u001b[0m\u001b[1;33m,\u001b[0m\u001b[1;36m10\u001b[0m\u001b[1;33m)\u001b[0m\u001b[1;33m)\u001b[0m \u001b[1;31m# it searches data in list from position 7 to 9\u001b[0m\u001b[1;33m\u001b[0m\u001b[0m\n\u001b[0m",
      "\u001b[1;31mValueError\u001b[0m: 1 is not in list"
     ]
    }
   ],
   "source": [
    "list2=[1,2,3,4,5,6,1,2,3,5,1,6]\n",
    "print(list2.index(1))# if duplicate element found then it will show index of first found data\n",
    "print(list2.index(1,2)) # now searching start from position 2 and 2 meet at first at position 6\n",
    "print(list2.index(1,7,10)) # it searches data in list from position 7 to 9"
   ]
  },
  {
   "cell_type": "markdown",
   "metadata": {},
   "source": [
    "# pass list to a function"
   ]
  },
  {
   "cell_type": "code",
   "execution_count": 24,
   "metadata": {},
   "outputs": [
    {
     "name": "stdout",
     "output_type": "stream",
     "text": [
      "[-1, -2, -3, -4, -5, -6, -7, -8, -9]\n"
     ]
    }
   ],
   "source": [
    "numbers=[1,2,3,4,5,6,7,8,9]\n",
    "def negative_number(l):\n",
    "    negative=[]\n",
    "    for i in l:\n",
    "        negative.append(-i)\n",
    "    return negative\n",
    "print(negative_number(numbers))"
   ]
  },
  {
   "cell_type": "raw",
   "metadata": {},
   "source": [
    "q1> # define a function which take list as input and return list as output while containing square of each data."
   ]
  },
  {
   "cell_type": "code",
   "execution_count": 26,
   "metadata": {},
   "outputs": [
    {
     "name": "stdout",
     "output_type": "stream",
     "text": [
      "[1, 4, 9, 16, 25, 36, 49, 64]\n"
     ]
    }
   ],
   "source": [
    "def square_list(l):\n",
    "    list2=[]\n",
    "    for i in l:\n",
    "        list2.append(i*i)\n",
    "    return list2\n",
    "l=[1,2,3,4,5,6,7,8] # l=list(range(1,9))\n",
    "print(square_list(l))"
   ]
  },
  {
   "cell_type": "raw",
   "metadata": {},
   "source": [
    "q2>define a function which take list as input and this function will return reverse list\n",
    "don't use slicing [::-1]"
   ]
  },
  {
   "cell_type": "code",
   "execution_count": 28,
   "metadata": {},
   "outputs": [
    {
     "name": "stdout",
     "output_type": "stream",
     "text": [
      "[8, 7, 6, 5, 4, 3, 2, 1]\n"
     ]
    }
   ],
   "source": [
    "def reverse_list(l):\n",
    "    l.reverse()\n",
    "    return l\n",
    "l=[1,2,3,4,5,6,7,8] # l=list(range(1,9))\n",
    "print(reverse_list(l))        "
   ]
  },
  {
   "cell_type": "code",
   "execution_count": 29,
   "metadata": {},
   "outputs": [
    {
     "name": "stdout",
     "output_type": "stream",
     "text": [
      "[8, 7, 6, 5, 4, 3, 2, 1]\n"
     ]
    }
   ],
   "source": [
    "def reverse_list(l):\n",
    "    return l[::-1]\n",
    "l=[1,2,3,4,5,6,7,8] # l=list(range(1,9))\n",
    "print(reverse_list(l)) "
   ]
  },
  {
   "cell_type": "code",
   "execution_count": 31,
   "metadata": {},
   "outputs": [
    {
     "name": "stdout",
     "output_type": "stream",
     "text": [
      "[8, 7, 6, 5, 4, 3, 2, 1]\n"
     ]
    }
   ],
   "source": [
    "def reverse_list(l):\n",
    "    list2=[]\n",
    "    for i in range(len(l)):\n",
    "        list2.append(l.pop())\n",
    "    return list2\n",
    "l=[1,2,3,4,5,6,7,8] # l=list(range(1,9))\n",
    "print(reverse_list(l))  "
   ]
  },
  {
   "cell_type": "raw",
   "metadata": {},
   "source": [
    "q3>define a function which takes list of words as argument and this function return list with reverse of each word in the list\n"
   ]
  },
  {
   "cell_type": "code",
   "execution_count": 38,
   "metadata": {},
   "outputs": [
    {
     "name": "stdout",
     "output_type": "stream",
     "text": [
      "['innam', 'loed', 'ajar', 'mar']\n"
     ]
    }
   ],
   "source": [
    "def reverse_words_list(l):\n",
    "    list2=[]\n",
    "    for words in l:\n",
    "        list2.append(words[::-1])\n",
    "    return list2\n",
    "l=['manni','deol','raja','ram']\n",
    "print(reverse_words_list(l))"
   ]
  },
  {
   "cell_type": "raw",
   "metadata": {},
   "source": [
    "#q4> filter odd even\n",
    "define a function\n",
    "input eg:- [1,2,3,4,5,6,7,8,9]\n",
    "output:- [[1,3,5,7,9],[2,4,6,8]]\n"
   ]
  },
  {
   "cell_type": "code",
   "execution_count": 3,
   "metadata": {},
   "outputs": [
    {
     "name": "stdout",
     "output_type": "stream",
     "text": [
      "[[2, 4, 6, 8], [1, 3, 5, 7, 9]]\n"
     ]
    }
   ],
   "source": [
    "def filter_odd_even(l):\n",
    "    list1=[]\n",
    "    list2=[]\n",
    "    list3=[]\n",
    "    for i in l:\n",
    "        if i%2==0:\n",
    "            list1.append(i)\n",
    "        else:\n",
    "            list2.append(i)\n",
    "    list3.append(list1)\n",
    "    list3.append(list2)\n",
    "    return list3\n",
    "l=[1,2,3,4,5,6,7,8,9]\n",
    "print(filter_odd_even(l))"
   ]
  },
  {
   "cell_type": "code",
   "execution_count": 4,
   "metadata": {},
   "outputs": [
    {
     "name": "stdout",
     "output_type": "stream",
     "text": [
      "[[2, 4, 6, 8], [1, 3, 5, 7, 9]]\n"
     ]
    }
   ],
   "source": [
    "def filter_odd_even(l):\n",
    "    list1=[]\n",
    "    list2=[]\n",
    "    for i in l:\n",
    "        if i%2==0:\n",
    "            list1.append(i)\n",
    "        else:\n",
    "            list2.append(i)\n",
    "    output=[list1 , list2]\n",
    "    return output\n",
    "l=[1,2,3,4,5,6,7,8,9]\n",
    "print(filter_odd_even(l))"
   ]
  },
  {
   "cell_type": "raw",
   "metadata": {},
   "source": [
    "q5> common element finder\n",
    "define a function which takes two list as input and return a list\n",
    "which contain common elements of both lists"
   ]
  },
  {
   "cell_type": "code",
   "execution_count": 7,
   "metadata": {},
   "outputs": [
    {
     "name": "stdout",
     "output_type": "stream",
     "text": [
      "[3, 4, 5, 6]\n"
     ]
    }
   ],
   "source": [
    "def common_element_finder(l1,l2):\n",
    "    list1=[]\n",
    "    list2=[]\n",
    "    for i in l1:\n",
    "        if i not in list2:\n",
    "             if i in l2:\n",
    "                list1.append(i)\n",
    "        list2.append(i)    \n",
    "    return list1\n",
    "l1=[1,2,3,4,5,6,1,3,6]\n",
    "l2=[3,4,5,6,7,8,4,5,6]\n",
    "print(common_element_finder(l1,l2))"
   ]
  },
  {
   "cell_type": "markdown",
   "metadata": {},
   "source": [
    "# min() and max() function"
   ]
  },
  {
   "cell_type": "code",
   "execution_count": 8,
   "metadata": {},
   "outputs": [
    {
     "name": "stdout",
     "output_type": "stream",
     "text": [
      "56\n",
      "12\n"
     ]
    }
   ],
   "source": [
    "number=[34,56,12]\n",
    "print(max(number))\n",
    "print(min(number))"
   ]
  },
  {
   "cell_type": "raw",
   "metadata": {},
   "source": [
    "# define a function which takes list as input and print how many list present inside that list\n",
    "eg:- list[1,2,3,[4,5,6]]\n",
    "output 1"
   ]
  },
  {
   "cell_type": "code",
   "execution_count": 18,
   "metadata": {},
   "outputs": [
    {
     "name": "stdout",
     "output_type": "stream",
     "text": [
      "4\n"
     ]
    }
   ],
   "source": [
    "def count_list_inside_list(l1):\n",
    "    n=0\n",
    "    for sublist in l1:\n",
    "        j=0\n",
    "        t=str(sublist)\n",
    "        for i in t:\n",
    "            j=j+1\n",
    "            if(j>1):\n",
    "                n=n+1\n",
    "                break\n",
    "    return n\n",
    "l1=[1,[2,3],[4,5],[7,8,9],8,9,[2,6,9,8]]\n",
    "print(count_list_inside_list(l1))"
   ]
  },
  {
   "cell_type": "code",
   "execution_count": 20,
   "metadata": {},
   "outputs": [
    {
     "name": "stdout",
     "output_type": "stream",
     "text": [
      "4\n"
     ]
    }
   ],
   "source": [
    "def count_list_inside_list(l1):\n",
    "    count=0\n",
    "    for i in l1:\n",
    "        if(type(i)==list):\n",
    "            count=count+1\n",
    "    return count       \n",
    "l1=[1,[2,3],[4,5],[7,8,9],8,9,[2,6,9,8]]\n",
    "print(count_list_inside_list(l1))"
   ]
  },
  {
   "cell_type": "markdown",
   "metadata": {},
   "source": [
    "# tuples():-data structure(immutable)"
   ]
  },
  {
   "cell_type": "raw",
   "metadata": {},
   "source": [
    "#tuple data structure\n",
    "tuple can store any data type\n",
    "tuple are immutable, once tuple is created you can't update data inside tuple\n",
    "# tuple are faster than list\n",
    "methods:-\n",
    "1>count,index\n",
    "len() function\n",
    "slicing"
   ]
  },
  {
   "cell_type": "code",
   "execution_count": 22,
   "metadata": {},
   "outputs": [
    {
     "name": "stdout",
     "output_type": "stream",
     "text": [
      "('january', 'february')\n",
      "february\n"
     ]
    }
   ],
   "source": [
    "months=('january','february')\n",
    "print(months)\n",
    "print(months[1])"
   ]
  },
  {
   "cell_type": "markdown",
   "metadata": {
    "collapsed": true
   },
   "source": [
    "# more about tuples"
   ]
  },
  {
   "cell_type": "code",
   "execution_count": 1,
   "metadata": {},
   "outputs": [
    {
     "name": "stdout",
     "output_type": "stream",
     "text": [
      "manni\n",
      "deol\n",
      "raja\n"
     ]
    }
   ],
   "source": [
    "# loop inside tuple\n",
    "tuple1=('manni','deol','raja')\n",
    "for i in tuple1:\n",
    "    print(i)"
   ]
  },
  {
   "cell_type": "code",
   "execution_count": 5,
   "metadata": {},
   "outputs": [
    {
     "name": "stdout",
     "output_type": "stream",
     "text": [
      "<class 'int'>\n",
      "<class 'str'>\n",
      "<class 'tuple'>\n",
      "<class 'tuple'>\n"
     ]
    }
   ],
   "source": [
    "# tuple with one element\n",
    "num=(1)\n",
    "print(type(num))\n",
    "string=('manni')\n",
    "print(type(string))\n",
    "num=(1,)\n",
    "print(type(num))\n",
    "string=('manni',)\n",
    "print(type(string))"
   ]
  },
  {
   "cell_type": "code",
   "execution_count": 6,
   "metadata": {},
   "outputs": [
    {
     "name": "stdout",
     "output_type": "stream",
     "text": [
      "<class 'tuple'>\n"
     ]
    }
   ],
   "source": [
    "# tuple without parenthesis\n",
    "fruits='mango','apple','banana'\n",
    "print(type(fruits))"
   ]
  },
  {
   "cell_type": "code",
   "execution_count": 9,
   "metadata": {},
   "outputs": [
    {
     "name": "stdout",
     "output_type": "stream",
     "text": [
      "mango\n",
      "apple\n"
     ]
    }
   ],
   "source": [
    "# tuple unpacking\n",
    "fruits=('mango','apple','banana')\n",
    "fruits1,fruits2,fruits3=(fruits)\n",
    "print(fruits1)\n",
    "print(fruits2)"
   ]
  },
  {
   "cell_type": "code",
   "execution_count": 10,
   "metadata": {},
   "outputs": [
    {
     "ename": "ValueError",
     "evalue": "too many values to unpack (expected 2)",
     "output_type": "error",
     "traceback": [
      "\u001b[1;31m---------------------------------------------------------------------------\u001b[0m",
      "\u001b[1;31mValueError\u001b[0m                                Traceback (most recent call last)",
      "\u001b[1;32m<ipython-input-10-e8d3449543c7>\u001b[0m in \u001b[0;36m<module>\u001b[1;34m()\u001b[0m\n\u001b[0;32m      1\u001b[0m \u001b[0mfruits\u001b[0m\u001b[1;33m=\u001b[0m\u001b[1;33m(\u001b[0m\u001b[1;34m'mango'\u001b[0m\u001b[1;33m,\u001b[0m\u001b[1;34m'apple'\u001b[0m\u001b[1;33m,\u001b[0m\u001b[1;34m'banana'\u001b[0m\u001b[1;33m)\u001b[0m\u001b[1;33m\u001b[0m\u001b[0m\n\u001b[1;32m----> 2\u001b[1;33m \u001b[0mfruits1\u001b[0m\u001b[1;33m,\u001b[0m\u001b[0mfruits2\u001b[0m\u001b[1;33m=\u001b[0m\u001b[1;33m(\u001b[0m\u001b[0mfruits\u001b[0m\u001b[1;33m)\u001b[0m\u001b[1;33m\u001b[0m\u001b[0m\n\u001b[0m\u001b[0;32m      3\u001b[0m \u001b[0mprint\u001b[0m\u001b[1;33m(\u001b[0m\u001b[0mfruits1\u001b[0m\u001b[1;33m)\u001b[0m\u001b[1;33m\u001b[0m\u001b[0m\n\u001b[0;32m      4\u001b[0m \u001b[0mprint\u001b[0m\u001b[1;33m(\u001b[0m\u001b[0mfruits2\u001b[0m\u001b[1;33m)\u001b[0m\u001b[1;33m\u001b[0m\u001b[0m\n",
      "\u001b[1;31mValueError\u001b[0m: too many values to unpack (expected 2)"
     ]
    }
   ],
   "source": [
    "fruits=('mango','apple','banana')\n",
    "fruits1,fruits2=(fruits)\n",
    "print(fruits1)\n",
    "print(fruits2)"
   ]
  },
  {
   "cell_type": "markdown",
   "metadata": {},
   "source": [
    "# list inside tuple:-"
   ]
  },
  {
   "cell_type": "raw",
   "metadata": {},
   "source": [
    "# you can't change tuple element . but you can change list element\n",
    "i.e.you can add,remove data inside tuple element which is list"
   ]
  },
  {
   "cell_type": "code",
   "execution_count": 11,
   "metadata": {},
   "outputs": [
    {
     "ename": "AttributeError",
     "evalue": "'int' object has no attribute 'pop'",
     "output_type": "error",
     "traceback": [
      "\u001b[1;31m---------------------------------------------------------------------------\u001b[0m",
      "\u001b[1;31mAttributeError\u001b[0m                            Traceback (most recent call last)",
      "\u001b[1;32m<ipython-input-11-d2497df61ac0>\u001b[0m in \u001b[0;36m<module>\u001b[1;34m()\u001b[0m\n\u001b[0;32m      1\u001b[0m \u001b[0mmixed\u001b[0m\u001b[1;33m=\u001b[0m\u001b[1;33m(\u001b[0m\u001b[1;36m1\u001b[0m\u001b[1;33m,\u001b[0m\u001b[1;36m2\u001b[0m\u001b[1;33m,\u001b[0m\u001b[1;36m3\u001b[0m\u001b[1;33m,\u001b[0m\u001b[1;33m[\u001b[0m\u001b[1;34m'apple'\u001b[0m\u001b[1;33m,\u001b[0m\u001b[1;34m'banana'\u001b[0m\u001b[1;33m,\u001b[0m\u001b[1;34m'mango'\u001b[0m\u001b[1;33m,\u001b[0m\u001b[1;34m'orange'\u001b[0m\u001b[1;33m]\u001b[0m\u001b[1;33m)\u001b[0m\u001b[1;33m\u001b[0m\u001b[0m\n\u001b[1;32m----> 2\u001b[1;33m \u001b[0mmixed\u001b[0m\u001b[1;33m[\u001b[0m\u001b[1;36m1\u001b[0m\u001b[1;33m]\u001b[0m\u001b[1;33m.\u001b[0m\u001b[0mpop\u001b[0m\u001b[1;33m(\u001b[0m\u001b[1;33m)\u001b[0m\u001b[1;33m\u001b[0m\u001b[0m\n\u001b[0m",
      "\u001b[1;31mAttributeError\u001b[0m: 'int' object has no attribute 'pop'"
     ]
    }
   ],
   "source": [
    "mixed=(1,2,3,['apple','banana','mango','orange'])\n",
    "mixed[1].pop()"
   ]
  },
  {
   "cell_type": "code",
   "execution_count": 16,
   "metadata": {},
   "outputs": [
    {
     "name": "stdout",
     "output_type": "stream",
     "text": [
      "orange\n",
      "(1, 2, 3, ['apple', 'banana', 'mango', 'guava'])\n"
     ]
    }
   ],
   "source": [
    "mixed=(1,2,3,['apple','banana','mango','orange'])\n",
    "print(mixed[3].pop())\n",
    "mixed[3].append('guava')\n",
    "print(mixed)"
   ]
  },
  {
   "cell_type": "code",
   "execution_count": 19,
   "metadata": {},
   "outputs": [
    {
     "name": "stdout",
     "output_type": "stream",
     "text": [
      "1\n",
      "5.67\n",
      "15.67\n"
     ]
    }
   ],
   "source": [
    "# min(),max(),sum()\n",
    "l=(1,2,3,4,5.67)\n",
    "print(min(l))\n",
    "print(max(l))\n",
    "print(sum(l))"
   ]
  },
  {
   "cell_type": "markdown",
   "metadata": {},
   "source": [
    "# function returing two value"
   ]
  },
  {
   "cell_type": "code",
   "execution_count": 21,
   "metadata": {},
   "outputs": [
    {
     "name": "stdout",
     "output_type": "stream",
     "text": [
      "(5, 6)\n",
      "5 6\n"
     ]
    }
   ],
   "source": [
    "def func(a,b):\n",
    "    add=a+b\n",
    "    mul=a*b\n",
    "    return add,mul\n",
    "print(func(2,3))\n",
    "add,mul=func(2,3)\n",
    "print(add,mul)"
   ]
  },
  {
   "cell_type": "markdown",
   "metadata": {},
   "source": [
    "# something more about list , tuple,string"
   ]
  },
  {
   "cell_type": "code",
   "execution_count": 26,
   "metadata": {},
   "outputs": [
    {
     "name": "stdout",
     "output_type": "stream",
     "text": [
      "(1, 2, 3, 4, 5, 6, 7, 8, 9, 10)\n",
      "<class 'tuple'>\n",
      "(1, 2, 3, 4, 5, 6, 7, 8, 9, 10)\n",
      "<class 'str'>\n",
      "[1, 2, 3, 4, 5, 6, 7, 8, 9, 10]\n",
      "<class 'list'>\n"
     ]
    }
   ],
   "source": [
    "nums=tuple(range(1,11))\n",
    "print(nums)\n",
    "print(type(nums))\n",
    "nums=str(tuple(range(1,11)))\n",
    "print(nums)\n",
    "print(type(nums))\n",
    "nums=list(tuple(range(1,11)))\n",
    "print(nums)\n",
    "print(type(nums))# '[1,2,3,4,5,6,7,8,9,10]'"
   ]
  },
  {
   "cell_type": "markdown",
   "metadata": {
    "collapsed": true
   },
   "source": [
    "#  Dictionaries"
   ]
  },
  {
   "cell_type": "markdown",
   "metadata": {},
   "source": [
    "unordered collection of data in key : value pair"
   ]
  },
  {
   "cell_type": "code",
   "execution_count": 2,
   "metadata": {},
   "outputs": [
    {
     "name": "stdout",
     "output_type": "stream",
     "text": [
      "{'name': 'manni', 'age': 19}\n",
      "<class 'dict'>\n"
     ]
    }
   ],
   "source": [
    "# how to create dictionaries\n",
    "dict1={'name':'manni','age':19}\n",
    "print(dict1)\n",
    "print(type(dict1))"
   ]
  },
  {
   "cell_type": "code",
   "execution_count": 7,
   "metadata": {},
   "outputs": [
    {
     "name": "stdout",
     "output_type": "stream",
     "text": [
      "{'name': 'manni', 'age': 19}\n"
     ]
    }
   ],
   "source": [
    "# using dict keyword to create dictionaries\n",
    "dict1=dict(name='manni',age=19)# here we do not use 'name' and also : use =\n",
    "print(dict1)"
   ]
  },
  {
   "cell_type": "raw",
   "metadata": {},
   "source": [
    "# how to access data from dictionaries\n",
    "Note:- there is no indexing because of unordered collection of data"
   ]
  },
  {
   "cell_type": "code",
   "execution_count": 9,
   "metadata": {},
   "outputs": [
    {
     "name": "stdout",
     "output_type": "stream",
     "text": [
      "manni\n",
      "19\n"
     ]
    }
   ],
   "source": [
    "# using key we can access data\n",
    "print(dict1['name'])\n",
    "print(dict1['age'])"
   ]
  },
  {
   "cell_type": "raw",
   "metadata": {},
   "source": [
    "# which type of data a dictionaries can store\n",
    "anything\n",
    "number,list,dictionaries,string"
   ]
  },
  {
   "cell_type": "code",
   "execution_count": 11,
   "metadata": {},
   "outputs": [
    {
     "name": "stdout",
     "output_type": "stream",
     "text": [
      "['coco', 'mission impossible']\n"
     ]
    }
   ],
   "source": [
    "user_info={\n",
    "    'name':'manni' ,\n",
    "    'age': 19 ,\n",
    "    'fav_movies':['coco','mission impossible'],\n",
    "    'fav_tunes':['awakeing','fairy tales']\n",
    "}\n",
    "print(user_info['fav_movies'])"
   ]
  },
  {
   "cell_type": "code",
   "execution_count": 12,
   "metadata": {},
   "outputs": [
    {
     "name": "stdout",
     "output_type": "stream",
     "text": [
      "{'name': 'manni', 'age': 19}\n"
     ]
    }
   ],
   "source": [
    "# how to add data to empty dictionaries\n",
    "user_info={}\n",
    "user_info['name']='manni'\n",
    "user_info['age']=19\n",
    "print(user_info)"
   ]
  },
  {
   "cell_type": "markdown",
   "metadata": {},
   "source": [
    "# looping and in keyword in dictionaries"
   ]
  },
  {
   "cell_type": "code",
   "execution_count": 13,
   "metadata": {},
   "outputs": [
    {
     "name": "stdout",
     "output_type": "stream",
     "text": [
      "present\n"
     ]
    }
   ],
   "source": [
    "# check if key present in dict or not\n",
    "dict1=dict(name='manni',age=19)\n",
    "if 'name' in dict1:\n",
    "    print(\"present\")\n",
    "else:\n",
    "    print('not present')"
   ]
  },
  {
   "cell_type": "code",
   "execution_count": 14,
   "metadata": {},
   "outputs": [
    {
     "name": "stdout",
     "output_type": "stream",
     "text": [
      "present\n"
     ]
    }
   ],
   "source": [
    "# check if values present in dict or not\n",
    "if 'manni' in dict1.values(): # loops method\n",
    "    print('present')\n",
    "else:\n",
    "    print('not present')"
   ]
  },
  {
   "cell_type": "code",
   "execution_count": 15,
   "metadata": {},
   "outputs": [
    {
     "name": "stdout",
     "output_type": "stream",
     "text": [
      "name\n",
      "age\n"
     ]
    }
   ],
   "source": [
    "# loops in dictionaries\n",
    "for i in dict1:\n",
    "    print(i)"
   ]
  },
  {
   "cell_type": "code",
   "execution_count": 16,
   "metadata": {},
   "outputs": [
    {
     "name": "stdout",
     "output_type": "stream",
     "text": [
      "manni\n",
      "19\n"
     ]
    }
   ],
   "source": [
    "# print values in dict\n",
    "for i in dict1.values():\n",
    "    print(i)"
   ]
  },
  {
   "cell_type": "code",
   "execution_count": 19,
   "metadata": {},
   "outputs": [
    {
     "name": "stdout",
     "output_type": "stream",
     "text": [
      "dict_values(['manni', 19])\n",
      "<class 'dict_values'>\n"
     ]
    }
   ],
   "source": [
    "# values method\n",
    "dict2=dict1.values()\n",
    "print(dict2)\n",
    "print(type(dict2)) # output comes list but these are not list , these are dictionaries"
   ]
  },
  {
   "cell_type": "code",
   "execution_count": 21,
   "metadata": {},
   "outputs": [
    {
     "name": "stdout",
     "output_type": "stream",
     "text": [
      "dict_keys(['name', 'age'])\n",
      "<class 'dict_keys'>\n"
     ]
    }
   ],
   "source": [
    "# print keys:\n",
    "dict3=dict1.keys()\n",
    "print(dict3)\n",
    "print(type(dict3))"
   ]
  },
  {
   "cell_type": "code",
   "execution_count": 23,
   "metadata": {},
   "outputs": [
    {
     "name": "stdout",
     "output_type": "stream",
     "text": [
      "name\n",
      "manni\n",
      "age\n",
      "19\n"
     ]
    }
   ],
   "source": [
    "# print values with the help of keys\n",
    "for i in dict1:\n",
    "    print(i)# print keys\n",
    "    print(dict1[i]) # print values\n",
    "    "
   ]
  },
  {
   "cell_type": "markdown",
   "metadata": {},
   "source": [
    "# ltems method"
   ]
  },
  {
   "cell_type": "code",
   "execution_count": 25,
   "metadata": {},
   "outputs": [
    {
     "name": "stdout",
     "output_type": "stream",
     "text": [
      "dict_items([('name', 'manni'), ('age', 19)])\n",
      "<class 'dict_items'>\n"
     ]
    }
   ],
   "source": [
    "user_items=dict1.items()\n",
    "print(user_items)\n",
    "print(type(user_items))"
   ]
  },
  {
   "cell_type": "code",
   "execution_count": 29,
   "metadata": {},
   "outputs": [
    {
     "name": "stdout",
     "output_type": "stream",
     "text": [
      "key is :name and it's value is: manni\n",
      "key is :age and it's value is: 19\n"
     ]
    }
   ],
   "source": [
    "for key, value in dict1.items():\n",
    "    print(f'key is :{key} and it\\'s value is: {value}')"
   ]
  },
  {
   "cell_type": "markdown",
   "metadata": {},
   "source": [
    "#  add and delete data in dictionaries"
   ]
  },
  {
   "cell_type": "code",
   "execution_count": 35,
   "metadata": {},
   "outputs": [
    {
     "name": "stdout",
     "output_type": "stream",
     "text": [
      "{'name': 'manni', 'age': 19, 'fav_song': ['song1', 'song2', 'song3']}\n"
     ]
    }
   ],
   "source": [
    "# add data in list\n",
    "dict1['fav_song']=['song1','song2','song3']\n",
    "print(dict1)"
   ]
  },
  {
   "cell_type": "raw",
   "metadata": {},
   "source": [
    "# pop() method:-delete data in dictionaries.here you need to pass at least one argument in pop \n",
    "#method otherwise it produce error and it returns values of keys which you pop(delete)"
   ]
  },
  {
   "cell_type": "code",
   "execution_count": 36,
   "metadata": {},
   "outputs": [
    {
     "name": "stdout",
     "output_type": "stream",
     "text": [
      "['song1', 'song2', 'song3']\n",
      "{'name': 'manni', 'age': 19}\n",
      "<class 'list'>\n"
     ]
    }
   ],
   "source": [
    "poped_values=dict1.pop('fav_song') # it delete the key and retrun the values of that keys\n",
    "print(poped_values)\n",
    "print(dict1)\n",
    "print(type(poped_values)) # list as values present in key 'fav_song' is list"
   ]
  },
  {
   "cell_type": "markdown",
   "metadata": {},
   "source": [
    "# popitem() method"
   ]
  },
  {
   "cell_type": "markdown",
   "metadata": {},
   "source": [
    " it randomly pop a data of dictionaries"
   ]
  },
  {
   "cell_type": "code",
   "execution_count": 37,
   "metadata": {},
   "outputs": [
    {
     "name": "stdout",
     "output_type": "stream",
     "text": [
      "('age', 19)\n",
      "<class 'tuple'>\n",
      "{'name': 'manni'}\n"
     ]
    }
   ],
   "source": [
    "poped_item=dict1.popitem()\n",
    "print(poped_item)\n",
    "print(type(poped_item)) # return tuple as keys value pair inside dict is in tuple\n",
    "print(dict1)"
   ]
  },
  {
   "cell_type": "markdown",
   "metadata": {},
   "source": [
    "# update() method"
   ]
  },
  {
   "cell_type": "code",
   "execution_count": 39,
   "metadata": {},
   "outputs": [
    {
     "name": "stdout",
     "output_type": "stream",
     "text": [
      "{'name': 'raja ram', 'age': 19, 'fav_movies': ['coco', 'mission impossible'], 'fav_tunes': ['awakeing', 'fairy tales'], 'fav_song': ['song1', 'song2', 'song3']}\n"
     ]
    }
   ],
   "source": [
    "user_info={\n",
    "    'name':'manni' ,\n",
    "    'age': 19 ,\n",
    "    'fav_movies':['coco','mission impossible'],\n",
    "    'fav_tunes':['awakeing','fairy tales']\n",
    "}\n",
    "\n",
    "more_info={'name':'raja ram','fav_song':['song1','song2','song3']}\n",
    "user_info.update(more_info)\n",
    "print(user_info)"
   ]
  },
  {
   "cell_type": "raw",
   "metadata": {},
   "source": [
    "# in above eg:- name column is available in user_info .update method do not add extra column\n",
    "it update the same keys with new values"
   ]
  },
  {
   "cell_type": "code",
   "execution_count": 41,
   "metadata": {},
   "outputs": [
    {
     "name": "stdout",
     "output_type": "stream",
     "text": [
      "{'name': 'raja ram', 'age': 19, 'fav_movies': ['coco', 'mission impossible'], 'fav_tunes': ['awakeing', 'fairy tales'], 'fav_song': ['song1', 'song2', 'song3']}\n"
     ]
    }
   ],
   "source": [
    "user_info.update({})\n",
    "print(user_info)"
   ]
  },
  {
   "cell_type": "markdown",
   "metadata": {},
   "source": [
    "# fromkeys() method"
   ]
  },
  {
   "cell_type": "markdown",
   "metadata": {},
   "source": [
    "used when multiple keys share same values and you want to assign all keys at same time"
   ]
  },
  {
   "cell_type": "code",
   "execution_count": 43,
   "metadata": {},
   "outputs": [
    {
     "name": "stdout",
     "output_type": "stream",
     "text": [
      "{'name': 'unknown', 'age': 'unknown', 'roll': 'unknown'}\n"
     ]
    }
   ],
   "source": [
    "dict5=dict.fromkeys(['name','age','roll'],'unknown') \n",
    "print(dict5)"
   ]
  },
  {
   "cell_type": "code",
   "execution_count": 44,
   "metadata": {},
   "outputs": [
    {
     "name": "stdout",
     "output_type": "stream",
     "text": [
      "{'name': 'unknown', 'age': 'unknown', 'roll': 'unknown'}\n"
     ]
    }
   ],
   "source": [
    "dict5=dict.fromkeys(('name','age','roll'),'unknown') \n",
    "print(dict5)"
   ]
  },
  {
   "cell_type": "code",
   "execution_count": 45,
   "metadata": {},
   "outputs": [
    {
     "name": "stdout",
     "output_type": "stream",
     "text": [
      "{'a': 'unknown', 'b': 'unknown', 'c': 'unknown'}\n"
     ]
    }
   ],
   "source": [
    "dict5=dict.fromkeys('abc','unknown') \n",
    "print(dict5)"
   ]
  },
  {
   "cell_type": "code",
   "execution_count": 46,
   "metadata": {},
   "outputs": [
    {
     "name": "stdout",
     "output_type": "stream",
     "text": [
      "{1: 'unknown', 2: 'unknown', 3: 'unknown', 4: 'unknown', 5: 'unknown', 6: 'unknown', 7: 'unknown', 8: 'unknown', 9: 'unknown', 10: 'unknown'}\n"
     ]
    }
   ],
   "source": [
    "dict5=dict.fromkeys(range(1,11),'unknown') \n",
    "print(dict5)"
   ]
  },
  {
   "cell_type": "code",
   "execution_count": 47,
   "metadata": {},
   "outputs": [
    {
     "name": "stdout",
     "output_type": "stream",
     "text": [
      "{'name': ['manni', 19, 45], 'age': ['manni', 19, 45], 'roll': ['manni', 19, 45]}\n"
     ]
    }
   ],
   "source": [
    "dict5=dict.fromkeys(['name','age','roll'],['manni',19,45])\n",
    "print(dict5)"
   ]
  },
  {
   "cell_type": "markdown",
   "metadata": {},
   "source": [
    "#  get method"
   ]
  },
  {
   "cell_type": "markdown",
   "metadata": {},
   "source": [
    "#it is used to access value of a particular keys . but there is advantage that it \n",
    "do not produce error if keys are not found . it simply return none "
   ]
  },
  {
   "cell_type": "code",
   "execution_count": 49,
   "metadata": {},
   "outputs": [
    {
     "name": "stdout",
     "output_type": "stream",
     "text": [
      "manni\n",
      "None\n"
     ]
    }
   ],
   "source": [
    "dict1=dict(name='manni',age=19)\n",
    "print(dict1.get('name'))\n",
    "print(dict1.get('roll')) # it wont produce error it simply return none i.e roll is not present"
   ]
  },
  {
   "cell_type": "code",
   "execution_count": 51,
   "metadata": {},
   "outputs": [
    {
     "name": "stdout",
     "output_type": "stream",
     "text": [
      "name key present\n"
     ]
    }
   ],
   "source": [
    "if dict1.get('name'):\n",
    "    print('name key present')\n",
    "else:\n",
    "    print('not present')"
   ]
  },
  {
   "cell_type": "markdown",
   "metadata": {},
   "source": [
    "# clear and copy method"
   ]
  },
  {
   "cell_type": "code",
   "execution_count": 63,
   "metadata": {},
   "outputs": [
    {
     "name": "stdout",
     "output_type": "stream",
     "text": [
      "{'name': 'manni', 'age': 19}\n"
     ]
    }
   ],
   "source": [
    "dict1=dict(name='manni',age=19)\n",
    "dict2=dict1.copy()\n",
    "print(dict2)"
   ]
  },
  {
   "cell_type": "code",
   "execution_count": 55,
   "metadata": {},
   "outputs": [
    {
     "name": "stdout",
     "output_type": "stream",
     "text": [
      "False\n",
      "True\n"
     ]
    }
   ],
   "source": [
    "print(dict2 is dict1)\n",
    "print(dict2==dict1)"
   ]
  },
  {
   "cell_type": "code",
   "execution_count": 57,
   "metadata": {},
   "outputs": [
    {
     "name": "stdout",
     "output_type": "stream",
     "text": [
      "True\n",
      "True\n"
     ]
    }
   ],
   "source": [
    "dict3=dict2\n",
    "print(dict3 is dict2)\n",
    "print(dict3==dict2)"
   ]
  },
  {
   "cell_type": "raw",
   "metadata": {},
   "source": [
    "# d1=d2.copy() and d1=d2 both are different .\n",
    "#d1 =d2.copy() .here d1 and d2 are two different dictionaries. d2 data is simply get copy to d1.\n",
    "they won't share same memory location.if we change d1 then d2 won't get change.\n",
    " #d1=d2 .in this both share same memory location.if we change d1 then d2 also get change."
   ]
  },
  {
   "cell_type": "code",
   "execution_count": 65,
   "metadata": {},
   "outputs": [
    {
     "name": "stdout",
     "output_type": "stream",
     "text": [
      "{'name': 'manni', 'age': 19}\n",
      "manni\n",
      "{'age': 19}\n",
      "{'name': 'manni', 'age': 19}\n"
     ]
    }
   ],
   "source": [
    "dict1=dict(name='manni',age=19)\n",
    "dict2=dict1.copy()\n",
    "print(dict2)\n",
    "print(dict1.pop('name'))\n",
    "print(dict1)\n",
    "print(dict2)# her dict2 won't get change."
   ]
  },
  {
   "cell_type": "code",
   "execution_count": 69,
   "metadata": {},
   "outputs": [
    {
     "name": "stdout",
     "output_type": "stream",
     "text": [
      "{'name': 'manni', 'age': 19}\n",
      "manni\n",
      "{'age': 19}\n",
      "{'age': 19}\n"
     ]
    }
   ],
   "source": [
    "dict1=dict(name='manni',age=19)\n",
    "dict2=dict1\n",
    "print(dict2)\n",
    "print(dict1.pop('name'))\n",
    "print(dict1)\n",
    "print(dict2)# dict2 also get change as we change dict1"
   ]
  },
  {
   "cell_type": "code",
   "execution_count": 72,
   "metadata": {},
   "outputs": [
    {
     "name": "stdout",
     "output_type": "stream",
     "text": [
      "manni\n",
      "None\n",
      "not found\n"
     ]
    }
   ],
   "source": [
    "# more about get method\n",
    "dict1=dict(name='manni',age=19)\n",
    "print(dict1.get('name'))\n",
    "print(dict1.get('roll'))\n",
    "print(dict1.get('roll','not found')) # you can change the output "
   ]
  },
  {
   "cell_type": "code",
   "execution_count": 75,
   "metadata": {},
   "outputs": [
    {
     "ename": "SyntaxError",
     "evalue": "keyword argument repeated (<ipython-input-75-5ae7bd9fa05a>, line 1)",
     "output_type": "error",
     "traceback": [
      "\u001b[1;36m  File \u001b[1;32m\"<ipython-input-75-5ae7bd9fa05a>\"\u001b[1;36m, line \u001b[1;32m1\u001b[0m\n\u001b[1;33m    dict1=dict(name='manni',age=19,roll=45,age=44)\u001b[0m\n\u001b[1;37m                                          ^\u001b[0m\n\u001b[1;31mSyntaxError\u001b[0m\u001b[1;31m:\u001b[0m keyword argument repeated\n"
     ]
    }
   ],
   "source": [
    "dict1=dict(name='manni',age=19,roll=45,age=44)\n",
    "print(dict1)"
   ]
  },
  {
   "cell_type": "raw",
   "metadata": {},
   "source": [
    "# repetative keyword are not allowed in dictionaries"
   ]
  },
  {
   "cell_type": "raw",
   "metadata": {},
   "source": [
    "q1> define a function which takes number n.and returns a dictionaries containing a cube \n",
    "of number from 1 to n\n",
    "eg:- cube_finder(4)\n",
    "    output:-{1:1,2:8,3:27,4:64}"
   ]
  },
  {
   "cell_type": "code",
   "execution_count": 7,
   "metadata": {},
   "outputs": [
    {
     "name": "stdout",
     "output_type": "stream",
     "text": [
      "enter a number which we have to find cube4\n",
      "{1: 1, 2: 8, 3: 27, 4: 64}\n"
     ]
    }
   ],
   "source": [
    "def cube_finder(n):\n",
    "    dict1={}\n",
    "    for i in range(1 , n+1):\n",
    "        dict1[i]=(i**3)\n",
    "        i+=1\n",
    "    return dict1\n",
    "n=int(input(\"enter a number which we have to find cube\"))\n",
    "print(cube_finder(n))"
   ]
  },
  {
   "cell_type": "code",
   "execution_count": null,
   "metadata": {
    "collapsed": true
   },
   "outputs": [],
   "source": [
    "# word counter"
   ]
  },
  {
   "cell_type": "code",
   "execution_count": 10,
   "metadata": {},
   "outputs": [
    {
     "name": "stdout",
     "output_type": "stream",
     "text": [
      "{'m': 2, 'a': 2, 'n': 4, 'i': 2, 'd': 1, 'e': 1, 'o': 1, 'l': 1}\n"
     ]
    }
   ],
   "source": [
    "def word_counter(string):\n",
    "    count={}\n",
    "    for i in string:\n",
    "        count[i]=string.count(i)\n",
    "    return count\n",
    "string='mannideolmanni'\n",
    "print(word_counter(string))"
   ]
  },
  {
   "cell_type": "raw",
   "metadata": {},
   "source": [
    "# here you see that in dictionaries you need not necessary to check if data is repeated as dictionaries automatically remove the duplicate keys"
   ]
  },
  {
   "cell_type": "code",
   "execution_count": 2,
   "metadata": {},
   "outputs": [
    {
     "name": "stdout",
     "output_type": "stream",
     "text": [
      "enter your namemanni\n",
      "enter your age19\n",
      "enter your favourite moviesmovies1,movie2,movie3\n",
      "enter your favourite songsong1,song2,song3\n",
      "name:manni\n",
      "age:19\n",
      "fav_movies:['movies1', 'movie2', 'movie3']\n",
      "fav_song:['song1', 'song2', 'song3']\n"
     ]
    }
   ],
   "source": [
    "#q1 take all value from user and print key and value of dictionaries in seperate line\n",
    "dict1={}\n",
    "name=input('enter your name')\n",
    "age=input('enter your age')\n",
    "fav_movies=input('enter your favourite movies').split(',')\n",
    "fav_song=input('enter your favourite song').split(',')\n",
    "dict1['name']=name\n",
    "dict1['age']=int(age)\n",
    "dict1['fav_movies']=fav_movies\n",
    "dict1['fav_song']=fav_song\n",
    "for key , value in dict1.items():\n",
    "    print(f\"{key}:{value}\")"
   ]
  },
  {
   "cell_type": "markdown",
   "metadata": {},
   "source": [
    "#  set data structure"
   ]
  },
  {
   "cell_type": "markdown",
   "metadata": {},
   "source": [
    "#unordered collection of unique items"
   ]
  },
  {
   "cell_type": "markdown",
   "metadata": {},
   "source": [
    "#unordered means that output is not fixed. element can be placed in any order"
   ]
  },
  {
   "cell_type": "code",
   "execution_count": 3,
   "metadata": {},
   "outputs": [
    {
     "name": "stdout",
     "output_type": "stream",
     "text": [
      "{1, 2, 3, 4, 5}\n"
     ]
    }
   ],
   "source": [
    "s={1,2,3,4,4,5,1,1,5}\n",
    "print(s)"
   ]
  },
  {
   "cell_type": "code",
   "execution_count": 4,
   "metadata": {},
   "outputs": [
    {
     "ename": "TypeError",
     "evalue": "'set' object does not support indexing",
     "output_type": "error",
     "traceback": [
      "\u001b[1;31m---------------------------------------------------------------------------\u001b[0m",
      "\u001b[1;31mTypeError\u001b[0m                                 Traceback (most recent call last)",
      "\u001b[1;32m<ipython-input-4-9b2c4d127bfa>\u001b[0m in \u001b[0;36m<module>\u001b[1;34m()\u001b[0m\n\u001b[1;32m----> 1\u001b[1;33m \u001b[0mprint\u001b[0m\u001b[1;33m(\u001b[0m\u001b[0ms\u001b[0m\u001b[1;33m[\u001b[0m\u001b[1;36m1\u001b[0m\u001b[1;33m]\u001b[0m\u001b[1;33m)\u001b[0m\u001b[1;33m\u001b[0m\u001b[0m\n\u001b[0m",
      "\u001b[1;31mTypeError\u001b[0m: 'set' object does not support indexing"
     ]
    }
   ],
   "source": [
    "print(s[1]) # unordered means that it doesn't support indexing"
   ]
  },
  {
   "cell_type": "code",
   "execution_count": 6,
   "metadata": {},
   "outputs": [
    {
     "name": "stdout",
     "output_type": "stream",
     "text": [
      "{1, 2, 3, 4, 5, 6}\n",
      "[1, 2, 3, 4, 5, 6]\n"
     ]
    }
   ],
   "source": [
    "# use of set to find unique element i.e to remove duplicate\n",
    "list1=[1,2,3,4,5,1,1,1,2,2,2,5,5,5,6]\n",
    "s=set(list1)\n",
    "print(s)\n",
    "list2=list(s)\n",
    "print(list2)"
   ]
  },
  {
   "cell_type": "markdown",
   "metadata": {},
   "source": [
    "# some method in set"
   ]
  },
  {
   "cell_type": "code",
   "execution_count": 9,
   "metadata": {},
   "outputs": [
    {
     "name": "stdout",
     "output_type": "stream",
     "text": [
      "{1, 2, 3, 4, 5, 6, 12}\n"
     ]
    }
   ],
   "source": [
    "# add data \n",
    "s.add(12)\n",
    "print(s)"
   ]
  },
  {
   "cell_type": "code",
   "execution_count": 10,
   "metadata": {},
   "outputs": [
    {
     "name": "stdout",
     "output_type": "stream",
     "text": [
      "{2, 3, 4, 5, 6, 12}\n"
     ]
    }
   ],
   "source": [
    "# remove()\n",
    "s.remove(1)\n",
    "print(s)"
   ]
  },
  {
   "cell_type": "code",
   "execution_count": 11,
   "metadata": {},
   "outputs": [
    {
     "ename": "KeyError",
     "evalue": "15",
     "output_type": "error",
     "traceback": [
      "\u001b[1;31m---------------------------------------------------------------------------\u001b[0m",
      "\u001b[1;31mKeyError\u001b[0m                                  Traceback (most recent call last)",
      "\u001b[1;32m<ipython-input-11-19fc64f89ec9>\u001b[0m in \u001b[0;36m<module>\u001b[1;34m()\u001b[0m\n\u001b[1;32m----> 1\u001b[1;33m \u001b[0ms\u001b[0m\u001b[1;33m.\u001b[0m\u001b[0mremove\u001b[0m\u001b[1;33m(\u001b[0m\u001b[1;36m15\u001b[0m\u001b[1;33m)\u001b[0m\u001b[1;33m\u001b[0m\u001b[0m\n\u001b[0m\u001b[0;32m      2\u001b[0m \u001b[0mprint\u001b[0m\u001b[1;33m(\u001b[0m\u001b[0mS\u001b[0m\u001b[1;33m)\u001b[0m\u001b[1;33m\u001b[0m\u001b[0m\n",
      "\u001b[1;31mKeyError\u001b[0m: 15"
     ]
    }
   ],
   "source": [
    "s.remove(15) # if data is not present then it will produce error.so we use discard method\n",
    "print(S)"
   ]
  },
  {
   "cell_type": "code",
   "execution_count": 13,
   "metadata": {},
   "outputs": [
    {
     "name": "stdout",
     "output_type": "stream",
     "text": [
      "{2, 4, 5, 6, 12}\n",
      "{2, 4, 5, 6, 12}\n"
     ]
    }
   ],
   "source": [
    "# discard():-it also remove data but it will not produce error if data is not present.\n",
    "s.discard(3)\n",
    "print(s)\n",
    "s.discard(18) # not produce error\n",
    "print(s)"
   ]
  },
  {
   "cell_type": "code",
   "execution_count": 14,
   "metadata": {},
   "outputs": [
    {
     "name": "stdout",
     "output_type": "stream",
     "text": [
      "{2, 4, 5, 6, 12}\n"
     ]
    }
   ],
   "source": [
    "# copy():-copy data of one set to another\n",
    "s1=s.copy()\n",
    "print(s1)"
   ]
  },
  {
   "cell_type": "code",
   "execution_count": 15,
   "metadata": {},
   "outputs": [
    {
     "name": "stdout",
     "output_type": "stream",
     "text": [
      "set()\n"
     ]
    }
   ],
   "source": [
    "# clear():- it clear the set i.e it delete all element in set\n",
    "s1.clear()\n",
    "print(s1) # empty set created"
   ]
  },
  {
   "cell_type": "code",
   "execution_count": 16,
   "metadata": {},
   "outputs": [
    {
     "name": "stdout",
     "output_type": "stream",
     "text": [
      "{'manni', 1, 2, 3.45}\n"
     ]
    }
   ],
   "source": [
    "# we cannot store list, tuple, dictionaries inside set\n",
    "set1={1,1.0,2,3.45,'manni'}\n",
    "print(set1)"
   ]
  },
  {
   "cell_type": "markdown",
   "metadata": {},
   "source": [
    "#see output order are not same and it treate 1 and 1.0 as same.we can store int , float , string inside set"
   ]
  },
  {
   "cell_type": "code",
   "execution_count": 17,
   "metadata": {},
   "outputs": [
    {
     "ename": "TypeError",
     "evalue": "unhashable type: 'list'",
     "output_type": "error",
     "traceback": [
      "\u001b[1;31m---------------------------------------------------------------------------\u001b[0m",
      "\u001b[1;31mTypeError\u001b[0m                                 Traceback (most recent call last)",
      "\u001b[1;32m<ipython-input-17-f18279733eb1>\u001b[0m in \u001b[0;36m<module>\u001b[1;34m()\u001b[0m\n\u001b[1;32m----> 1\u001b[1;33m \u001b[0mset1\u001b[0m\u001b[1;33m=\u001b[0m\u001b[1;33m{\u001b[0m\u001b[1;36m1\u001b[0m\u001b[1;33m,\u001b[0m\u001b[1;36m1.0\u001b[0m\u001b[1;33m,\u001b[0m\u001b[1;36m2\u001b[0m\u001b[1;33m,\u001b[0m\u001b[1;36m3.45\u001b[0m\u001b[1;33m,\u001b[0m\u001b[1;34m'manni'\u001b[0m\u001b[1;33m,\u001b[0m\u001b[1;33m[\u001b[0m\u001b[1;36m1\u001b[0m\u001b[1;33m,\u001b[0m\u001b[1;36m2\u001b[0m\u001b[1;33m]\u001b[0m\u001b[1;33m,\u001b[0m\u001b[1;33m{\u001b[0m\u001b[1;36m3\u001b[0m\u001b[1;33m:\u001b[0m\u001b[1;36m9\u001b[0m\u001b[1;33m}\u001b[0m\u001b[1;33m,\u001b[0m\u001b[1;33m(\u001b[0m\u001b[1;36m2\u001b[0m\u001b[1;33m,\u001b[0m\u001b[1;36m5\u001b[0m\u001b[1;33m)\u001b[0m\u001b[1;33m}\u001b[0m\u001b[1;33m\u001b[0m\u001b[0m\n\u001b[0m\u001b[0;32m      2\u001b[0m \u001b[0mprint\u001b[0m\u001b[1;33m(\u001b[0m\u001b[0mset1\u001b[0m\u001b[1;33m)\u001b[0m\u001b[1;33m\u001b[0m\u001b[0m\n",
      "\u001b[1;31mTypeError\u001b[0m: unhashable type: 'list'"
     ]
    }
   ],
   "source": [
    "set1={1,1.0,2,3.45,'manni',[1,2],{3:9},(2,5)}\n",
    "print(set1)"
   ]
  },
  {
   "cell_type": "markdown",
   "metadata": {},
   "source": [
    "# in keyword in set and for loop"
   ]
  },
  {
   "cell_type": "code",
   "execution_count": 18,
   "metadata": {},
   "outputs": [
    {
     "name": "stdout",
     "output_type": "stream",
     "text": [
      "present\n"
     ]
    }
   ],
   "source": [
    "if  1 in set1:\n",
    "    print('present')\n",
    "else :\n",
    "    print(\"not present\")"
   ]
  },
  {
   "cell_type": "code",
   "execution_count": 19,
   "metadata": {},
   "outputs": [
    {
     "name": "stdout",
     "output_type": "stream",
     "text": [
      "manni\n",
      "1\n",
      "2\n",
      "3.45\n"
     ]
    }
   ],
   "source": [
    "for i in set1:\n",
    "    print(i)"
   ]
  },
  {
   "cell_type": "code",
   "execution_count": 20,
   "metadata": {},
   "outputs": [
    {
     "name": "stdout",
     "output_type": "stream",
     "text": [
      "{1, 2, 3, 4, 5, 6, 7, 8, 9}\n"
     ]
    }
   ],
   "source": [
    "# union in set \n",
    "#operator | pipe\n",
    "s1={1,2,3,4,5,6,7}\n",
    "s2={3,4,5,6,7,8,9}\n",
    "print(s1|s2)"
   ]
  },
  {
   "cell_type": "code",
   "execution_count": 21,
   "metadata": {},
   "outputs": [
    {
     "name": "stdout",
     "output_type": "stream",
     "text": [
      "{3, 4, 5, 6, 7}\n"
     ]
    }
   ],
   "source": [
    "# intersection :- &\n",
    "print(s1&s2)"
   ]
  },
  {
   "cell_type": "code",
   "execution_count": 3,
   "metadata": {},
   "outputs": [
    {
     "name": "stdout",
     "output_type": "stream",
     "text": [
      "2 6\n"
     ]
    }
   ],
   "source": [
    "def func(a,b):\n",
    "    c=b\n",
    "    b=a\n",
    "    a=c\n",
    "a=2\n",
    "b=6 \n",
    "func()\n",
    "print(a,b)"
   ]
  },
  {
   "cell_type": "code",
   "execution_count": null,
   "metadata": {
    "collapsed": true
   },
   "outputs": [],
   "source": []
  }
 ],
 "metadata": {
  "kernelspec": {
   "display_name": "Python 3",
   "language": "python",
   "name": "python3"
  },
  "language_info": {
   "codemirror_mode": {
    "name": "ipython",
    "version": 3
   },
   "file_extension": ".py",
   "mimetype": "text/x-python",
   "name": "python",
   "nbconvert_exporter": "python",
   "pygments_lexer": "ipython3",
   "version": "3.6.1"
  }
 },
 "nbformat": 4,
 "nbformat_minor": 2
}
