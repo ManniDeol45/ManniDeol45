{
 "cells": [
  {
   "cell_type": "markdown",
   "metadata": {},
   "source": [
    "# read text file"
   ]
  },
  {
   "cell_type": "raw",
   "metadata": {},
   "source": [
    "# open ()\n",
    "read()\n",
    "seek() :-  set cursor position\n",
    "tell() :- print cursor position\n",
    "readline() :- read line by line\n",
    "readlines():- read whole file and return list\n",
    "close()"
   ]
  },
  {
   "cell_type": "code",
   "execution_count": 8,
   "metadata": {},
   "outputs": [
    {
     "name": "stdout",
     "output_type": "stream",
     "text": [
      "cursor position 0\n",
      "manni deol is a badboy. Raja is a good boy .\n",
      "my father name is manoj singh . i live in patna. patna is a good town.\n",
      "patna is the capital of bihar.\n",
      "\n",
      "cursor position 150\n",
      "before seek method\n",
      "manni deol is a badboy. Raja is a good boy .\n",
      "my father name is manoj singh . i live in patna. patna is a good town.\n",
      "patna is the capital of bihar.\n",
      "\n",
      "after seek method\n",
      "cursor position 150\n"
     ]
    }
   ],
   "source": [
    "# open()\n",
    "f=open('D:\\\\manni.txt')\n",
    "#f=open('D:\\\\manni.txt','r') by default mode is r .\n",
    "print(f'cursor position {f.tell()}')\n",
    "print(f.read())\n",
    "print(f'cursor position {f.tell()}')\n",
    "print('before seek method')\n",
    "f.seek(0)\n",
    "print(f.read()) # here you see it doesn't print twice.as in first read() fuction read file and \n",
    "# cursor comes at last and again you call read() function but there is nothing to read so this\n",
    "# read function print nothing\n",
    "print('after seek method')\n",
    "print(f'cursor position {f.tell()}')\n",
    "f.close()"
   ]
  },
  {
   "cell_type": "code",
   "execution_count": 19,
   "metadata": {},
   "outputs": [
    {
     "name": "stdout",
     "output_type": "stream",
     "text": [
      "cursor position 0\n",
      "manni deol is a badboy. Raja is a good boy .\n",
      "my father name is manoj singh . i live in patna. patna is a good town.\n",
      "\n",
      "cursor position 118\n"
     ]
    }
   ],
   "source": [
    "f=open('D:\\\\manni.txt')\n",
    "print(f'cursor position {f.tell()}')\n",
    "print(f.readline(),end=\"\")\n",
    "print(f.readline())\n",
    "print(f'cursor position {f.tell()}')"
   ]
  },
  {
   "cell_type": "code",
   "execution_count": 23,
   "metadata": {},
   "outputs": [
    {
     "name": "stdout",
     "output_type": "stream",
     "text": [
      "cursor position 0\n",
      "['manni deol is a badboy. Raja is a good boy .\\n', 'my father name is manoj singh . i live in patna. patna is a good town.\\n', 'patna is the capital of bihar.\\n']\n",
      "3\n",
      "manni deol is a badboy. Raja is a good boy .\n",
      "my father name is manoj singh . i live in patna. patna is a good town.\n",
      "patna is the capital of bihar.\n",
      "cursor position 150\n"
     ]
    }
   ],
   "source": [
    "f=open('D:\\\\manni.txt')\n",
    "print(f'cursor position {f.tell()}')\n",
    "lines=f.readlines() # return list\n",
    "print(lines)\n",
    "print(len(lines))\n",
    "# another way\n",
    "for line in lines:\n",
    "    print(line,end='')\n",
    "print(f'cursor position {f.tell()}')"
   ]
  },
  {
   "cell_type": "markdown",
   "metadata": {},
   "source": [
    "# name\n",
    "# closed"
   ]
  },
  {
   "cell_type": "code",
   "execution_count": 26,
   "metadata": {},
   "outputs": [
    {
     "name": "stdout",
     "output_type": "stream",
     "text": [
      "D:\\manni.txt\n",
      "False\n",
      "True\n"
     ]
    }
   ],
   "source": [
    "# two data discriptor\n",
    "#name :- to get file name\n",
    "#closed :- to check whether file is closed or not . return true or false\n",
    "print(f.name)\n",
    "print(f.closed)\n",
    "f.close()\n",
    "print(f.closed)"
   ]
  },
  {
   "cell_type": "raw",
   "metadata": {},
   "source": [
    "f=open('D:\\nmanni.txt')\n",
    "# in path you got error \n",
    "as in windows \\ for path\n",
    "in linux or mac / for path\n",
    "and you know \\n ,\\t are escape sequence in python\n",
    "in above eg:- while reading file path it encounter \\n the python compiler treat it like a escape\n",
    "sequence not like a normal text. so either we use \\\\ or f' '\n",
    "f=open('D:\\\\nmanni.txt')\n",
    "or\n",
    "f=open(f'D:\\nmanni.txt')"
   ]
  },
  {
   "cell_type": "code",
   "execution_count": 30,
   "metadata": {},
   "outputs": [
    {
     "name": "stdout",
     "output_type": "stream",
     "text": [
      "manni deol is a badboy. Raja is a good boy .\n",
      "\n",
      "my father name is manoj singh . i live in patna. patna is a good town.\n",
      "\n",
      "patna is the capital of bihar.\n",
      "\n"
     ]
    }
   ],
   "source": [
    "f=open('D:\\manni.txt')\n",
    "for line in f:\n",
    "    print(line)\n",
    "f.close()    "
   ]
  },
  {
   "cell_type": "code",
   "execution_count": 32,
   "metadata": {},
   "outputs": [
    {
     "name": "stdout",
     "output_type": "stream",
     "text": [
      "manni deol is a badboy. Raja is a good boy .\n",
      "\n",
      "my father name is manoj singh . i live in patna. patna is a good town.\n",
      "\n"
     ]
    }
   ],
   "source": [
    "f=open('D:\\manni.txt')\n",
    "for line in f.readlines()[:2]: # here you perform slicing operation also \n",
    "    print(line)\n",
    "f.close()    "
   ]
  },
  {
   "cell_type": "markdown",
   "metadata": {
    "collapsed": true
   },
   "source": [
    "# with block"
   ]
  },
  {
   "cell_type": "code",
   "execution_count": 1,
   "metadata": {
    "collapsed": true
   },
   "outputs": [],
   "source": [
    "# context manager"
   ]
  },
  {
   "cell_type": "code",
   "execution_count": 6,
   "metadata": {},
   "outputs": [
    {
     "name": "stdout",
     "output_type": "stream",
     "text": [
      "manni deol is a badboy. Raja is a good boy .\n",
      "my father name is manoj singh . i live in patna. patna is a good town.\n",
      "patna is the capital of bihar.\n",
      "\n",
      "True\n"
     ]
    }
   ],
   "source": [
    "with open('D:\\manni.txt') as f:\n",
    "    data=f.read()\n",
    "    print(data)\n",
    "    \n",
    "print(f.closed)    "
   ]
  },
  {
   "cell_type": "raw",
   "metadata": {},
   "source": [
    "# what is the need of with block?\n",
    "# while using with block you need not worry about file is closed or not. and if your file is \n",
    "damaged then there is context manager which handle all the file related issue\n"
   ]
  },
  {
   "cell_type": "markdown",
   "metadata": {},
   "source": [
    "# write text to file"
   ]
  },
  {
   "cell_type": "raw",
   "metadata": {},
   "source": [
    "'w':- create a new empty file if file not exist.\n",
    "    if file exist then it overwrite the data (i.e it delete the previous data and entered new data\n",
    "    to the file)."
   ]
  },
  {
   "cell_type": "code",
   "execution_count": 9,
   "metadata": {
    "collapsed": true
   },
   "outputs": [],
   "source": [
    "with open('D:\\\\raja.txt','w') as f:\n",
    "    f.write('manni is a good boy.') # it create a new file in D block as raja.txt is not available\n",
    "    # there."
   ]
  },
  {
   "cell_type": "code",
   "execution_count": 11,
   "metadata": {},
   "outputs": [
    {
     "name": "stdout",
     "output_type": "stream",
     "text": [
      "raja is an intelligent boy .he can study well.\n"
     ]
    }
   ],
   "source": [
    "with open('D:\\\\raja.txt','w') as f:\n",
    "    f.write('raja is an intelligent boy .he can study well.')\n",
    "with open('D:\\\\raja.txt','r') as f:   \n",
    "    print(f.read()) # here you see your previous data in the raja.txt file is get deleted and new\n",
    "    #data overwrite the file."
   ]
  },
  {
   "cell_type": "raw",
   "metadata": {},
   "source": [
    "'a':- create a new empty file if file not exist.\n",
    "    if file exist then it add data to the file at last."
   ]
  },
  {
   "cell_type": "code",
   "execution_count": 13,
   "metadata": {},
   "outputs": [
    {
     "name": "stdout",
     "output_type": "stream",
     "text": [
      "raja is an intelligent boy .he can study well.he is 19 year old . he lives in patna\n",
      "he is 19 year old . he lives in patna\n"
     ]
    }
   ],
   "source": [
    "with open('D:\\\\raja.txt','a') as f:\n",
    "    f.write('\\nhe is 19 year old . he lives in patna')\n",
    "with open('D:\\\\raja.txt','r') as f:   \n",
    "    print(f.read()) # here you see your file data won't get overwrite but new data get added at \n",
    "    # last of the file."
   ]
  },
  {
   "cell_type": "code",
   "execution_count": 18,
   "metadata": {},
   "outputs": [
    {
     "name": "stdout",
     "output_type": "stream",
     "text": [
      "ram is goodar old . he lives in patnahe is 19 year old . he lives in patna\n"
     ]
    }
   ],
   "source": [
    "with open('D:\\\\ram.txt','a') as f:\n",
    "    f.write('he is 19 year old . he lives in patna') # ram.txt file is not present in D block .so\n",
    "    # 'a' create a new file and append data to it\n",
    "with open('D:\\\\ram.txt','r') as f:\n",
    "    print(f.read() )"
   ]
  },
  {
   "cell_type": "code",
   "execution_count": 15,
   "metadata": {
    "collapsed": true
   },
   "outputs": [],
   "source": [
    "# 'r+' mode :- read and write both. if file not exist then it produce error. \n",
    "# if exist then it overwrite the data ."
   ]
  },
  {
   "cell_type": "code",
   "execution_count": 16,
   "metadata": {},
   "outputs": [
    {
     "ename": "FileNotFoundError",
     "evalue": "[Errno 2] No such file or directory: 'D:\\\\raj.txt'",
     "output_type": "error",
     "traceback": [
      "\u001b[1;31m---------------------------------------------------------------------------\u001b[0m",
      "\u001b[1;31mFileNotFoundError\u001b[0m                         Traceback (most recent call last)",
      "\u001b[1;32m<ipython-input-16-1beb6a8043c2>\u001b[0m in \u001b[0;36m<module>\u001b[1;34m()\u001b[0m\n\u001b[1;32m----> 1\u001b[1;33m \u001b[1;32mwith\u001b[0m \u001b[0mopen\u001b[0m\u001b[1;33m(\u001b[0m\u001b[1;34m'D:\\\\raj.txt'\u001b[0m\u001b[1;33m,\u001b[0m\u001b[1;34m'r+'\u001b[0m\u001b[1;33m)\u001b[0m \u001b[1;32mas\u001b[0m \u001b[0mf\u001b[0m\u001b[1;33m:\u001b[0m\u001b[1;33m\u001b[0m\u001b[0m\n\u001b[0m\u001b[0;32m      2\u001b[0m     \u001b[0mf\u001b[0m\u001b[1;33m.\u001b[0m\u001b[0mwrite\u001b[0m\u001b[1;33m(\u001b[0m\u001b[1;34m'he is 19 year old . he lives in patna'\u001b[0m\u001b[1;33m)\u001b[0m\u001b[1;33m\u001b[0m\u001b[0m\n",
      "\u001b[1;31mFileNotFoundError\u001b[0m: [Errno 2] No such file or directory: 'D:\\\\raj.txt'"
     ]
    }
   ],
   "source": [
    "with open('D:\\\\raj.txt','r+') as f:\n",
    "    f.write('he is 19 year old . he lives in patna') # error as no such file exist"
   ]
  },
  {
   "cell_type": "code",
   "execution_count": 27,
   "metadata": {},
   "outputs": [
    {
     "name": "stdout",
     "output_type": "stream",
     "text": [
      "t boy .he can study well.he is 19 year old . he lives in patna\n",
      "he is 19 year old . he lives in patnaraja is a honest boyraja is a honest boy raja is a honest boy\n"
     ]
    }
   ],
   "source": [
    "with open('D:\\\\raja.txt','r+') as f:\n",
    "    f.write(' raja is a honest boy') # it overwrite the file with character you write.\n",
    "    print(f.read())"
   ]
  },
  {
   "cell_type": "code",
   "execution_count": 31,
   "metadata": {},
   "outputs": [
    {
     "name": "stdout",
     "output_type": "stream",
     "text": [
      " raja is a honest boyt boy .he can study well.he is 19 year old . he lives in patna\n",
      "he is 19 year old . he lives in patnaraja is a honest boyraja is a honest boy raja is a honest bo my hobbies is to play cricke my hobbies is to play cricke my hobbies is to play cricke my hobbies is to play cricket\n"
     ]
    }
   ],
   "source": [
    "with open('D:\\\\raja.txt','r+') as f:\n",
    "    f.seek(len(f.read()))\n",
    "    f.write(' my hobbies is to play cricket') # it overwrite the file with character you write.\n",
    "    f.seek(0)\n",
    "    print(f.read())"
   ]
  },
  {
   "cell_type": "markdown",
   "metadata": {},
   "source": [
    "# read  from one file and write that data to another file\n",
    "# you can also say that  copy data from one file to another."
   ]
  },
  {
   "cell_type": "code",
   "execution_count": 32,
   "metadata": {},
   "outputs": [
    {
     "name": "stdout",
     "output_type": "stream",
     "text": [
      " raja is a honest boyt boy .he can study well.he is 19 year old . he lives in patna\n",
      "he is 19 year old . he lives in patnaraja is a honest boyraja is a honest boy raja is a honest bo my hobbies is to play cricke my hobbies is to play cricke my hobbies is to play cricke my hobbies is to play cricket\n"
     ]
    }
   ],
   "source": [
    "with open('D:\\\\raja.txt','r') as rf:\n",
    "    with open('D:\\\\raj.txt','w') as wf:\n",
    "        wf.write(rf.read())\n",
    "with open('D:\\\\raj.txt','r') as wf:\n",
    "        print(wf.read())    "
   ]
  },
  {
   "cell_type": "raw",
   "metadata": {},
   "source": [
    "Q1> file1.txt\n",
    "manni,1000\n",
    "raja,2000\n",
    "ram,3000\n",
    "arya,4000\n",
    "o/p\n",
    "file2.txt\n",
    "manni's salary is 1000\n",
    "raja's salary is 2000"
   ]
  },
  {
   "cell_type": "code",
   "execution_count": 37,
   "metadata": {},
   "outputs": [
    {
     "name": "stdout",
     "output_type": "stream",
     "text": [
      "enter usernamemanni\n",
      "enter salary1000\n",
      "enter usernameraja\n",
      "enter salary2000\n",
      "enter usernameram\n",
      "enter salary3000\n",
      "enter usernamearya\n",
      "enter salary4000\n"
     ]
    }
   ],
   "source": [
    "with open('D:\\\\file1.txt','w') as f:\n",
    "    with open('D:\\\\file2.txt','w') as f2:\n",
    "        for i in range(4):\n",
    "            username=input('enter username')\n",
    "            salary=input('enter salary')\n",
    "            f.write(f'{username},{salary}\\n')\n",
    "            f2.write(f'{username}\\'s salary is {salary}\\n')"
   ]
  },
  {
   "cell_type": "code",
   "execution_count": 39,
   "metadata": {},
   "outputs": [
    {
     "name": "stdout",
     "output_type": "stream",
     "text": [
      "manni,1000\n",
      "raja,2000\n",
      "ram,3000\n",
      "arya,4000\n",
      "\n",
      "manni's salary is 1000\n",
      "raja's salary is 2000\n",
      "ram's salary is 3000\n",
      "arya's salary is 4000\n",
      "\n"
     ]
    }
   ],
   "source": [
    "with open('D:\\\\file1.txt','r') as f:\n",
    "    print(f.read())\n",
    "with open('D:\\\\file2.txt','r') as f2:\n",
    "    print(f2.read())"
   ]
  },
  {
   "cell_type": "code",
   "execution_count": 40,
   "metadata": {
    "collapsed": true
   },
   "outputs": [],
   "source": [
    "with open('D:\\\\file1.txt','r') as rf:\n",
    "    with open('D:\\\\file3.txt','a') as wf:\n",
    "        for line in rf.readlines():\n",
    "            name,salary=line.split(',')\n",
    "            wf.write(f'{name}\\'s salary is {salary}')\n",
    "            \n",
    "   "
   ]
  },
  {
   "cell_type": "code",
   "execution_count": 41,
   "metadata": {},
   "outputs": [
    {
     "name": "stdout",
     "output_type": "stream",
     "text": [
      "manni's salary is 1000\n",
      "raja's salary is 2000\n",
      "ram's salary is 3000\n",
      "arya's salary is 4000\n",
      "\n"
     ]
    }
   ],
   "source": [
    "with open('D:\\\\file3.txt','r') as f:\n",
    "    print(f.read())"
   ]
  },
  {
   "cell_type": "raw",
   "metadata": {},
   "source": [
    "q2> you have a html file and you have to extract all link from the file.\n",
    "assume each line contain single link ."
   ]
  },
  {
   "cell_type": "code",
   "execution_count": 5,
   "metadata": {
    "collapsed": true
   },
   "outputs": [],
   "source": [
    "with open('F:\\\\html\\\\Notepad++\\\\r.html','r') as rf:\n",
    "    with open('output.txt','a')as wf:\n",
    "        for line in rf.readlines():\n",
    "            if '<a href=' in line:\n",
    "                pos=line.find('<a href=')\n",
    "                first_quote=line.find('\\\"',pos)\n",
    "                second_quote=line.find('\\\"',first_quote+1)\n",
    "                url=line[first_quote+1:second_quote]\n",
    "                wf.write(url+'\\n')\n",
    "                "
   ]
  },
  {
   "cell_type": "code",
   "execution_count": 6,
   "metadata": {},
   "outputs": [
    {
     "name": "stdout",
     "output_type": "stream",
     "text": [
      "www.faceook.com\n",
      "www.youtube.com\n",
      "www.twitter.com\n",
      "\n"
     ]
    }
   ],
   "source": [
    " with open('output.txt','r')as f:\n",
    "        print(f.read())"
   ]
  },
  {
   "cell_type": "code",
   "execution_count": 7,
   "metadata": {
    "collapsed": true
   },
   "outputs": [],
   "source": [
    "# another best solution\n",
    "# if there is two link available in single line and also you have whether link present in file \n",
    "# or not\n",
    "with open('F:\\\\html\\\\Notepad++\\\\r2.html','r') as rf:\n",
    "    with open('output2.txt','a')as wf:\n",
    "        page=rf.read()\n",
    "        link_exist=True\n",
    "        while link_exist:\n",
    "                pos=page.find('<a href=')\n",
    "                if pos==-1:\n",
    "                    link_exist=False\n",
    "                else:\n",
    "                    first_quote=page.find('\\\"',pos)\n",
    "                    second_quote=page.find('\\\"',first_quote+1)\n",
    "                    url=page[first_quote+1:second_quote]\n",
    "                    wf.write(url+'\\n')\n",
    "                    page=page[second_quote:]\n",
    "                "
   ]
  },
  {
   "cell_type": "code",
   "execution_count": 8,
   "metadata": {},
   "outputs": [
    {
     "name": "stdout",
     "output_type": "stream",
     "text": [
      "www.faceook.com\n",
      "www.youtube.com\n",
      "www.instagram.com\n",
      "www.twitter.com\n",
      "\n"
     ]
    }
   ],
   "source": [
    "with open('output2.txt','r')as f:\n",
    "    print(f.read())"
   ]
  },
  {
   "cell_type": "code",
   "execution_count": null,
   "metadata": {
    "collapsed": true
   },
   "outputs": [],
   "source": [
    "# read love story\n",
    "with open('love_story.txt','r',encoding='uf-8')as f:\n",
    "    print(f.encoding)\n",
    "    data=f.read(100)\n",
    "    print(data)"
   ]
  },
  {
   "cell_type": "code",
   "execution_count": null,
   "metadata": {
    "collapsed": true
   },
   "outputs": [],
   "source": [
    "with open('love_story.txt','r')as f:\n",
    "    data=f.read(100)\n",
    "    while len(data)>0:\n",
    "        print(data)\n",
    "        data=f.read(100)"
   ]
  },
  {
   "cell_type": "markdown",
   "metadata": {},
   "source": [
    "# read csv file"
   ]
  },
  {
   "cell_type": "code",
   "execution_count": 3,
   "metadata": {},
   "outputs": [
    {
     "name": "stdout",
     "output_type": "stream",
     "text": [
      "<_csv.reader object at 0x000001CCD730FBA8>\n",
      "['name', 'email', 'phone']\n",
      "['manni', 'netdeol2000@gmail.com', '9534280814']\n",
      "['raja', 'raj@gmail.com', '9386226946']\n"
     ]
    }
   ],
   "source": [
    "from csv import reader\n",
    "# we can also use DictWriter class\n",
    "with open('csv1 file','r')as f:\n",
    "    csv_reader=reader(f)\n",
    "    #csv_reader is an iterator \n",
    "   # next(csv_reader) # if you not want to print header['name','email','phone']\n",
    "    print(csv_reader)\n",
    "    for row in csv_reader: # you can only print iterator at once\n",
    "        print(row)\n",
    "    "
   ]
  },
  {
   "cell_type": "code",
   "execution_count": 5,
   "metadata": {},
   "outputs": [
    {
     "name": "stdout",
     "output_type": "stream",
     "text": [
      "OrderedDict([('name', 'manni'), ('email', 'netdeol2000@gmail.com'), ('phone', '9534280814')])\n",
      "OrderedDict([('name', 'raja'), ('email', 'raj@gmail.com'), ('phone', '9386226946')])\n"
     ]
    }
   ],
   "source": [
    "from csv import DictReader\n",
    "#ordered dict\n",
    "with open('csv1 file','r')as f:\n",
    "    csv_reader=DictReader(f)\n",
    "    for row in csv_reader:\n",
    "        print(row)"
   ]
  },
  {
   "cell_type": "code",
   "execution_count": 6,
   "metadata": {},
   "outputs": [
    {
     "name": "stdout",
     "output_type": "stream",
     "text": [
      "manni\n",
      "raja\n"
     ]
    }
   ],
   "source": [
    "with open('csv1 file','r')as f:\n",
    "    csv_reader=DictReader(f)\n",
    "    for row in csv_reader:\n",
    "        print(row['name'])"
   ]
  },
  {
   "cell_type": "code",
   "execution_count": 9,
   "metadata": {},
   "outputs": [
    {
     "name": "stdout",
     "output_type": "stream",
     "text": [
      "OrderedDict([('name', 'manni'), ('email', 'netdeol2000@gmail.com'), ('phone', '9534280814')])\n",
      "OrderedDict([('name', 'raja'), ('email', 'raj@gmail.com'), ('phone', '9386226946')])\n"
     ]
    }
   ],
   "source": [
    "with open('csv2','r')as f:\n",
    "    csv_reader=DictReader(f,delimiter='|') # you can change , to | or any thing to seperate value\n",
    "    for row in csv_reader:\n",
    "        print(row)"
   ]
  },
  {
   "cell_type": "markdown",
   "metadata": {},
   "source": [
    "# write to csv file"
   ]
  },
  {
   "cell_type": "code",
   "execution_count": 10,
   "metadata": {
    "collapsed": true
   },
   "outputs": [],
   "source": [
    "from csv import writer \n",
    "with open('csv3.txt','w',newline='')as f:\n",
    "    csv_writer=writer(f)\n",
    "    # writerow , writerows\n",
    "    csv_writer.writerow(['name','country'])\n",
    "    csv_writer.writerow(['manni','INDIA'])\n",
    "    csv_writer.writerow(['raja','USA'])"
   ]
  },
  {
   "cell_type": "code",
   "execution_count": 11,
   "metadata": {
    "collapsed": true
   },
   "outputs": [],
   "source": [
    "from csv import writer \n",
    "with open('csv3.txt','w',newline='')as f:\n",
    "    csv_writer=writer(f)\n",
    "    csv_writer.writerows([['name','country'],['manni','INDIA'],['raja','USA']])"
   ]
  },
  {
   "cell_type": "code",
   "execution_count": 16,
   "metadata": {},
   "outputs": [],
   "source": [
    "from csv import DictWriter\n",
    "with open('csv4.txt','w',newline='') as f:\n",
    "    csv_writer=DictWriter(f,fieldnames=['firstname','lastname','age'])\n",
    "    csv_writer.writeheader()\n",
    "    # writerow , writerows\n",
    "    csv_writer.writerows([\n",
    "        {'firstname' :'manni', 'lastname':'deol','age':19},\n",
    "        {'firstname' :'raja','lastname':'kumar','age':20}\n",
    "    ])"
   ]
  },
  {
   "cell_type": "code",
   "execution_count": 18,
   "metadata": {},
   "outputs": [],
   "source": [
    "with open('csv4.txt','w',newline='') as f:\n",
    "    csv_writer=DictWriter(f,fieldnames=['firstname','lastname','age'])\n",
    "    csv_writer.writeheader()\n",
    "    # writerow , writerows\n",
    "    csv_writer.writerow({\n",
    "        'firstname' :'manni',\n",
    "        'lastname':'deol',\n",
    "        'age':19\n",
    "    })    \n",
    "    \n",
    "    csv_writer.writerow({\n",
    "        'firstname' :'raja',\n",
    "        'lastname':'kumar',\n",
    "        'age':20\n",
    "    })"
   ]
  },
  {
   "cell_type": "code",
   "execution_count": 19,
   "metadata": {
    "collapsed": true
   },
   "outputs": [],
   "source": [
    "# read data from one csv file and write it to another csv file\n",
    "from csv import DictReader,DictWriter\n",
    "with open('csv4.txt','r') as rf:\n",
    "    with open('csv5.txt','w',newline='')as wf:\n",
    "        csv_reader=DictReader(rf)\n",
    "        csv_writer=DictWriter(wf,fieldnames=['firstname','lastname','age'])\n",
    "        csv_writer.writeheader()\n",
    "        for row in csv_reader:\n",
    "            fname,lname,age=row['firstname'],row['lastname'],row['age']\n",
    "            csv_writer.writerow({\n",
    "                'firstname':fname.upper(),\n",
    "                'lastname':lname,\n",
    "                'age':19\n",
    "            })\n",
    " \n"
   ]
  },
  {
   "cell_type": "code",
   "execution_count": null,
   "metadata": {
    "collapsed": true
   },
   "outputs": [],
   "source": []
  }
 ],
 "metadata": {
  "kernelspec": {
   "display_name": "Python 3",
   "language": "python",
   "name": "python3"
  },
  "language_info": {
   "codemirror_mode": {
    "name": "ipython",
    "version": 3
   },
   "file_extension": ".py",
   "mimetype": "text/x-python",
   "name": "python",
   "nbconvert_exporter": "python",
   "pygments_lexer": "ipython3",
   "version": "3.6.1"
  }
 },
 "nbformat": 4,
 "nbformat_minor": 2
}
