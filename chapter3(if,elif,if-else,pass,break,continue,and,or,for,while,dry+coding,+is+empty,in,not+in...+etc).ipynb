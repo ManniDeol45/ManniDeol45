{
 "cells": [
  {
   "cell_type": "markdown",
   "metadata": {},
   "source": [
    "# if statement"
   ]
  },
  {
   "cell_type": "raw",
   "metadata": {},
   "source": [
    "#syntax:\n",
    " if(condition):\n",
    "    code        # if condition is true then this code gets executed."
   ]
  },
  {
   "cell_type": "code",
   "execution_count": 1,
   "metadata": {},
   "outputs": [
    {
     "name": "stdout",
     "output_type": "stream",
     "text": [
      "enter your age?15\n",
      "you are elegible for playing game\n"
     ]
    }
   ],
   "source": [
    "age=input(\"enter your age?\")\n",
    "age=int(age)\n",
    "if(age>=14):\n",
    "    print(\"you are elegible for playing game\")"
   ]
  },
  {
   "cell_type": "markdown",
   "metadata": {},
   "source": [
    "#  Pass statement"
   ]
  },
  {
   "cell_type": "code",
   "execution_count": 2,
   "metadata": {},
   "outputs": [
    {
     "ename": "SyntaxError",
     "evalue": "unexpected EOF while parsing (<ipython-input-2-7b1c117b2afd>, line 2)",
     "output_type": "error",
     "traceback": [
      "\u001b[1;36m  File \u001b[1;32m\"<ipython-input-2-7b1c117b2afd>\"\u001b[1;36m, line \u001b[1;32m2\u001b[0m\n\u001b[1;33m    \u001b[0m\n\u001b[1;37m    ^\u001b[0m\n\u001b[1;31mSyntaxError\u001b[0m\u001b[1;31m:\u001b[0m unexpected EOF while parsing\n"
     ]
    }
   ],
   "source": [
    "if age>=15 :\n",
    "    "
   ]
  },
  {
   "cell_type": "code",
   "execution_count": 3,
   "metadata": {
    "collapsed": true
   },
   "outputs": [],
   "source": [
    "if age>=15: \n",
    "    pass"
   ]
  },
  {
   "cell_type": "code",
   "execution_count": 4,
   "metadata": {
    "collapsed": true
   },
   "outputs": [],
   "source": [
    "# pass is used when you do not want to write any statement inside if"
   ]
  },
  {
   "cell_type": "markdown",
   "metadata": {},
   "source": [
    "# if - else statement"
   ]
  },
  {
   "cell_type": "code",
   "execution_count": 5,
   "metadata": {},
   "outputs": [
    {
     "name": "stdout",
     "output_type": "stream",
     "text": [
      "enter your age?13\n",
      "sorry, you can not play.\n"
     ]
    }
   ],
   "source": [
    "age=input(\"enter your age?\")\n",
    "age=int(age)\n",
    "if(age>=14):\n",
    "    print(\"you are elegible for playing game\")\n",
    "else:\n",
    "    print(\"sorry, you can not play.\")"
   ]
  },
  {
   "cell_type": "raw",
   "metadata": {},
   "source": [
    "# you can not write else alone . it always written after if st. of elif st."
   ]
  },
  {
   "cell_type": "raw",
   "metadata": {},
   "source": [
    "Question1> Number guessing game\n",
    "make a variable , like winning_number and assign any number to it.\n",
    "ask user to guess a number\n",
    "if user guess correctly then print \"you won!!!!\"\n",
    "if user did not guess correctly then :\n",
    "       if user guess lower than actual number then print \"two low\"\n",
    "       if user guess higher than actual number then print \"two high\"\n",
    " \n",
    " # Bonus\n",
    " \"how to generate random number in python \" to generate random number \n",
    " winning_number\n"
   ]
  },
  {
   "cell_type": "code",
   "execution_count": 9,
   "metadata": {},
   "outputs": [
    {
     "name": "stdout",
     "output_type": "stream",
     "text": [
      "guess a number b/w 1 to 10012\n",
      "you Won!!!!\n"
     ]
    }
   ],
   "source": [
    "# nested if-else:\n",
    "winning_number=12\n",
    "guess_number=input(\"guess a number b/w 1 to 100\")\n",
    "guess_number=int(guess_number)\n",
    "if(guess_number==winning_number):\n",
    "    print(\"you Won!!!!\")\n",
    "else:\n",
    "    if(guess_number<winning_number):\n",
    "        print(\"too low\")\n",
    "    else:\n",
    "        print(\"too high\")"
   ]
  },
  {
   "cell_type": "markdown",
   "metadata": {},
   "source": [
    "# and , or "
   ]
  },
  {
   "cell_type": "raw",
   "metadata": {},
   "source": [
    "# check two condition at same time"
   ]
  },
  {
   "cell_type": "code",
   "execution_count": 10,
   "metadata": {},
   "outputs": [
    {
     "name": "stdout",
     "output_type": "stream",
     "text": [
      "condition true\n"
     ]
    }
   ],
   "source": [
    "name=\"manni\"\n",
    "age=19\n",
    "if name==\"manni\" and age==19:\n",
    "    print(\"condition true\")\n",
    "else:\n",
    "    print(\"condition false\")"
   ]
  },
  {
   "cell_type": "raw",
   "metadata": {},
   "source": [
    "#question2> Watch COCO\n",
    "ask user's name and age\n",
    "if user's name start with 'a' or 'A' and age is above 10\n",
    "then print( you can watch coco movie)\n",
    "else print(\"sorry, you can not watch coco\")"
   ]
  },
  {
   "cell_type": "code",
   "execution_count": 17,
   "metadata": {},
   "outputs": [
    {
     "name": "stdout",
     "output_type": "stream",
     "text": [
      "enter your name and age: aman , 12\n",
      "you can watch 'coco' movie\n"
     ]
    }
   ],
   "source": [
    "name,age=input(\"enter your name and age:\").split(\",\")\n",
    "age=int(age)\n",
    "name=name.strip()\n",
    "start_letter=name[0]\n",
    "if(start_letter.lower()=='a' and age>10):\n",
    "    print(\"you can watch 'coco' movie\")\n",
    "else:\n",
    "    print(\"sorry, you can not watch coco\")"
   ]
  },
  {
   "cell_type": "code",
   "execution_count": 21,
   "metadata": {},
   "outputs": [
    {
     "name": "stdout",
     "output_type": "stream",
     "text": [
      "enter your name and age: Aman , 34\n",
      "you can watch 'coco' movie\n"
     ]
    }
   ],
   "source": [
    "name,age=input(\"enter your name and age:\").split(\",\")\n",
    "age=int(age)\n",
    "name=name.strip()\n",
    "if((name[0]=='a' or name[0]=='A') and age>10):\n",
    "    print(\"you can watch 'coco' movie\")\n",
    "else:\n",
    "    print(\"sorry, you can not watch coco\")"
   ]
  },
  {
   "cell_type": "markdown",
   "metadata": {},
   "source": [
    "#  if...elif...else statement"
   ]
  },
  {
   "cell_type": "raw",
   "metadata": {},
   "source": [
    "#used when we have to check multiple condition\n",
    "eg:- show ticket pricing\n",
    "0  to 3  (free)\n",
    "4  to 10 (150)\n",
    "11 to 60 (250)\n",
    "above 60 (200)"
   ]
  },
  {
   "cell_type": "code",
   "execution_count": 26,
   "metadata": {},
   "outputs": [
    {
     "name": "stdout",
     "output_type": "stream",
     "text": [
      "enter your age:1\n",
      "ticket price: free\n"
     ]
    }
   ],
   "source": [
    "# ticket price\n",
    "age=input(\"enter your age:\")\n",
    "age=int(age)\n",
    "if(age==0 or age<0):\n",
    "    print(\"invalid age\")\n",
    "elif(0<age<=3):\n",
    "    print(\"ticket price: free\")\n",
    "elif(3<age<=10):\n",
    "    print(\"ticket price : 150\")\n",
    "elif(10<age<=60):\n",
    "    print(\"ticket price: 250\")\n",
    "else:\n",
    "    print(\"ticket price : 200\")"
   ]
  },
  {
   "cell_type": "markdown",
   "metadata": {},
   "source": [
    "# In keyword "
   ]
  },
  {
   "cell_type": "code",
   "execution_count": 29,
   "metadata": {},
   "outputs": [
    {
     "name": "stdout",
     "output_type": "stream",
     "text": [
      "a is present in name\n"
     ]
    }
   ],
   "source": [
    "# in with if st.\n",
    "name=\"manni\"\n",
    "if 'a' in name:\n",
    "    print(\"a is present in name\")\n",
    "else:\n",
    "    print(\"a is not present\")"
   ]
  },
  {
   "cell_type": "markdown",
   "metadata": {},
   "source": [
    "# check empty or not"
   ]
  },
  {
   "cell_type": "raw",
   "metadata": {},
   "source": [
    "# if st by default check whether string is empty or not \n",
    "# 0 - false "
   ]
  },
  {
   "cell_type": "code",
   "execution_count": 30,
   "metadata": {},
   "outputs": [
    {
     "name": "stdout",
     "output_type": "stream",
     "text": [
      "enter your name:\n",
      "you did not enter your name\n"
     ]
    }
   ],
   "source": [
    "name=input(\"enter your name:\")\n",
    "if(name):\n",
    "    print(f\"your name is:{name}\")\n",
    "else:\n",
    "    print(\"you did not enter your name\")"
   ]
  },
  {
   "cell_type": "markdown",
   "metadata": {},
   "source": [
    "#  while loop"
   ]
  },
  {
   "cell_type": "code",
   "execution_count": 1,
   "metadata": {},
   "outputs": [
    {
     "name": "stdout",
     "output_type": "stream",
     "text": [
      "manni\n",
      "manni\n",
      "manni\n",
      "manni\n"
     ]
    }
   ],
   "source": [
    "i=1\n",
    "while(i<=4):      #while i<=4 :\n",
    "    print(\"manni\")\n",
    "    i+=1"
   ]
  },
  {
   "cell_type": "code",
   "execution_count": 3,
   "metadata": {},
   "outputs": [
    {
     "name": "stdout",
     "output_type": "stream",
     "text": [
      "total sum =55\n"
     ]
    }
   ],
   "source": [
    "#sum of number from 1 to 10\n",
    "i=1\n",
    "total=0\n",
    "while(i<=10):\n",
    "    total+=i\n",
    "    i+=1\n",
    "print(f\"total sum ={total}\")    "
   ]
  },
  {
   "cell_type": "raw",
   "metadata": {},
   "source": [
    "# q3> sum of n natural number\n",
    "ask user for natural number(n)\n",
    "print total from 1 to n"
   ]
  },
  {
   "cell_type": "code",
   "execution_count": 5,
   "metadata": {},
   "outputs": [
    {
     "name": "stdout",
     "output_type": "stream",
     "text": [
      "enter number from where you want to sum5\n",
      "sum of n natural number:15\n"
     ]
    }
   ],
   "source": [
    "n=input(\"enter number from where you want to sum\")\n",
    "n=int(n)\n",
    "i=1\n",
    "total=0\n",
    "while i<=n:\n",
    "    total+=i\n",
    "    i+=1\n",
    "print(f\"sum of n natural number:{total}\")    "
   ]
  },
  {
   "cell_type": "raw",
   "metadata": {},
   "source": [
    "## question4>problem\n",
    "ask user to input a number containing more than one digit\n",
    "example :-12345\n",
    "calculate:- 1+2+3+4+5\n",
    "\n",
    "algorithm:-(method to solve problem in human language)\n",
    "ask input in string, i.e don't change string to int\n",
    "example:-\"12345\"\n",
    "pick string character one by one and change it to string\n",
    "int(example[0])+int(example[1])+-------+go upto len(example)-1"
   ]
  },
  {
   "cell_type": "code",
   "execution_count": 2,
   "metadata": {},
   "outputs": [
    {
     "name": "stdout",
     "output_type": "stream",
     "text": [
      "enter a number which have more than one digit45329\n",
      "sum of total digit in number:23\n"
     ]
    }
   ],
   "source": [
    "number=input(\"enter a number which have more than one digit\")\n",
    "i=0\n",
    "total=0\n",
    "while(i<len(number)):\n",
    "    total+=int(number[i])\n",
    "    i+=1\n",
    "print(f\"sum of total digit in number:{total}\")    "
   ]
  },
  {
   "cell_type": "raw",
   "metadata": {},
   "source": [
    "##question5>ask a user for name\n",
    "eg:-Harshit Vashisth\n",
    "    output\n",
    "    H=1\n",
    "    a=2\n",
    "    r=1\n",
    "    s=3\n",
    "    h=3\n",
    "    i=2\n",
    "    t=2\n",
    "    \" \"=1\n",
    "    V=1"
   ]
  },
  {
   "cell_type": "code",
   "execution_count": 2,
   "metadata": {},
   "outputs": [
    {
     "name": "stdout",
     "output_type": "stream",
     "text": [
      "enter your nameHarshit  Vas  histh\n",
      "H=1\n",
      "a=2\n",
      "r=1\n",
      "s=3\n",
      "h=3\n",
      "i=2\n",
      "t=2\n",
      " =4\n",
      "V=1\n"
     ]
    }
   ],
   "source": [
    "name=input(\"enter your name\")\n",
    "temp_var=\"\"\n",
    "i=0\n",
    "while(i<len(name)):\n",
    "    if(name[i] not in temp_var):\n",
    "        temp_var+=name[i]\n",
    "        print(f\"{name[i]}={name.count(name[i])}\")\n",
    "    i+=1"
   ]
  },
  {
   "cell_type": "raw",
   "metadata": {
    "collapsed": true
   },
   "source": [
    "# Infinite looop\n",
    "to stop :-ctrl+c"
   ]
  },
  {
   "cell_type": "markdown",
   "metadata": {},
   "source": [
    "#  for loop():-"
   ]
  },
  {
   "cell_type": "code",
   "execution_count": 4,
   "metadata": {},
   "outputs": [
    {
     "name": "stdout",
     "output_type": "stream",
     "text": [
      "manni\n",
      "manni\n",
      "manni\n",
      "manni\n",
      "manni\n"
     ]
    }
   ],
   "source": [
    "# for loop with range function\n",
    "for i in range(5):\n",
    "    print(\"manni\")"
   ]
  },
  {
   "cell_type": "code",
   "execution_count": 5,
   "metadata": {},
   "outputs": [
    {
     "name": "stdout",
     "output_type": "stream",
     "text": [
      "1\n",
      "2\n",
      "3\n",
      "4\n"
     ]
    }
   ],
   "source": [
    "for i in range(1,5): # include 1 but exclude 5\n",
    "    print(i)"
   ]
  },
  {
   "cell_type": "markdown",
   "metadata": {},
   "source": [
    "# break and continue st."
   ]
  },
  {
   "cell_type": "code",
   "execution_count": 6,
   "metadata": {},
   "outputs": [
    {
     "name": "stdout",
     "output_type": "stream",
     "text": [
      "1\n",
      "2\n",
      "3\n",
      "4\n"
     ]
    }
   ],
   "source": [
    "# break :- break the loop for a particular condition\n",
    "for i in range(1,11):\n",
    "    if i==5:\n",
    "        break\n",
    "    print(i)    "
   ]
  },
  {
   "cell_type": "code",
   "execution_count": 7,
   "metadata": {},
   "outputs": [
    {
     "name": "stdout",
     "output_type": "stream",
     "text": [
      "1\n",
      "2\n",
      "3\n",
      "4\n",
      "6\n",
      "7\n",
      "8\n",
      "9\n",
      "10\n"
     ]
    }
   ],
   "source": [
    "# continue:- \n",
    "for i in range(1,11):\n",
    "    if i==5:\n",
    "        continue\n",
    "    print(i)   "
   ]
  },
  {
   "cell_type": "raw",
   "metadata": {},
   "source": [
    "##Question5> modify number guessing game\n",
    "import random\n",
    "winning_number=random.randint(1,100)"
   ]
  },
  {
   "cell_type": "code",
   "execution_count": 3,
   "metadata": {},
   "outputs": [
    {
     "name": "stdout",
     "output_type": "stream",
     "text": [
      "guess a number15\n",
      "too low\n",
      "guess a number20\n",
      "too low\n",
      "guess a number40\n",
      "too low\n",
      "guess a number60\n",
      "too low\n",
      "guess a number80\n",
      "too high\n",
      "guess a number75\n",
      "too high\n",
      "guess a number65\n",
      "too low\n",
      "guess a number72\n",
      "too low\n",
      "guess a number74\n",
      "you won!!! and no of times you take to reach goal is:9\n"
     ]
    }
   ],
   "source": [
    "import random\n",
    "winning_number=random.randint(1,100)\n",
    "guess_number=input(\"guess a number\")\n",
    "guess_number=int(guess_number)\n",
    "temp=1\n",
    "while(guess_number!=winning_number):\n",
    "    if(guess_number<winning_number): # we can also use while in place of if\n",
    "        print(\"too low\")\n",
    "        guess_number=int(input(\"guess a number\"))\n",
    "        temp+=1\n",
    "    if(guess_number>winning_number):\n",
    "        print(\"too high\")\n",
    "        guess_number=int(input(\"guess a number\"))\n",
    "        temp+=1\n",
    "print(f\"you won!!! and no of times you take to reach goal is:{temp}\")        \n",
    "        "
   ]
  },
  {
   "cell_type": "code",
   "execution_count": 3,
   "metadata": {},
   "outputs": [
    {
     "name": "stdout",
     "output_type": "stream",
     "text": [
      "guess a number24\n",
      "too low\n",
      "guess a number44\n",
      "too low\n",
      "guess a number68\n",
      "too high\n",
      "guess a number54\n",
      "too high\n",
      "guess a number49\n",
      "too low\n",
      "guess a number53\n",
      "too high\n",
      "guess a number51\n",
      "you won and you guess this number in7\n"
     ]
    }
   ],
   "source": [
    "import random\n",
    "winning_number=random.randint(1,100)\n",
    "guess_number=input(\"guess a number\")\n",
    "guess_number=int(guess_number)\n",
    "temp=1\n",
    "game_over=False\n",
    "while(not game_over):\n",
    "    if(guess_number==winning_number): # we can also use while in place of if\n",
    "        print(f\"you won and you guess this number in{temp}\")\n",
    "        game_over=True\n",
    "     \n",
    "    else:\n",
    "        if(guess_number>winning_number):\n",
    "            print(\"too high\")\n",
    "            guess_number=int(input(\"guess a number\"))\n",
    "            temp+=1\n",
    "        else:\n",
    "            print(\"too low\")\n",
    "            guess_number=int(input(\"guess a number\"))\n",
    "            temp+=1"
   ]
  },
  {
   "cell_type": "markdown",
   "metadata": {},
   "source": [
    "#  DRY principle of coding:-(do not repeat yourself)"
   ]
  },
  {
   "cell_type": "code",
   "execution_count": 6,
   "metadata": {},
   "outputs": [
    {
     "name": "stdout",
     "output_type": "stream",
     "text": [
      "guess a number23\n",
      "too low\n",
      "guess a number56\n",
      "too high\n",
      "guess a number43\n",
      "too low\n",
      "guess a number52\n",
      "too high\n",
      "guess a number48\n",
      "too high\n",
      "guess a number45\n",
      "too low\n",
      "guess a number47\n",
      "too high\n",
      "guess a number46\n",
      "you won and you guess this number in8\n"
     ]
    }
   ],
   "source": [
    "import random\n",
    "winning_number=random.randint(1,100)\n",
    "guess_number=input(\"guess a number\")\n",
    "guess_number=int(guess_number)\n",
    "temp=1\n",
    "game_over=False\n",
    "while(not game_over):\n",
    "    if(guess_number==winning_number): # we can also use while in place of if\n",
    "        print(f\"you won and you guess this number in{temp}\")\n",
    "        game_over=True\n",
    "     \n",
    "    else:\n",
    "        if(guess_number>winning_number):\n",
    "            print(\"too high\")\n",
    "           \n",
    "        else:\n",
    "            print(\"too low\")\n",
    "        guess_number=int(input(\"guess a number\"))\n",
    "        temp+=1      "
   ]
  },
  {
   "cell_type": "markdown",
   "metadata": {},
   "source": [
    "#  step argument:-"
   ]
  },
  {
   "cell_type": "code",
   "execution_count": 7,
   "metadata": {},
   "outputs": [
    {
     "name": "stdout",
     "output_type": "stream",
     "text": [
      "0\n",
      "2\n",
      "4\n",
      "6\n",
      "8\n",
      "10\n"
     ]
    }
   ],
   "source": [
    "for i in range(0,11,2):\n",
    "    print(i)"
   ]
  },
  {
   "cell_type": "code",
   "execution_count": 9,
   "metadata": {},
   "outputs": [
    {
     "name": "stdout",
     "output_type": "stream",
     "text": [
      "10\n",
      "8\n",
      "6\n",
      "4\n",
      "2\n",
      "0\n"
     ]
    }
   ],
   "source": [
    "for i in range(10,-1,-2):\n",
    "    print(i)"
   ]
  },
  {
   "cell_type": "markdown",
   "metadata": {},
   "source": [
    "# for loop and string"
   ]
  },
  {
   "cell_type": "code",
   "execution_count": 10,
   "metadata": {},
   "outputs": [
    {
     "name": "stdout",
     "output_type": "stream",
     "text": [
      "m\n",
      "a\n",
      "n\n",
      "n\n",
      "i\n"
     ]
    }
   ],
   "source": [
    "name=\"manni\"\n",
    "for i in range(len(name)):\n",
    "    print(name[i])"
   ]
  },
  {
   "cell_type": "code",
   "execution_count": 11,
   "metadata": {},
   "outputs": [
    {
     "name": "stdout",
     "output_type": "stream",
     "text": [
      "m\n",
      "a\n",
      "n\n",
      "n\n",
      "i\n"
     ]
    }
   ],
   "source": [
    "for i in \"manni\":\n",
    "    print(i)"
   ]
  },
  {
   "cell_type": "code",
   "execution_count": null,
   "metadata": {
    "collapsed": true
   },
   "outputs": [],
   "source": []
  }
 ],
 "metadata": {
  "kernelspec": {
   "display_name": "Python 3",
   "language": "python",
   "name": "python3"
  },
  "language_info": {
   "codemirror_mode": {
    "name": "ipython",
    "version": 3
   },
   "file_extension": ".py",
   "mimetype": "text/x-python",
   "name": "python",
   "nbconvert_exporter": "python",
   "pygments_lexer": "ipython3",
   "version": "3.6.1"
  }
 },
 "nbformat": 4,
 "nbformat_minor": 2
}
