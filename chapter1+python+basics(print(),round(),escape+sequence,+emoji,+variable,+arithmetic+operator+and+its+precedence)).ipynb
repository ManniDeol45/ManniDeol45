{
 "cells": [
  {
   "cell_type": "markdown",
   "metadata": {},
   "source": [
    "# Print() function in c"
   ]
  },
  {
   "cell_type": "code",
   "execution_count": 3,
   "metadata": {},
   "outputs": [
    {
     "name": "stdout",
     "output_type": "stream",
     "text": [
      "manni\n",
      "deol\n"
     ]
    }
   ],
   "source": [
    "print(\"manni\")\n",
    "print(\"deol\")"
   ]
  },
  {
   "cell_type": "code",
   "execution_count": 4,
   "metadata": {},
   "outputs": [
    {
     "name": "stdout",
     "output_type": "stream",
     "text": [
      "manni\n"
     ]
    }
   ],
   "source": [
    "print('manni')"
   ]
  },
  {
   "cell_type": "markdown",
   "metadata": {},
   "source": [
    "#We can use single or double quotes to print string "
   ]
  },
  {
   "cell_type": "code",
   "execution_count": 9,
   "metadata": {},
   "outputs": [
    {
     "name": "stdout",
     "output_type": "stream",
     "text": [
      "manni 'deol'\n",
      "I'm raja kumar\n"
     ]
    }
   ],
   "source": [
    "print(\"manni 'deol'\")\n",
    "print(\"I'm raja kumar\")"
   ]
  },
  {
   "cell_type": "code",
   "execution_count": 6,
   "metadata": {},
   "outputs": [
    {
     "name": "stdout",
     "output_type": "stream",
     "text": [
      "manni \"deol\"\n"
     ]
    }
   ],
   "source": [
    "print('manni \"deol\"')"
   ]
  },
  {
   "cell_type": "raw",
   "metadata": {},
   "source": [
    "# we can use single quote in double quote and vice versa. But we cannot use single quotes inside single quote and double quotes inside double quotes. if we use we got error "
   ]
  },
  {
   "cell_type": "code",
   "execution_count": 7,
   "metadata": {},
   "outputs": [
    {
     "ename": "SyntaxError",
     "evalue": "invalid syntax (<ipython-input-7-2ab8ab3f5b33>, line 1)",
     "output_type": "error",
     "traceback": [
      "\u001b[1;36m  File \u001b[1;32m\"<ipython-input-7-2ab8ab3f5b33>\"\u001b[1;36m, line \u001b[1;32m1\u001b[0m\n\u001b[1;33m    print(\"manni \"deol\"\")\u001b[0m\n\u001b[1;37m                     ^\u001b[0m\n\u001b[1;31mSyntaxError\u001b[0m\u001b[1;31m:\u001b[0m invalid syntax\n"
     ]
    }
   ],
   "source": [
    "print(\"manni \"deol\"\")"
   ]
  },
  {
   "cell_type": "code",
   "execution_count": 8,
   "metadata": {},
   "outputs": [
    {
     "ename": "SyntaxError",
     "evalue": "invalid syntax (<ipython-input-8-4298f3593e3c>, line 1)",
     "output_type": "error",
     "traceback": [
      "\u001b[1;36m  File \u001b[1;32m\"<ipython-input-8-4298f3593e3c>\"\u001b[1;36m, line \u001b[1;32m1\u001b[0m\n\u001b[1;33m    print('manni 'deol'')\u001b[0m\n\u001b[1;37m                     ^\u001b[0m\n\u001b[1;31mSyntaxError\u001b[0m\u001b[1;31m:\u001b[0m invalid syntax\n"
     ]
    }
   ],
   "source": [
    "print('manni 'deol'')"
   ]
  },
  {
   "cell_type": "markdown",
   "metadata": {},
   "source": [
    "# Escape Sequence"
   ]
  },
  {
   "cell_type": "code",
   "execution_count": 10,
   "metadata": {},
   "outputs": [
    {
     "name": "stdout",
     "output_type": "stream",
     "text": [
      "manni \"deol\"\n"
     ]
    }
   ],
   "source": [
    "print(\"manni \\\"deol\\\"\")"
   ]
  },
  {
   "cell_type": "code",
   "execution_count": 11,
   "metadata": {},
   "outputs": [
    {
     "name": "stdout",
     "output_type": "stream",
     "text": [
      "manni'deol'\n"
     ]
    }
   ],
   "source": [
    "print('manni\\'deol\\'')"
   ]
  },
  {
   "cell_type": "raw",
   "metadata": {},
   "source": [
    "# some space sequence\n",
    "1> \\' single quote\n",
    "2> \\\"  double quote\n",
    "3> \\\\ backslash\n",
    "4> \\n  new line\n",
    "5> \\t  tab\n",
    "6> \\b backspace"
   ]
  },
  {
   "cell_type": "code",
   "execution_count": 13,
   "metadata": {},
   "outputs": [
    {
     "name": "stdout",
     "output_type": "stream",
     "text": [
      "I'm manni\n"
     ]
    }
   ],
   "source": [
    "print(\"I\\'m manni\")"
   ]
  },
  {
   "cell_type": "code",
   "execution_count": 14,
   "metadata": {},
   "outputs": [
    {
     "name": "stdout",
     "output_type": "stream",
     "text": [
      "manni\n",
      " deol\n"
     ]
    }
   ],
   "source": [
    " print(\"manni\\n deol\") "
   ]
  },
  {
   "cell_type": "code",
   "execution_count": 15,
   "metadata": {},
   "outputs": [
    {
     "name": "stdout",
     "output_type": "stream",
     "text": [
      "manni\tdeol\n"
     ]
    }
   ],
   "source": [
    "print(\"manni\\tdeol\")"
   ]
  },
  {
   "cell_type": "code",
   "execution_count": 16,
   "metadata": {},
   "outputs": [
    {
     "name": "stdout",
     "output_type": "stream",
     "text": [
      "this is \\ backslash\n"
     ]
    }
   ],
   "source": [
    "print(\"this is \\ backslash\")"
   ]
  },
  {
   "cell_type": "code",
   "execution_count": 17,
   "metadata": {},
   "outputs": [
    {
     "ename": "SyntaxError",
     "evalue": "EOL while scanning string literal (<ipython-input-17-68d596fd0630>, line 1)",
     "output_type": "error",
     "traceback": [
      "\u001b[1;36m  File \u001b[1;32m\"<ipython-input-17-68d596fd0630>\"\u001b[1;36m, line \u001b[1;32m1\u001b[0m\n\u001b[1;33m    print(\"this is backslash\\\")\u001b[0m\n\u001b[1;37m                               ^\u001b[0m\n\u001b[1;31mSyntaxError\u001b[0m\u001b[1;31m:\u001b[0m EOL while scanning string literal\n"
     ]
    }
   ],
   "source": [
    "print(\"this is backslash\\\")"
   ]
  },
  {
   "cell_type": "code",
   "execution_count": 18,
   "metadata": {},
   "outputs": [
    {
     "name": "stdout",
     "output_type": "stream",
     "text": [
      "this is backslash \\\n"
     ]
    }
   ],
   "source": [
    "print(\"this is backslash \\\\\")"
   ]
  },
  {
   "cell_type": "code",
   "execution_count": 19,
   "metadata": {},
   "outputs": [
    {
     "name": "stdout",
     "output_type": "stream",
     "text": [
      "this is double backslash \\\\\n"
     ]
    }
   ],
   "source": [
    "print(\"this is double backslash \\\\\\\\\")"
   ]
  },
  {
   "cell_type": "code",
   "execution_count": 21,
   "metadata": {},
   "outputs": [
    {
     "name": "stdout",
     "output_type": "stream",
     "text": [
      "mannd\bi\n"
     ]
    }
   ],
   "source": [
    "print(\"mannd\\bi\")"
   ]
  },
  {
   "cell_type": "markdown",
   "metadata": {},
   "source": [
    "# Escape sequence as a normal text"
   ]
  },
  {
   "cell_type": "code",
   "execution_count": 24,
   "metadata": {},
   "outputs": [
    {
     "name": "stdout",
     "output_type": "stream",
     "text": [
      "manni \\n deol\n",
      "manni \\t deol\n",
      "this is double backslash \\\\\n"
     ]
    }
   ],
   "source": [
    "print(\"manni \\\\n deol\")\n",
    "print(\"manni \\\\t deol\")\n",
    "print(\"this is double backslash \\\\\\\\\")"
   ]
  },
  {
   "cell_type": "code",
   "execution_count": 25,
   "metadata": {},
   "outputs": [
    {
     "name": "stdout",
     "output_type": "stream",
     "text": [
      "\" ' \n"
     ]
    }
   ],
   "source": [
    "print(\"\\\" \\' \")"
   ]
  },
  {
   "cell_type": "code",
   "execution_count": 28,
   "metadata": {},
   "outputs": [
    {
     "name": "stdout",
     "output_type": "stream",
     "text": [
      " \\\" \\' \n"
     ]
    }
   ],
   "source": [
    "print(\" \\\\\\\" \\\\\\' \")   # \\' :- '\n",
    "                       # \\\\  :- \\\n",
    "                       # \\\\\\' :- \\'"
   ]
  },
  {
   "cell_type": "markdown",
   "metadata": {},
   "source": [
    "# chapter 1 Exercise 1"
   ]
  },
  {
   "cell_type": "raw",
   "metadata": {},
   "source": [
    "# print these following lines\n",
    "Q1> this is  \\\\ double backslash \n",
    "Q2> this is /\\/\\/\\/\\/\\ mountain\n",
    "Q3> he is    awesome.\n",
    "Q4> \\\" \\n \\t \\'"
   ]
  },
  {
   "cell_type": "code",
   "execution_count": 30,
   "metadata": {},
   "outputs": [
    {
     "name": "stdout",
     "output_type": "stream",
     "text": [
      "this is \\\\ double backslash\n"
     ]
    }
   ],
   "source": [
    "# Q1> this is  \\\\ double backslash \n",
    "print(\"this is \\\\\\\\ double backslash\")"
   ]
  },
  {
   "cell_type": "code",
   "execution_count": 31,
   "metadata": {},
   "outputs": [
    {
     "name": "stdout",
     "output_type": "stream",
     "text": [
      " /\\/\\/\\/\\/\\\n"
     ]
    }
   ],
   "source": [
    "#Q2> this is /\\/\\/\\/\\/\\ mountain\n",
    "print(\" /\\/\\/\\/\\/\\\\\")"
   ]
  },
  {
   "cell_type": "code",
   "execution_count": 34,
   "metadata": {},
   "outputs": [
    {
     "name": "stdout",
     "output_type": "stream",
     "text": [
      "he is\tawesome\n"
     ]
    }
   ],
   "source": [
    "#Q3> he is    awesome.\n",
    "print(\"he is\\tawesome\")"
   ]
  },
  {
   "cell_type": "code",
   "execution_count": 36,
   "metadata": {},
   "outputs": [
    {
     "name": "stdout",
     "output_type": "stream",
     "text": [
      "\\\" \\n \\t \\' \n"
     ]
    }
   ],
   "source": [
    "#Q4> \\\" \\n \\t \\'\n",
    "print(\"\\\\\\\" \\\\n \\\\t \\\\' \")"
   ]
  },
  {
   "cell_type": "raw",
   "metadata": {},
   "source": [
    "# short cut"
   ]
  },
  {
   "cell_type": "code",
   "execution_count": 37,
   "metadata": {},
   "outputs": [
    {
     "name": "stdout",
     "output_type": "stream",
     "text": [
      "manni \\n deol\n"
     ]
    }
   ],
   "source": [
    "print(\"manni \\\\n deol\")"
   ]
  },
  {
   "cell_type": "code",
   "execution_count": 38,
   "metadata": {},
   "outputs": [
    {
     "name": "stdout",
     "output_type": "stream",
     "text": [
      "manni \\n deol\n"
     ]
    }
   ],
   "source": [
    "print(r\"manni \\n deol\") # r is used same as \\\\n"
   ]
  },
  {
   "cell_type": "code",
   "execution_count": 39,
   "metadata": {},
   "outputs": [
    {
     "name": "stdout",
     "output_type": "stream",
     "text": [
      " this is \\\" \n"
     ]
    }
   ],
   "source": [
    "print(r\" this is \\\" \")"
   ]
  },
  {
   "cell_type": "markdown",
   "metadata": {},
   "source": [
    "# print emoji"
   ]
  },
  {
   "cell_type": "raw",
   "metadata": {},
   "source": [
    "# link https://unicode.org/emoji/charts/full-emoji-list.html\n",
    "#copy the unicode :- U+1F602 \n",
    "# while using in python replace + with 000"
   ]
  },
  {
   "cell_type": "code",
   "execution_count": 41,
   "metadata": {},
   "outputs": [
    {
     "name": "stdout",
     "output_type": "stream",
     "text": [
      "😂 \n"
     ]
    }
   ],
   "source": [
    "print(\"\\U0001F602 \")"
   ]
  },
  {
   "cell_type": "markdown",
   "metadata": {},
   "source": [
    "# python as a calculator"
   ]
  },
  {
   "cell_type": "raw",
   "metadata": {},
   "source": [
    "/ :-float division \n",
    "// :- Integer division\n",
    "%:- It gives remainder\n",
    "** :- exponent\n",
    "In python int(integer) and float are data types"
   ]
  },
  {
   "cell_type": "code",
   "execution_count": 43,
   "metadata": {},
   "outputs": [
    {
     "name": "stdout",
     "output_type": "stream",
     "text": [
      "0.5\n",
      "2.0\n"
     ]
    }
   ],
   "source": [
    "print(2/4)\n",
    "print(4/2)"
   ]
  },
  {
   "cell_type": "code",
   "execution_count": 45,
   "metadata": {},
   "outputs": [
    {
     "name": "stdout",
     "output_type": "stream",
     "text": [
      "2\n",
      "0\n"
     ]
    }
   ],
   "source": [
    "print(4//2)\n",
    "print(2//4)"
   ]
  },
  {
   "cell_type": "code",
   "execution_count": 47,
   "metadata": {},
   "outputs": [
    {
     "name": "stdout",
     "output_type": "stream",
     "text": [
      "8\n",
      "1.4142135623730951\n"
     ]
    }
   ],
   "source": [
    "print(2**3)\n",
    "print(2**0.5)"
   ]
  },
  {
   "cell_type": "markdown",
   "metadata": {},
   "source": [
    "# round function"
   ]
  },
  {
   "cell_type": "code",
   "execution_count": 49,
   "metadata": {
    "scrolled": true
   },
   "outputs": [
    {
     "name": "stdout",
     "output_type": "stream",
     "text": [
      "1.4142\n"
     ]
    }
   ],
   "source": [
    "print((round(2**0.5,4)))# round function "
   ]
  },
  {
   "cell_type": "markdown",
   "metadata": {},
   "source": [
    "# precedence rule"
   ]
  },
  {
   "cell_type": "raw",
   "metadata": {},
   "source": [
    "  OPERATOR                    PRECEDENCE AND ASSOCIATIVITY RULE\n",
    "\n",
    "  PARENTHESE                  HIGHEST\n",
    "  EXPONENT                    RIGHT TO LEFT\n",
    "  *,/,//,%                    LEFT TO RIGHT\n",
    "  +,-                         LEFT TO RIGHT  "
   ]
  },
  {
   "cell_type": "code",
   "execution_count": 51,
   "metadata": {},
   "outputs": [
    {
     "name": "stdout",
     "output_type": "stream",
     "text": [
      "512\n"
     ]
    }
   ],
   "source": [
    "print(2**3**2)# associativity right to left"
   ]
  },
  {
   "cell_type": "markdown",
   "metadata": {
    "collapsed": true
   },
   "source": [
    "# variable"
   ]
  },
  {
   "cell_type": "code",
   "execution_count": 1,
   "metadata": {},
   "outputs": [
    {
     "name": "stdout",
     "output_type": "stream",
     "text": [
      "manni\n"
     ]
    }
   ],
   "source": [
    "user_one_name=\"manni\" #snake case writting\n",
    "print(user_one_name)"
   ]
  },
  {
   "cell_type": "code",
   "execution_count": 4,
   "metadata": {},
   "outputs": [
    {
     "name": "stdout",
     "output_type": "stream",
     "text": [
      "userOneName\n"
     ]
    }
   ],
   "source": [
    "userOneName=\"manni\" #camle case writting(first letter small then capital)\n",
    "print(\"userOneName\")"
   ]
  },
  {
   "cell_type": "code",
   "execution_count": null,
   "metadata": {
    "collapsed": true
   },
   "outputs": [],
   "source": []
  }
 ],
 "metadata": {
  "kernelspec": {
   "display_name": "Python 3",
   "language": "python",
   "name": "python3"
  },
  "language_info": {
   "codemirror_mode": {
    "name": "ipython",
    "version": 3
   },
   "file_extension": ".py",
   "mimetype": "text/x-python",
   "name": "python",
   "nbconvert_exporter": "python",
   "pygments_lexer": "ipython3",
   "version": "3.6.1"
  }
 },
 "nbformat": 4,
 "nbformat_minor": 2
}
