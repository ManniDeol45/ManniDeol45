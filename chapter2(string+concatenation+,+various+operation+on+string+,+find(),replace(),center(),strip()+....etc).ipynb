{
 "cells": [
  {
   "cell_type": "markdown",
   "metadata": {},
   "source": [
    "# string"
   ]
  },
  {
   "cell_type": "markdown",
   "metadata": {},
   "source": [
    "# string concatenation"
   ]
  },
  {
   "cell_type": "code",
   "execution_count": 1,
   "metadata": {},
   "outputs": [
    {
     "name": "stdout",
     "output_type": "stream",
     "text": [
      "mannideol\n"
     ]
    }
   ],
   "source": [
    "first_name=\"manni\"\n",
    "last_name=\"deol\"\n",
    "name=first_name+last_name #string concatenation\n",
    "print(name)"
   ]
  },
  {
   "cell_type": "code",
   "execution_count": 2,
   "metadata": {},
   "outputs": [
    {
     "name": "stdout",
     "output_type": "stream",
     "text": [
      "manni deol\n"
     ]
    }
   ],
   "source": [
    "name=first_name+\" \"+last_name\n",
    "print(name)"
   ]
  },
  {
   "cell_type": "code",
   "execution_count": 3,
   "metadata": {},
   "outputs": [
    {
     "ename": "TypeError",
     "evalue": "must be str, not int",
     "output_type": "error",
     "traceback": [
      "\u001b[1;31m---------------------------------------------------------------------------\u001b[0m",
      "\u001b[1;31mTypeError\u001b[0m                                 Traceback (most recent call last)",
      "\u001b[1;32m<ipython-input-3-bd05f77d845f>\u001b[0m in \u001b[0;36m<module>\u001b[1;34m()\u001b[0m\n\u001b[1;32m----> 1\u001b[1;33m \u001b[0mprint\u001b[0m\u001b[1;33m(\u001b[0m\u001b[0mfirst_name\u001b[0m\u001b[1;33m+\u001b[0m\u001b[1;36m3\u001b[0m\u001b[1;33m)\u001b[0m\u001b[1;33m\u001b[0m\u001b[0m\n\u001b[0m",
      "\u001b[1;31mTypeError\u001b[0m: must be str, not int"
     ]
    }
   ],
   "source": [
    "print(first_name+3) #we can't add a no to string"
   ]
  },
  {
   "cell_type": "code",
   "execution_count": 6,
   "metadata": {},
   "outputs": [
    {
     "name": "stdout",
     "output_type": "stream",
     "text": [
      "manni3\n",
      "manni3\n"
     ]
    }
   ],
   "source": [
    "print(first_name+\"3\") \n",
    "print(first_name+str(3)) #str():-it convert data into string"
   ]
  },
  {
   "cell_type": "code",
   "execution_count": 7,
   "metadata": {},
   "outputs": [
    {
     "name": "stdout",
     "output_type": "stream",
     "text": [
      "mannimannimanni\n"
     ]
    }
   ],
   "source": [
    "print(first_name*3)"
   ]
  },
  {
   "cell_type": "markdown",
   "metadata": {},
   "source": [
    "# User Input"
   ]
  },
  {
   "cell_type": "raw",
   "metadata": {},
   "source": [
    "#input():-it takes input as a string"
   ]
  },
  {
   "cell_type": "code",
   "execution_count": 14,
   "metadata": {},
   "outputs": [
    {
     "name": "stdout",
     "output_type": "stream",
     "text": [
      "enter your name:manni\n",
      "my name ismanni\n",
      "my name is manni\n"
     ]
    }
   ],
   "source": [
    "name=input(\"enter your name:\")\n",
    "print(\"my name is\"+name) #here it takes input as a string\n",
    "print(\"my name is\"+\" \"+name) # here it concatenate name to string(my name is)."
   ]
  },
  {
   "cell_type": "code",
   "execution_count": 15,
   "metadata": {},
   "outputs": [
    {
     "name": "stdout",
     "output_type": "stream",
     "text": [
      "what is your age?19\n",
      "my age is: 19\n"
     ]
    }
   ],
   "source": [
    "age=input(\"what is your age?\") #19 :- \"19\"\n",
    "print(\"my age is:\"+\" \"+age) #you can only add a string to a string(not an int to string)"
   ]
  },
  {
   "cell_type": "raw",
   "metadata": {},
   "source": [
    "# here you enter 19 as int but input takes it as string(convert it to string)\n",
    "and print() concatenate string 19 to(my age is:)"
   ]
  },
  {
   "cell_type": "code",
   "execution_count": 1,
   "metadata": {},
   "outputs": [
    {
     "name": "stdout",
     "output_type": "stream",
     "text": [
      "enter first number :4\n",
      "enter second number:4\n",
      "total sum is:44\n"
     ]
    }
   ],
   "source": [
    "number_one=input(\"enter first number :\")\n",
    "number_two=input(\"enter second number:\")\n",
    "total=number_one+number_two\n",
    "print(\"total sum is:\"+total)"
   ]
  },
  {
   "cell_type": "markdown",
   "metadata": {},
   "source": [
    "# int() , float() ,str()"
   ]
  },
  {
   "cell_type": "code",
   "execution_count": 2,
   "metadata": {},
   "outputs": [
    {
     "name": "stdout",
     "output_type": "stream",
     "text": [
      "enter first number :4\n",
      "enter second number:4\n"
     ]
    },
    {
     "ename": "TypeError",
     "evalue": "must be str, not int",
     "output_type": "error",
     "traceback": [
      "\u001b[1;31m---------------------------------------------------------------------------\u001b[0m",
      "\u001b[1;31mTypeError\u001b[0m                                 Traceback (most recent call last)",
      "\u001b[1;32m<ipython-input-2-750ea9b4b78c>\u001b[0m in \u001b[0;36m<module>\u001b[1;34m()\u001b[0m\n\u001b[0;32m      2\u001b[0m \u001b[0mnumber_two\u001b[0m\u001b[1;33m=\u001b[0m\u001b[0mint\u001b[0m\u001b[1;33m(\u001b[0m\u001b[0minput\u001b[0m\u001b[1;33m(\u001b[0m\u001b[1;34m\"enter second number:\"\u001b[0m\u001b[1;33m)\u001b[0m\u001b[1;33m)\u001b[0m\u001b[1;33m\u001b[0m\u001b[0m\n\u001b[0;32m      3\u001b[0m \u001b[0mtotal\u001b[0m\u001b[1;33m=\u001b[0m\u001b[0mnumber_one\u001b[0m\u001b[1;33m+\u001b[0m\u001b[0mnumber_two\u001b[0m\u001b[1;33m\u001b[0m\u001b[0m\n\u001b[1;32m----> 4\u001b[1;33m \u001b[0mprint\u001b[0m\u001b[1;33m(\u001b[0m\u001b[1;34m\"total sum is:\"\u001b[0m\u001b[1;33m+\u001b[0m\u001b[0mtotal\u001b[0m\u001b[1;33m)\u001b[0m\u001b[1;33m\u001b[0m\u001b[0m\n\u001b[0m",
      "\u001b[1;31mTypeError\u001b[0m: must be str, not int"
     ]
    }
   ],
   "source": [
    "number_one=int(input(\"enter first number :\"))\n",
    "number_two=int(input(\"enter second number:\"))\n",
    "total=number_one+number_two\n",
    "print(\"total sum is:\"+total)"
   ]
  },
  {
   "cell_type": "code",
   "execution_count": 3,
   "metadata": {},
   "outputs": [
    {
     "name": "stdout",
     "output_type": "stream",
     "text": [
      "enter first number :4\n",
      "enter second number:4\n",
      "total sum is:8\n"
     ]
    }
   ],
   "source": [
    "number_one=int(input(\"enter first number :\"))\n",
    "number_two=int(input(\"enter second number:\"))\n",
    "total=number_one+number_two\n",
    "print(\"total sum is:\"+str(total))"
   ]
  },
  {
   "cell_type": "raw",
   "metadata": {},
   "source": [
    "# str:- 4--->\"4\" , int() :\"4\"--->4 , float :\"4\"--->4.0"
   ]
  },
  {
   "cell_type": "code",
   "execution_count": 4,
   "metadata": {},
   "outputs": [
    {
     "name": "stdout",
     "output_type": "stream",
     "text": [
      "8.0\n"
     ]
    }
   ],
   "source": [
    "number1=str(4)\n",
    "number2=int(\"4\")\n",
    "number3=float(\"4\")\n",
    "print(number2+number3)"
   ]
  },
  {
   "cell_type": "raw",
   "metadata": {},
   "source": [
    "# we can add int with float but output is float."
   ]
  },
  {
   "cell_type": "code",
   "execution_count": 8,
   "metadata": {},
   "outputs": [
    {
     "name": "stdout",
     "output_type": "stream",
     "text": [
      "4 5.0\n"
     ]
    }
   ],
   "source": [
    "n=int(4.67)\n",
    "s=float(5)\n",
    "print(n,s)"
   ]
  },
  {
   "cell_type": "markdown",
   "metadata": {},
   "source": [
    "# declaration and initialization of more than one variable in a one line"
   ]
  },
  {
   "cell_type": "code",
   "execution_count": 10,
   "metadata": {},
   "outputs": [
    {
     "ename": "TypeError",
     "evalue": "must be str, not int",
     "output_type": "error",
     "traceback": [
      "\u001b[1;31m---------------------------------------------------------------------------\u001b[0m",
      "\u001b[1;31mTypeError\u001b[0m                                 Traceback (most recent call last)",
      "\u001b[1;32m<ipython-input-10-9755302a9d78>\u001b[0m in \u001b[0;36m<module>\u001b[1;34m()\u001b[0m\n\u001b[0;32m      1\u001b[0m \u001b[0mname\u001b[0m\u001b[1;33m,\u001b[0m \u001b[0mage\u001b[0m\u001b[1;33m=\u001b[0m\u001b[1;34m\"manni\"\u001b[0m\u001b[1;33m,\u001b[0m\u001b[1;36m19\u001b[0m\u001b[1;33m\u001b[0m\u001b[0m\n\u001b[1;32m----> 2\u001b[1;33m \u001b[0mprint\u001b[0m\u001b[1;33m(\u001b[0m\u001b[1;34m\"my name is:\"\u001b[0m\u001b[1;33m+\u001b[0m\u001b[0mname\u001b[0m \u001b[1;33m,\u001b[0m \u001b[1;34m\"my age is:\"\u001b[0m\u001b[1;33m+\u001b[0m\u001b[0mage\u001b[0m\u001b[1;33m)\u001b[0m\u001b[1;33m\u001b[0m\u001b[0m\n\u001b[0m",
      "\u001b[1;31mTypeError\u001b[0m: must be str, not int"
     ]
    }
   ],
   "source": [
    "name, age=\"manni\",19\n",
    "print(\"my name is:\"+name , \"my age is:\"+age)"
   ]
  },
  {
   "cell_type": "code",
   "execution_count": 15,
   "metadata": {},
   "outputs": [
    {
     "name": "stdout",
     "output_type": "stream",
     "text": [
      "my name is:manni  my age is:19\n"
     ]
    }
   ],
   "source": [
    "name, age=\"manni\",\"19\"\n",
    "print(\"my name is:\"+name+\" \", \"my age is:\"+age)"
   ]
  },
  {
   "cell_type": "code",
   "execution_count": 16,
   "metadata": {},
   "outputs": [
    {
     "name": "stdout",
     "output_type": "stream",
     "text": [
      "2 2 2\n"
     ]
    }
   ],
   "source": [
    "x=y=z=2;\n",
    "print(x,y,z)"
   ]
  },
  {
   "cell_type": "markdown",
   "metadata": {},
   "source": [
    "# Two or more input in a one line"
   ]
  },
  {
   "cell_type": "code",
   "execution_count": 20,
   "metadata": {},
   "outputs": [
    {
     "name": "stdout",
     "output_type": "stream",
     "text": [
      "enter your name and age:manni 19\n",
      "manni 19\n"
     ]
    }
   ],
   "source": [
    "name,age=input(\"enter your name and age:\").split()#here you have to provide space\n",
    "print(name,age)"
   ]
  },
  {
   "cell_type": "code",
   "execution_count": 19,
   "metadata": {},
   "outputs": [
    {
     "name": "stdout",
     "output_type": "stream",
     "text": [
      "enter your name and age:manni,19\n",
      "manni 19\n"
     ]
    }
   ],
   "source": [
    "name,age=input(\"enter your name and age:\").split(\",\") #here in input you have to provide comma\n",
    "print(name,age)                                       #else you got an error"
   ]
  },
  {
   "cell_type": "markdown",
   "metadata": {},
   "source": [
    "# string formatting"
   ]
  },
  {
   "cell_type": "code",
   "execution_count": 24,
   "metadata": {},
   "outputs": [
    {
     "name": "stdout",
     "output_type": "stream",
     "text": [
      "my name is:manni  my age is:19\n",
      "my name is: manni  my age is: 19 \n",
      "my name is: manni  my age is: 23 \n"
     ]
    }
   ],
   "source": [
    "#python3\n",
    "name, age=\"manni\",19\n",
    "print(\"my name is:\"+name+\" \", \"my age is:\"+str(age))\n",
    "print(\"my name is: {}  my age is: {} \".format(name,age))\n",
    "print(\"my name is: {}  my age is: {} \".format(name,age+4))"
   ]
  },
  {
   "cell_type": "raw",
   "metadata": {},
   "source": [
    "#Here you need not worry about to convert int to string\n",
    "{}:-placeholder"
   ]
  },
  {
   "cell_type": "code",
   "execution_count": 28,
   "metadata": {},
   "outputs": [
    {
     "name": "stdout",
     "output_type": "stream",
     "text": [
      "my name is: manni  my age is: 19\n",
      "my name is: manni  my age is: 23\n"
     ]
    }
   ],
   "source": [
    "#python3.6\n",
    "print(f\"my name is: {name}  my age is: {age}\")\n",
    "print(f\"my name is: {name}  my age is: {age+4}\")"
   ]
  },
  {
   "cell_type": "raw",
   "metadata": {
    "collapsed": true
   },
   "source": [
    "# chapter 2 question\n",
    "ask user to input 3 number and you have to print average of 3 numbers using string formatting\n",
    "Bonus:-try to take all 3 comma seperated inputs in one line"
   ]
  },
  {
   "cell_type": "code",
   "execution_count": 20,
   "metadata": {},
   "outputs": [
    {
     "name": "stdout",
     "output_type": "stream",
     "text": [
      "enter 3 no2,3,4\n",
      "average of number is:3.0\n",
      "average of number is:3.0\n"
     ]
    }
   ],
   "source": [
    "number1,number2,number3=input(\"enter 3 no\").split(\",\")\n",
    "average=(int(number1)+int(number2)+int(number3))/3;\n",
    "print(\"average of number is:{}\".format(average))#python3\n",
    "print(f\"average of number is:{average}\")#puthon3.6"
   ]
  },
  {
   "cell_type": "markdown",
   "metadata": {},
   "source": [
    "# string indexing"
   ]
  },
  {
   "cell_type": "code",
   "execution_count": 3,
   "metadata": {
    "collapsed": true
   },
   "outputs": [],
   "source": [
    "language =\"python\""
   ]
  },
  {
   "cell_type": "raw",
   "metadata": {},
   "source": [
    "#position(index number) # negative indexing is used when you want to print last character and you \n",
    "p = 0   -6               do not know the length of string.\n",
    "y = 1   -5\n",
    "t = 2   -4\n",
    "h = 3   -3\n",
    "o = 4   -2\n",
    "n = 5   -1"
   ]
  },
  {
   "cell_type": "code",
   "execution_count": 4,
   "metadata": {},
   "outputs": [
    {
     "name": "stdout",
     "output_type": "stream",
     "text": [
      "t\n",
      "t\n"
     ]
    }
   ],
   "source": [
    "print(language[2])\n",
    "print(language[-4])"
   ]
  },
  {
   "cell_type": "markdown",
   "metadata": {},
   "source": [
    "# string slicing"
   ]
  },
  {
   "cell_type": "raw",
   "metadata": {},
   "source": [
    "print more than one character of string at a time."
   ]
  },
  {
   "cell_type": "markdown",
   "metadata": {},
   "source": [
    "# syntax:- [start argument : stop argument-1]"
   ]
  },
  {
   "cell_type": "code",
   "execution_count": 19,
   "metadata": {},
   "outputs": [
    {
     "name": "stdout",
     "output_type": "stream",
     "text": [
      "pyth\n",
      "pytho\n",
      "p\n",
      "pytho\n",
      "python\n",
      "python\n",
      "python\n",
      "pytho\n",
      "hon\n"
     ]
    }
   ],
   "source": [
    "print(language[0:4])# it include 0 but exclude 4th position.it print from 0th position to 3rd position.\n",
    "print(language[-6:-1])\n",
    "print(language[-6:1])\n",
    "print(language[0:5])\n",
    "print(language[0:6])\n",
    "print(language[:])\n",
    "print(language[0:])\n",
    "print(language[:5])\n",
    "print(language[3:])"
   ]
  },
  {
   "cell_type": "raw",
   "metadata": {},
   "source": [
    "# by default start argument is 0 and last is the last_index+1;\n",
    "it include start_argument but it will exclude last_argument i.e. it will print from start_argument to last_argument -1 ."
   ]
  },
  {
   "cell_type": "markdown",
   "metadata": {},
   "source": [
    "# step argument\n",
    "# syntax:-[start argument : stop argument-1: step]"
   ]
  },
  {
   "cell_type": "code",
   "execution_count": 26,
   "metadata": {},
   "outputs": [
    {
     "name": "stdout",
     "output_type": "stream",
     "text": [
      "mnie\n",
      "mnie\n",
      "mniel\n",
      "loedinnam\n"
     ]
    }
   ],
   "source": [
    "print(\"mannideol\"[0:8:2])\n",
    "print(\"mannideol\"[:8:2])\n",
    "print(\"mannideol\"[::2])\n",
    "print(\"mannideol\"[8::-1])# trick to reverse a string\n"
   ]
  },
  {
   "cell_type": "markdown",
   "metadata": {},
   "source": [
    "# trick to reverse a string"
   ]
  },
  {
   "cell_type": "code",
   "execution_count": 29,
   "metadata": {},
   "outputs": [
    {
     "name": "stdout",
     "output_type": "stream",
     "text": [
      "loedinnam\n",
      "loedinnam\n",
      "loedinnam\n"
     ]
    }
   ],
   "source": [
    "print(\"mannideol\"[8::-1])\n",
    "print(\"mannideol\"[-1: :-1])# trick to reverse a string\n",
    "print(\"mannideol\"[::-1])"
   ]
  },
  {
   "cell_type": "raw",
   "metadata": {},
   "source": [
    "#question2 :- ask user name and print back user name in reverse order\n",
    "Note:-try to make program your program in 2 lines using string formatting"
   ]
  },
  {
   "cell_type": "code",
   "execution_count": 28,
   "metadata": {},
   "outputs": [
    {
     "name": "stdout",
     "output_type": "stream",
     "text": [
      "enter your name:mannideol\n",
      "my name in reverse order is :loedinnam\n"
     ]
    }
   ],
   "source": [
    "name=input(\"enter your name:\")\n",
    "print(f\"my name in reverse order is :{name[-1::-1]}\")"
   ]
  },
  {
   "cell_type": "markdown",
   "metadata": {},
   "source": [
    "# string methods:-"
   ]
  },
  {
   "cell_type": "code",
   "execution_count": 30,
   "metadata": {},
   "outputs": [
    {
     "name": "stdout",
     "output_type": "stream",
     "text": [
      "10\n"
     ]
    }
   ],
   "source": [
    "#1> len():-function\n",
    "length=len(\"manni deol\")\n",
    "print(length)"
   ]
  },
  {
   "cell_type": "code",
   "execution_count": 32,
   "metadata": {},
   "outputs": [
    {
     "data": {
      "text/plain": [
       "'manni deol'"
      ]
     },
     "execution_count": 32,
     "metadata": {},
     "output_type": "execute_result"
    }
   ],
   "source": [
    "#2> lower() method\n",
    "name=\"ManNi dEoL\"\n",
    "name.lower()"
   ]
  },
  {
   "cell_type": "code",
   "execution_count": 3,
   "metadata": {},
   "outputs": [
    {
     "name": "stdout",
     "output_type": "stream",
     "text": [
      "manNi dEoL\n"
     ]
    }
   ],
   "source": [
    "#3> upper() method\n",
    "name=\"manNi dEoL\"\n",
    "name.upper()\n",
    "name[0].upper()\n",
    "print(name)"
   ]
  },
  {
   "cell_type": "code",
   "execution_count": 34,
   "metadata": {},
   "outputs": [
    {
     "data": {
      "text/plain": [
       "'Manni Deol'"
      ]
     },
     "execution_count": 34,
     "metadata": {},
     "output_type": "execute_result"
    }
   ],
   "source": [
    "#4> title() method  :-starting letter capital of words\n",
    "name=\"ManNi dEoL\"\n",
    "name.title()"
   ]
  },
  {
   "cell_type": "code",
   "execution_count": 39,
   "metadata": {},
   "outputs": [
    {
     "data": {
      "text/plain": [
       "1"
      ]
     },
     "execution_count": 39,
     "metadata": {},
     "output_type": "execute_result"
    }
   ],
   "source": [
    "#4> count() #it count no of occurence of a character in a string\n",
    "name=\"ManNi dEoLaa\"# it treats capital and small letter differntly\n",
    "name.count(\"n\")"
   ]
  },
  {
   "cell_type": "code",
   "execution_count": 40,
   "metadata": {},
   "outputs": [
    {
     "data": {
      "text/plain": [
       "3"
      ]
     },
     "execution_count": 40,
     "metadata": {},
     "output_type": "execute_result"
    }
   ],
   "source": [
    "name.count(\"a\")"
   ]
  },
  {
   "cell_type": "raw",
   "metadata": {},
   "source": [
    "#question 3:- take two comma seperated input from user\n",
    "1>user's name :eg:-\"manNideolnAN\"\n",
    "2>a single character: eg:-\"n\"\n",
    "\n",
    "#output :-2 print lines\n",
    "1>user's name length\n",
    "2>count the character that user inputed(bonus: case insensitive count)"
   ]
  },
  {
   "cell_type": "code",
   "execution_count": 49,
   "metadata": {},
   "outputs": [
    {
     "name": "stdout",
     "output_type": "stream",
     "text": [
      "enter your name and also a character which you want to count :manNideolnAN,n\n",
      "length of user name:12\n",
      "occurence of character 'n' in name is:4\n"
     ]
    }
   ],
   "source": [
    "name,char=input(\"enter your name and also a character which you want to count :\").split(\",\")\n",
    "length=len(name)\n",
    "print(f\"length of user name:{length}\")\n",
    "t=name.lower().count(\"n\")\n",
    "print(f\"occurence of character 'n' in name is:{t}\")"
   ]
  },
  {
   "cell_type": "code",
   "execution_count": 59,
   "metadata": {},
   "outputs": [
    {
     "name": "stdout",
     "output_type": "stream",
     "text": [
      "enter your name and also a character which you want to count :manNideolnAN,n\n",
      "length of user name:12\n",
      "occurence of character 'n' in name is:4\n"
     ]
    }
   ],
   "source": [
    "name,char=input(\"enter your name and also a character which you want to count :\").split(\",\")\n",
    "print(f\"length of user name:{len(name)}\")\n",
    "print(f\"occurence of character 'n' in name is:{name.lower().count(char.lower())}\")"
   ]
  },
  {
   "cell_type": "code",
   "execution_count": 1,
   "metadata": {},
   "outputs": [
    {
     "name": "stdout",
     "output_type": "stream",
     "text": [
      "enter your name and also a character which you want to count :manNideolnAN, n\n",
      "length of user name:12\n",
      "occurence of character 'n' in name is:0\n"
     ]
    }
   ],
   "source": [
    "name,char=input(\"enter your name and also a character which you want to count :\").split(\",\")\n",
    "print(f\"length of user name:{len(name)}\")\n",
    "print(f\"occurence of character 'n' in name is:{name.lower().count(char.lower())}\")"
   ]
  },
  {
   "cell_type": "raw",
   "metadata": {},
   "source": [
    "#here in above eg char 'n' count is 0 as at time of enter if we provide space then it conclude it also ('n'----> ' n').It searches ' n' space n not n.so occurence is zero. to remove spaces we study a new function."
   ]
  },
  {
   "cell_type": "code",
   "execution_count": 2,
   "metadata": {},
   "outputs": [
    {
     "name": "stdout",
     "output_type": "stream",
     "text": [
      "enter your name and also a character which you want to count :manNideolnAN   ,   N\n",
      "length of user name:15\n",
      "length of user name after removing spaces:12\n",
      "occurence of character 'n' in name is:4\n"
     ]
    }
   ],
   "source": [
    "name,char=input(\"enter your name and also a character which you want to count :\").split(\",\")\n",
    "print(f\"length of user name:{len(name)}\")\n",
    "print(f\"length of user name after removing spaces:{len(name.rstrip())}\")\n",
    "print(f\"occurence of character 'n' in name is:{name.strip().lower().count(char.strip().lower())}\")"
   ]
  },
  {
   "cell_type": "markdown",
   "metadata": {},
   "source": [
    "# strip() :- solve problem with spaces "
   ]
  },
  {
   "cell_type": "code",
   "execution_count": 3,
   "metadata": {},
   "outputs": [
    {
     "name": "stdout",
     "output_type": "stream",
     "text": [
      "               manni     ............  \n"
     ]
    }
   ],
   "source": [
    "name=\"               manni    \"\n",
    "dots=\" ............  \"\n",
    "print(name+dots)"
   ]
  },
  {
   "cell_type": "code",
   "execution_count": 5,
   "metadata": {},
   "outputs": [
    {
     "name": "stdout",
     "output_type": "stream",
     "text": [
      "manni     ............  \n"
     ]
    }
   ],
   "source": [
    "#lstrip():-remove left spaces.\n",
    "name=\"               manni    \"\n",
    "dots=\" ............  \"\n",
    "print(name.lstrip()+dots)"
   ]
  },
  {
   "cell_type": "code",
   "execution_count": 9,
   "metadata": {},
   "outputs": [
    {
     "name": "stdout",
     "output_type": "stream",
     "text": [
      "               manni ............  \n",
      "               manni............  \n"
     ]
    }
   ],
   "source": [
    "#rstrip():- remove right spaces\n",
    "print(name.rstrip()+dots)\n",
    "print(name.rstrip()+dots.lstrip())"
   ]
  },
  {
   "cell_type": "code",
   "execution_count": 10,
   "metadata": {},
   "outputs": [
    {
     "name": "stdout",
     "output_type": "stream",
     "text": [
      "manni............\n"
     ]
    }
   ],
   "source": [
    "#strip():- remove left and right spaces.\n",
    "print(name.strip()+dots.strip())"
   ]
  },
  {
   "cell_type": "code",
   "execution_count": 11,
   "metadata": {},
   "outputs": [
    {
     "name": "stdout",
     "output_type": "stream",
     "text": [
      "mann  ideol\n"
     ]
    }
   ],
   "source": [
    "name=\"  mann  ideol\"\n",
    "print(name.strip())"
   ]
  },
  {
   "cell_type": "raw",
   "metadata": {},
   "source": [
    "# It does not remove the middle spaces.\n",
    "so, we use replace() method which remove whole spaces."
   ]
  },
  {
   "cell_type": "code",
   "execution_count": 12,
   "metadata": {},
   "outputs": [
    {
     "name": "stdout",
     "output_type": "stream",
     "text": [
      "mannideol\n"
     ]
    }
   ],
   "source": [
    "print(name.replace(\" \",\"\"))"
   ]
  },
  {
   "cell_type": "markdown",
   "metadata": {},
   "source": [
    "# replace() and find() method"
   ]
  },
  {
   "cell_type": "code",
   "execution_count": 10,
   "metadata": {},
   "outputs": [
    {
     "name": "stdout",
     "output_type": "stream",
     "text": [
      "I was a good boy and i was good at study\n",
      "I was a good boy and i am good at study\n",
      "I was a good boy and i was good at study\n",
      "I was a good boy and i was good at study\n"
     ]
    }
   ],
   "source": [
    "# replace(old,new,count)\n",
    "string=\"I am a good boy and i am good at study\"\n",
    "print(string.replace(\"am\",\"was\"))\n",
    "print(string.replace(\"am\",\"was\",1))\n",
    "print(string.replace(\"am\",\"was\",2))\n",
    "print(string.replace(\"am\",\"was\",3))"
   ]
  },
  {
   "cell_type": "code",
   "execution_count": 16,
   "metadata": {},
   "outputs": [
    {
     "name": "stdout",
     "output_type": "stream",
     "text": [
      "2\n",
      "2\n",
      "22\n"
     ]
    }
   ],
   "source": [
    "#find()\n",
    "print(string.find(\"am\"))\n",
    "print(string.find(\"am\",1))\n",
    "print(string.find(\"am\",3))"
   ]
  },
  {
   "cell_type": "code",
   "execution_count": 19,
   "metadata": {},
   "outputs": [
    {
     "name": "stdout",
     "output_type": "stream",
     "text": [
      "22\n"
     ]
    }
   ],
   "source": [
    "# when we don't have knowledge of first am position and we have to find second am position.\n",
    "am_position=string.find(\"am\")\n",
    "print(string.find(\"am\",am_position+1))"
   ]
  },
  {
   "cell_type": "markdown",
   "metadata": {},
   "source": [
    "# center()"
   ]
  },
  {
   "cell_type": "code",
   "execution_count": 22,
   "metadata": {},
   "outputs": [
    {
     "name": "stdout",
     "output_type": "stream",
     "text": [
      "*manni*\n",
      "*manni**\n",
      "**manni**\n"
     ]
    }
   ],
   "source": [
    "name=\"manni\"\n",
    "print(name.center(7,\"*\"))\n",
    "print(name.center(8,\"*\"))\n",
    "print(name.center(9,\"*\"))"
   ]
  },
  {
   "cell_type": "code",
   "execution_count": 23,
   "metadata": {},
   "outputs": [
    {
     "name": "stdout",
     "output_type": "stream",
     "text": [
      "enter your name:manni\n",
      "****manni****\n"
     ]
    }
   ],
   "source": [
    "name=input(\"enter your name:\")\n",
    "print(name.center(len(name)+8,\"*\"))"
   ]
  },
  {
   "cell_type": "markdown",
   "metadata": {},
   "source": [
    "# string are immutable"
   ]
  },
  {
   "cell_type": "raw",
   "metadata": {},
   "source": [
    "# we can't change character in a string , we can assign it to new variable."
   ]
  },
  {
   "cell_type": "code",
   "execution_count": 25,
   "metadata": {},
   "outputs": [
    {
     "ename": "TypeError",
     "evalue": "'str' object does not support item assignment",
     "output_type": "error",
     "traceback": [
      "\u001b[1;31m---------------------------------------------------------------------------\u001b[0m",
      "\u001b[1;31mTypeError\u001b[0m                                 Traceback (most recent call last)",
      "\u001b[1;32m<ipython-input-25-fcfed776fff6>\u001b[0m in \u001b[0;36m<module>\u001b[1;34m()\u001b[0m\n\u001b[0;32m      1\u001b[0m \u001b[0mstring\u001b[0m\u001b[1;33m=\u001b[0m\u001b[1;34m\"manni\"\u001b[0m\u001b[1;33m\u001b[0m\u001b[0m\n\u001b[1;32m----> 2\u001b[1;33m \u001b[0mstring\u001b[0m\u001b[1;33m[\u001b[0m\u001b[1;36m2\u001b[0m\u001b[1;33m]\u001b[0m\u001b[1;33m=\u001b[0m\u001b[1;34m\"N\"\u001b[0m\u001b[1;33m\u001b[0m\u001b[0m\n\u001b[0m",
      "\u001b[1;31mTypeError\u001b[0m: 'str' object does not support item assignment"
     ]
    }
   ],
   "source": [
    "string=\"manni\"\n",
    "string[2]=\"N\""
   ]
  },
  {
   "cell_type": "code",
   "execution_count": 27,
   "metadata": {},
   "outputs": [
    {
     "name": "stdout",
     "output_type": "stream",
     "text": [
      "maNNi\n",
      "manni\n"
     ]
    }
   ],
   "source": [
    "string=\"manni\"\n",
    "print(string.replace(\"n\",\"N\"))\n",
    "print(string)"
   ]
  },
  {
   "cell_type": "raw",
   "metadata": {},
   "source": [
    "# this can be happen as replace method doesn't change the original string , it gives the new string as output."
   ]
  },
  {
   "cell_type": "code",
   "execution_count": 29,
   "metadata": {},
   "outputs": [
    {
     "name": "stdout",
     "output_type": "stream",
     "text": [
      "mannideol\n"
     ]
    }
   ],
   "source": [
    "new_string=string.replace(\"i\",\"ideol\")\n",
    "print(new_string)"
   ]
  },
  {
   "cell_type": "markdown",
   "metadata": {},
   "source": [
    "# some more assignment operator"
   ]
  },
  {
   "cell_type": "code",
   "execution_count": 31,
   "metadata": {},
   "outputs": [
    {
     "name": "stdout",
     "output_type": "stream",
     "text": [
      "mannideol\n"
     ]
    }
   ],
   "source": [
    "name=\"manni\"\n",
    "name=name+\"deol\"\n",
    "print(name)"
   ]
  },
  {
   "cell_type": "raw",
   "metadata": {},
   "source": [
    "#now some pepole might think that how we can change 'name' variable if string are immutable?\n",
    "remember in python we can change value of variable anytime.\n",
    "but other methods can not change our string or we can not change particulat character from string\n",
    "(immutability)"
   ]
  },
  {
   "cell_type": "code",
   "execution_count": 33,
   "metadata": {},
   "outputs": [
    {
     "name": "stdout",
     "output_type": "stream",
     "text": [
      "mannideol\n"
     ]
    }
   ],
   "source": [
    "name=\"manni\"\n",
    "name+=\"deol\"\n",
    "print(name)"
   ]
  },
  {
   "cell_type": "code",
   "execution_count": null,
   "metadata": {
    "collapsed": true
   },
   "outputs": [],
   "source": []
  }
 ],
 "metadata": {
  "kernelspec": {
   "display_name": "Python 3",
   "language": "python",
   "name": "python3"
  },
  "language_info": {
   "codemirror_mode": {
    "name": "ipython",
    "version": 3
   },
   "file_extension": ".py",
   "mimetype": "text/x-python",
   "name": "python",
   "nbconvert_exporter": "python",
   "pygments_lexer": "ipython3",
   "version": "3.6.1"
  }
 },
 "nbformat": 4,
 "nbformat_minor": 2
}
